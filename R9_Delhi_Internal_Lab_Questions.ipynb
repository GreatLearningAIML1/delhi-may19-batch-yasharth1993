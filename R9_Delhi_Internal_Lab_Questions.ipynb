{
  "nbformat": 4,
  "nbformat_minor": 0,
  "metadata": {
    "colab": {
      "name": "R9_Delhi_Internal_Lab_Questions.ipynb",
      "provenance": [],
      "collapsed_sections": []
    },
    "kernelspec": {
      "name": "python3",
      "display_name": "Python 3"
    }
  },
  "cells": [
    {
      "cell_type": "markdown",
      "metadata": {
        "id": "I-P5m4iA_xe7",
        "colab_type": "text"
      },
      "source": [
        "# Bounding box detection - Racoon data\n",
        "\n",
        "\n",
        "## Data files\n",
        "- images_racoon.rar: contain images of racoons\n",
        "- train_labels.cv: contains coordinates for bounding box for every image"
      ]
    },
    {
      "cell_type": "markdown",
      "metadata": {
        "colab_type": "text",
        "id": "d8M5gzwKWGiU"
      },
      "source": [
        "### Import the necessary libraries"
      ]
    },
    {
      "cell_type": "code",
      "metadata": {
        "colab_type": "code",
        "id": "VOMKpZJcWGiV",
        "colab": {
          "base_uri": "https://localhost:8080/",
          "height": 190
        },
        "outputId": "8471963a-e7de-46de-cc53-6cc3bf7aa81e"
      },
      "source": [
        "!pip install patool\n",
        "import patoolib\n",
        "patoolib.extract_archive('/content/drive/My Drive/Data Science/images_racoon.rar')\n",
        "import tensorflow as tf\n",
        "import csv\n",
        "import numpy as np\n",
        "from PIL import Image\n",
        "\n",
        "from keras import Model\n",
        "from keras.applications.mobilenet import MobileNet, preprocess_input\n",
        "from keras.callbacks import ModelCheckpoint, EarlyStopping, ReduceLROnPlateau, Callback\n",
        "from keras.layers import Conv2D, Reshape\n",
        "from keras.utils import Sequence\n",
        "from keras.backend import epsilon"
      ],
      "execution_count": 7,
      "outputs": [
        {
          "output_type": "stream",
          "text": [
            "Collecting patool\n",
            "\u001b[?25l  Downloading https://files.pythonhosted.org/packages/43/94/52243ddff508780dd2d8110964320ab4851134a55ab102285b46e740f76a/patool-1.12-py2.py3-none-any.whl (77kB)\n",
            "\r\u001b[K     |████▎                           | 10kB 18.4MB/s eta 0:00:01\r\u001b[K     |████████▌                       | 20kB 1.7MB/s eta 0:00:01\r\u001b[K     |████████████▊                   | 30kB 2.6MB/s eta 0:00:01\r\u001b[K     |█████████████████               | 40kB 1.7MB/s eta 0:00:01\r\u001b[K     |█████████████████████▏          | 51kB 2.1MB/s eta 0:00:01\r\u001b[K     |█████████████████████████▍      | 61kB 2.5MB/s eta 0:00:01\r\u001b[K     |█████████████████████████████▋  | 71kB 2.9MB/s eta 0:00:01\r\u001b[K     |████████████████████████████████| 81kB 2.5MB/s \n",
            "\u001b[?25hInstalling collected packages: patool\n",
            "Successfully installed patool-1.12\n",
            "patool: Extracting /content/drive/My Drive/Data Science/images_racoon.rar ...\n",
            "patool: running /usr/bin/unrar x -- \"/content/drive/My Drive/Data Science/images_racoon.rar\"\n",
            "patool:     with cwd='./Unpack_a6bt3l33'\n",
            "patool: ... /content/drive/My Drive/Data Science/images_racoon.rar extracted to `images'.\n"
          ],
          "name": "stdout"
        }
      ]
    },
    {
      "cell_type": "code",
      "metadata": {
        "id": "eaZthuYoOnF0",
        "colab_type": "code",
        "colab": {}
      },
      "source": [
        "import pandas as pd"
      ],
      "execution_count": 0,
      "outputs": []
    },
    {
      "cell_type": "markdown",
      "metadata": {
        "id": "Z_INIZOi_tUW",
        "colab_type": "text"
      },
      "source": [
        "### Change directory"
      ]
    },
    {
      "cell_type": "code",
      "metadata": {
        "id": "Sxgw3GT1AR9Y",
        "colab_type": "code",
        "colab": {
          "base_uri": "https://localhost:8080/",
          "height": 122
        },
        "outputId": "bd130adb-f4f5-4d38-eb48-b321994596b3"
      },
      "source": [
        "from google.colab import drive\n",
        "drive.mount('/content/drive')"
      ],
      "execution_count": 2,
      "outputs": [
        {
          "output_type": "stream",
          "text": [
            "Go to this URL in a browser: https://accounts.google.com/o/oauth2/auth?client_id=947318989803-6bn6qk8qdgf4n4g3pfee6491hc0brc4i.apps.googleusercontent.com&redirect_uri=urn%3aietf%3awg%3aoauth%3a2.0%3aoob&response_type=code&scope=email%20https%3a%2f%2fwww.googleapis.com%2fauth%2fdocs.test%20https%3a%2f%2fwww.googleapis.com%2fauth%2fdrive%20https%3a%2f%2fwww.googleapis.com%2fauth%2fdrive.photos.readonly%20https%3a%2f%2fwww.googleapis.com%2fauth%2fpeopleapi.readonly\n",
            "\n",
            "Enter your authorization code:\n",
            "··········\n",
            "Mounted at /content/drive\n"
          ],
          "name": "stdout"
        }
      ]
    },
    {
      "cell_type": "code",
      "metadata": {
        "id": "_X1H-zubN7rl",
        "colab_type": "code",
        "colab": {}
      },
      "source": [
        "import os\n",
        "os.chdir('/content/drive/My Drive/Data Science')"
      ],
      "execution_count": 0,
      "outputs": []
    },
    {
      "cell_type": "markdown",
      "metadata": {
        "colab_type": "text",
        "id": "lwxBtvYRWGii"
      },
      "source": [
        "### Load the training data from train.csv file"
      ]
    },
    {
      "cell_type": "code",
      "metadata": {
        "colab_type": "code",
        "id": "wiTjjKtpWGij",
        "colab": {}
      },
      "source": [
        "ALPHA = 1.0 # Width hyper parameter for MobileNet (0.25, 0.5, 0.75, 1.0). Higher width means more accurate but slower\n",
        "\n",
        "IMAGE_SIZE = 128 # MobileNet takes images of size 128*128*3 \n",
        "\n",
        "EPOCHS = 10 # Number of epochs. I got decent performance with just 5.\n",
        "BATCH_SIZE = 32 # Depends on your GPU or CPU RAM.\n",
        "\n",
        "DATASET_FOLDER = \"/content/drive/My Drive/Data Science/\"\n",
        "TRAIN_CSV = DATASET_FOLDER+\"train_labels.csv\"\n",
        "#VALIDATION_CSV = DATASET_FOLDER+\"validation.csv\"\n",
        "\n",
        "#images_zip_path = DATASET_FOLDER + \"images.zip\"\n",
        "\n",
        "#from zipfile import ZipFile"
      ],
      "execution_count": 0,
      "outputs": []
    },
    {
      "cell_type": "code",
      "metadata": {
        "id": "hVnsx39xPmZJ",
        "colab_type": "code",
        "colab": {}
      },
      "source": [
        ""
      ],
      "execution_count": 0,
      "outputs": []
    },
    {
      "cell_type": "markdown",
      "metadata": {
        "colab_type": "text",
        "id": "-F3CkYxUWGin"
      },
      "source": [
        "### Print the shape of the train dataset"
      ]
    },
    {
      "cell_type": "code",
      "metadata": {
        "colab_type": "code",
        "id": "uRz_MtnvWGip",
        "colab": {
          "base_uri": "https://localhost:8080/",
          "height": 34
        },
        "outputId": "d3afa140-2aba-4eef-ece6-aed636a14c4c"
      },
      "source": [
        "batch_images.shape"
      ],
      "execution_count": 30,
      "outputs": [
        {
          "output_type": "execute_result",
          "data": {
            "text/plain": [
              "(173, 128, 128, 3)"
            ]
          },
          "metadata": {
            "tags": []
          },
          "execution_count": 30
        }
      ]
    },
    {
      "cell_type": "markdown",
      "metadata": {
        "colab_type": "text",
        "id": "axf5m10eWGis"
      },
      "source": [
        "### Declare a variable IMAGE_SIZE = 128 as we will be using MobileNet which will be taking Input shape as 128 * 128 "
      ]
    },
    {
      "cell_type": "code",
      "metadata": {
        "colab_type": "code",
        "id": "7ayEk2c9WGit",
        "colab": {}
      },
      "source": [
        "IMAGE_SIZE = 128 # MobileNet takes images of size 128*128*3"
      ],
      "execution_count": 0,
      "outputs": []
    },
    {
      "cell_type": "markdown",
      "metadata": {
        "colab_type": "text",
        "id": "wbrrYb5IWGix"
      },
      "source": [
        "### With the help of csv.reader write a for loop which can load the train.csv file and store the path, width, height, x0,y0,x1,y1 in induvidual variables. <br>\n",
        "1. Create a list variable known as 'path' which has all the path for all the training images\n",
        "2. Create an array 'coords' which has the resized coordinates of the bounding box for the training images\n",
        "\n",
        "<u>Note:</u> All the training images should be downsampled to 128 * 128 as it is the input shape of MobileNet (which we will be using for Object detection). Hence the corresponding coordinates of the bounding boxes should be changed to match the image dimension of 128 * 128 "
      ]
    },
    {
      "cell_type": "code",
      "metadata": {
        "colab_type": "code",
        "id": "twSTiPpRWGiy",
        "colab": {}
      },
      "source": [
        "import csv\n",
        "with open(TRAIN_CSV, 'r') as csvfile:\n",
        "    paths = []\n",
        "    coords = np.zeros((sum(1 for line in csvfile)-1, 4))\n",
        "    reader = csv.reader(csvfile, delimiter=',')\n",
        "    csvfile.seek(0)\n",
        "    next(csvfile)\n",
        "    for col, row in enumerate(reader):\n",
        "        #print('row is',row)       \n",
        "        #for i, r in enumerate(row[1:7]): # Parse row with seven entities\n",
        "        #    row[i+1] = int(r)\n",
        "              \n",
        "        #path, image_height, image_width, x0, y0, x1, y1, _, _ = row \n",
        "        #print(row[0],row[2],row[1],row[4],row[5],row[6],row[7]) \n",
        "        path, image_height, image_width, x0, y0, x1, y1 = row[0],int(row[2]) ,int(row[1]),int(row[4]),int(row[5]),int(row[6]),int(row[7])  \n",
        "        #path = \"./\" + path.split('/')[-2] + \"/\" + path.split('/')[-1]\n",
        "        path = DATASET_FOLDER + 'images/' + path\n",
        "        coords[col, 0] = x0 * IMAGE_SIZE / image_width # Normalize bounding box by image size\n",
        "        coords[col, 1] = y0 * IMAGE_SIZE / image_height # Normalize bounding box by image size\n",
        "        coords[col, 2] = (x1 - x0) * IMAGE_SIZE / image_width # Normalize bounding box by image size\n",
        "        coords[col, 3] = (y1 - y0) * IMAGE_SIZE / image_height\n",
        "        paths.append(path)\n",
        "\n"
      ],
      "execution_count": 0,
      "outputs": []
    },
    {
      "cell_type": "code",
      "metadata": {
        "id": "yCiWJ022ZvJZ",
        "colab_type": "code",
        "colab": {
          "base_uri": "https://localhost:8080/",
          "height": 34
        },
        "outputId": "5743ac15-3571-4ecc-da06-75867e084e8e"
      },
      "source": [
        "reader.line_num"
      ],
      "execution_count": 46,
      "outputs": [
        {
          "output_type": "execute_result",
          "data": {
            "text/plain": [
              "173"
            ]
          },
          "metadata": {
            "tags": []
          },
          "execution_count": 46
        }
      ]
    },
    {
      "cell_type": "markdown",
      "metadata": {
        "colab_type": "text",
        "id": "Z9iZWEpKWGi2"
      },
      "source": [
        "### Write a for loop which can load all the training images into a variable 'batch_images' using the paths from the 'paths' variable\n",
        "<u>Note:</u> Convert the image to RGB scale as the MobileNet accepts 3 channels as inputs   "
      ]
    },
    {
      "cell_type": "code",
      "metadata": {
        "colab_type": "code",
        "id": "h6e99qquWGi3",
        "colab": {}
      },
      "source": [
        "batch_images = np.zeros((len(paths), IMAGE_SIZE, IMAGE_SIZE, 3), dtype=np.float32)\n",
        "for i, f in enumerate(paths):\n",
        "    #print('Iteration is :',i,f)\n",
        "    img = Image.open(f) # Read image\n",
        "    img = img.resize((IMAGE_SIZE, IMAGE_SIZE)) # Resize image\n",
        "    img = img.convert('RGB')\n",
        "    batch_images[i] = preprocess_input(np.array(img, dtype=np.float32))"
      ],
      "execution_count": 0,
      "outputs": []
    },
    {
      "cell_type": "markdown",
      "metadata": {
        "colab_type": "text",
        "id": "C9KU6pUTWGi9"
      },
      "source": [
        "### Import MobileNet and load MobileNet into a variable named 'model' which takes input shape of 128 * 128 * 3. Freeze all the layers. Add convolution and reshape layers at the end to ensure the output is 4 coordinates"
      ]
    },
    {
      "cell_type": "code",
      "metadata": {
        "colab_type": "code",
        "id": "nosEtf1lWGi-",
        "colab": {}
      },
      "source": [
        "model = MobileNet(input_shape=(IMAGE_SIZE, IMAGE_SIZE, 3), include_top=False, alpha=ALPHA) # Load pre-trained mobilenet\n",
        "# Do not include classification (top) layer\n",
        "\n",
        "# to freeze layers, except the new top layer, of course, which will be added below\n",
        "for layer in model.layers:\n",
        "    layer.trainable = False\n",
        "\n",
        "# Add new top layer which is a conv layer of the same size as the previous layer so that only 4 coords of BBox can be output\n",
        "x = model.layers[-1].output\n",
        "x = Conv2D(4, kernel_size=4, name=\"coords\")(x)\n",
        "# In the line above kernel size should be 3 for img size 96, 4 for img size 128, 5 for img size 160 etc.\n",
        "x = Reshape((4,))(x) # These are the 4 predicted coordinates of one BBox\n",
        "\n",
        "model = Model(inputs=model.input, outputs=x)"
      ],
      "execution_count": 0,
      "outputs": []
    },
    {
      "cell_type": "markdown",
      "metadata": {
        "colab_type": "text",
        "id": "nsQSHWgpWGjC"
      },
      "source": [
        "### Define a custom loss function IoU which calculates Intersection Over Union"
      ]
    },
    {
      "cell_type": "code",
      "metadata": {
        "colab_type": "code",
        "id": "7Ig_Gsn-WGjD",
        "colab": {}
      },
      "source": [
        "gt=coords\n",
        "def loss(gt,pred):\n",
        "    intersections = 0\n",
        "    unions = 0\n",
        "    diff_width = np.minimum(gt[:,0] + gt[:,2], pred[:,0] + pred[:,2]) - np.maximum(gt[:,0], pred[:,0])\n",
        "    diff_height = np.minimum(gt[:,1] + gt[:,3], pred[:,1] + pred[:,3]) - np.maximum(gt[:,1], pred[:,1])\n",
        "    intersection = diff_width * diff_height\n",
        "    \n",
        "    # Compute union\n",
        "    area_gt = gt[:,2] * gt[:,3]\n",
        "    area_pred = pred[:,2] * pred[:,3]\n",
        "    union = area_gt + area_pred - intersection\n",
        "\n",
        "#     Compute intersection and union over multiple boxes\n",
        "    for j, _ in enumerate(union):\n",
        "        if union[j] > 0 and intersection[j] > 0 and union[j] >= intersection[j]:\n",
        "            intersections += intersection[j]\n",
        "            unions += union[j]\n",
        "\n",
        "    # Compute IOU. Use epsilon to prevent division by zero\n",
        "    iou = np.round(intersections / (unions + epsilon()), 4)\n",
        "    iou = iou.astype(np.float32)\n",
        "    return iou\n",
        "\n",
        "def IoU(y_true, y_pred):\n",
        "    iou = tf.py_func(loss, [y_true, y_pred], tf.float32)\n",
        "    return iou"
      ],
      "execution_count": 0,
      "outputs": []
    },
    {
      "cell_type": "markdown",
      "metadata": {
        "colab_type": "text",
        "id": "2Zs7VcSVWGjF"
      },
      "source": [
        "### Write model.compile function & model.fit function with: <br>\n",
        "1. Optimizer = Adam, Loss = 'mse' and metrics = IoU\n",
        "2. Epochs = 30, batch_size = 32, verbose = 1"
      ]
    },
    {
      "cell_type": "code",
      "metadata": {
        "colab_type": "code",
        "id": "f35dLEJlWGjG",
        "colab": {
          "base_uri": "https://localhost:8080/",
          "height": 1000
        },
        "outputId": "94ae7be3-ad79-4682-b233-080256441ac8"
      },
      "source": [
        "model.compile(optimizer='Adam', loss='mse', metrics=[IoU]) # Regression loss is MSE\n",
        "\n",
        "#checkpoint = ModelCheckpoint(\"model-{val_iou:.2f}.h5\", verbose=1, save_best_only=True,\n",
        "#                              save_weights_only=True, mode=\"max\", period=1) # Checkpoint best validation model\n",
        "#stop = EarlyStopping(monitor=\"val_iou\", patience=PATIENCE, mode=\"max\") # Stop early, if the validation error deteriorates\n",
        "#reduce_lr = ReduceLROnPlateau(monitor=\"val_iou\", factor=0.2, patience=10, min_lr=1e-7, verbose=1, mode=\"max\")\n",
        "# Reduce learning rate if Validation IOU does not improve\n",
        "\n",
        "model.fit(batch_images,gt,epochs=30,batch_size = 32,verbose=1)"
      ],
      "execution_count": 51,
      "outputs": [
        {
          "output_type": "stream",
          "text": [
            "Epoch 1/30\n",
            "173/173 [==============================] - 6s 37ms/step - loss: 151.7732 - IoU: 0.7089\n",
            "Epoch 2/30\n",
            "173/173 [==============================] - 5s 30ms/step - loss: 98.8333 - IoU: 0.7705\n",
            "Epoch 3/30\n",
            "173/173 [==============================] - 5s 30ms/step - loss: 82.1949 - IoU: 0.7822\n",
            "Epoch 4/30\n",
            "173/173 [==============================] - 5s 30ms/step - loss: 88.0675 - IoU: 0.7893\n",
            "Epoch 5/30\n",
            "173/173 [==============================] - 5s 30ms/step - loss: 73.7772 - IoU: 0.8048\n",
            "Epoch 6/30\n",
            "173/173 [==============================] - 5s 30ms/step - loss: 65.6275 - IoU: 0.8211\n",
            "Epoch 7/30\n",
            "173/173 [==============================] - 5s 30ms/step - loss: 59.1742 - IoU: 0.8366\n",
            "Epoch 8/30\n",
            "173/173 [==============================] - 5s 30ms/step - loss: 62.6993 - IoU: 0.8338\n",
            "Epoch 9/30\n",
            "173/173 [==============================] - 5s 30ms/step - loss: 65.5333 - IoU: 0.8356\n",
            "Epoch 10/30\n",
            "173/173 [==============================] - 5s 30ms/step - loss: 59.6020 - IoU: 0.8443\n",
            "Epoch 11/30\n",
            "173/173 [==============================] - 5s 30ms/step - loss: 61.5185 - IoU: 0.8313\n",
            "Epoch 12/30\n",
            "173/173 [==============================] - 5s 30ms/step - loss: 60.3359 - IoU: 0.8407\n",
            "Epoch 13/30\n",
            "173/173 [==============================] - 5s 30ms/step - loss: 58.3643 - IoU: 0.8339\n",
            "Epoch 14/30\n",
            "173/173 [==============================] - 5s 30ms/step - loss: 67.0362 - IoU: 0.8221\n",
            "Epoch 15/30\n",
            "173/173 [==============================] - 5s 30ms/step - loss: 62.6490 - IoU: 0.8179\n",
            "Epoch 16/30\n",
            "173/173 [==============================] - 5s 30ms/step - loss: 60.6962 - IoU: 0.8311\n",
            "Epoch 17/30\n",
            "173/173 [==============================] - 5s 30ms/step - loss: 55.3661 - IoU: 0.8361\n",
            "Epoch 18/30\n",
            "173/173 [==============================] - 5s 30ms/step - loss: 60.8418 - IoU: 0.8447\n",
            "Epoch 19/30\n",
            "173/173 [==============================] - 5s 30ms/step - loss: 60.5571 - IoU: 0.8431\n",
            "Epoch 20/30\n",
            "173/173 [==============================] - 5s 30ms/step - loss: 55.7255 - IoU: 0.8408\n",
            "Epoch 21/30\n",
            "173/173 [==============================] - 5s 30ms/step - loss: 54.8546 - IoU: 0.8480\n",
            "Epoch 22/30\n",
            "173/173 [==============================] - 5s 30ms/step - loss: 58.3925 - IoU: 0.8471\n",
            "Epoch 23/30\n",
            "173/173 [==============================] - 5s 30ms/step - loss: 59.6781 - IoU: 0.8487\n",
            "Epoch 24/30\n",
            "173/173 [==============================] - 5s 30ms/step - loss: 56.0076 - IoU: 0.8516\n",
            "Epoch 25/30\n",
            "173/173 [==============================] - 5s 30ms/step - loss: 59.1805 - IoU: 0.8443\n",
            "Epoch 26/30\n",
            "173/173 [==============================] - 5s 31ms/step - loss: 58.1636 - IoU: 0.8474\n",
            "Epoch 27/30\n",
            "173/173 [==============================] - 5s 30ms/step - loss: 58.6509 - IoU: 0.8440\n",
            "Epoch 28/30\n",
            "173/173 [==============================] - 5s 30ms/step - loss: 54.4916 - IoU: 0.8414\n",
            "Epoch 29/30\n",
            "173/173 [==============================] - 5s 30ms/step - loss: 68.7289 - IoU: 0.8318\n",
            "Epoch 30/30\n",
            "173/173 [==============================] - 5s 30ms/step - loss: 60.6142 - IoU: 0.8382\n"
          ],
          "name": "stdout"
        },
        {
          "output_type": "execute_result",
          "data": {
            "text/plain": [
              "<keras.callbacks.History at 0x7f4600554cf8>"
            ]
          },
          "metadata": {
            "tags": []
          },
          "execution_count": 51
        }
      ]
    },
    {
      "cell_type": "markdown",
      "metadata": {
        "colab_type": "text",
        "id": "II1itmqiWGjK"
      },
      "source": [
        "### Pick a test image from the given data"
      ]
    },
    {
      "cell_type": "code",
      "metadata": {
        "colab_type": "code",
        "id": "0ULErYeSWGjK",
        "colab": {}
      },
      "source": [
        "# Pick a test image, run model, show image, and show predicted bounding box overlaid on the image\n",
        "import cv2\n",
        "filename = './images/raccoon-16.jpg'\n",
        "unscaled = cv2.imread(filename) # Original image for display"
      ],
      "execution_count": 0,
      "outputs": []
    },
    {
      "cell_type": "markdown",
      "metadata": {
        "colab_type": "text",
        "id": "h99SC9MjWGjO"
      },
      "source": [
        "### Resize the image to 128 * 128 and preprocess the image for the MobileNet model"
      ]
    },
    {
      "cell_type": "code",
      "metadata": {
        "colab_type": "code",
        "id": "J3jbKm7_WGjP",
        "colab": {}
      },
      "source": [
        "image_height, image_width, _ = unscaled.shape\n",
        "image = cv2.resize(unscaled, (IMAGE_SIZE, IMAGE_SIZE)) # Rescaled image to run the network\n",
        "feat_scaled = preprocess_input(np.array(image, dtype=np.float32))"
      ],
      "execution_count": 0,
      "outputs": []
    },
    {
      "cell_type": "markdown",
      "metadata": {
        "colab_type": "text",
        "id": "aGK4IjdaWGjR"
      },
      "source": [
        "### Predict the coordinates of the bounding box for the given test image"
      ]
    },
    {
      "cell_type": "code",
      "metadata": {
        "colab_type": "code",
        "id": "abnXH5F7WGjS",
        "colab": {
          "base_uri": "https://localhost:8080/",
          "height": 34
        },
        "outputId": "af8ce1a5-6d18-42fb-a08c-40fd20577654"
      },
      "source": [
        "region = model.predict(x=np.array([feat_scaled]))[0] # Predict the BBox\n",
        "region"
      ],
      "execution_count": 64,
      "outputs": [
        {
          "output_type": "execute_result",
          "data": {
            "text/plain": [
              "array([ 25.578983,  25.0077  ,  86.36996 , 109.52928 ], dtype=float32)"
            ]
          },
          "metadata": {
            "tags": []
          },
          "execution_count": 64
        }
      ]
    },
    {
      "cell_type": "markdown",
      "metadata": {
        "colab_type": "text",
        "id": "CXbjVdLWWGjW"
      },
      "source": [
        "### Plot the test image using .imshow and draw a boundary box around the image with the coordinates obtained from the model"
      ]
    },
    {
      "cell_type": "code",
      "metadata": {
        "colab_type": "code",
        "id": "t4Ah05MlWGjY",
        "colab": {
          "base_uri": "https://localhost:8080/",
          "height": 269
        },
        "outputId": "c8ecd842-d5cf-4a90-baab-5752b4aefeaf"
      },
      "source": [
        "x0 = int(region[0] * image_width / IMAGE_SIZE) # Scale the BBox\n",
        "y0 = int(region[1] * image_height / IMAGE_SIZE)\n",
        "\n",
        "x1 = int((region[2]) * image_width / IMAGE_SIZE)\n",
        "y1 = int((region[3]) * image_height / IMAGE_SIZE)\n",
        "\n",
        "\n",
        "import matplotlib.pyplot as plt\n",
        "import matplotlib.patches as patches\n",
        "from PIL import Image\n",
        "import numpy as np\n",
        "\n",
        "\n",
        "# Create figure and axes\n",
        "fig,ax = plt.subplots(1)\n",
        "\n",
        "# Display the image\n",
        "ax.imshow(unscaled)\n",
        "\n",
        "# Create a Rectangle patch\n",
        "rect = patches.Rectangle((x0, y0), (x1 - x0) , (y1 - y0) , linewidth=2, edgecolor='r', facecolor='none')\n",
        "\n",
        "# Add the patch to the Axes\n",
        "ax.add_patch(rect)\n",
        "\n",
        "plt.show()"
      ],
      "execution_count": 65,
      "outputs": [
        {
          "output_type": "display_data",
          "data": {
            "image/png": "[encoded data removed]",
            "text/plain": [
              "<Figure size 432x288 with 1 Axes>"
            ]
          },
          "metadata": {
            "tags": []
          }
        }
      ]
    },
    {
      "cell_type": "markdown",
      "metadata": {
        "id": "70uye82rMg3S",
        "colab_type": "text"
      },
      "source": [
        "# Time Series Prediction using LSTM"
      ]
    },
    {
      "cell_type": "markdown",
      "metadata": {
        "id": "CBdggSYjMg3U",
        "colab_type": "text"
      },
      "source": [
        "### Download Data\n",
        "Link: https://datamarket.com/data/set/2324/daily-minimum-temperatures-in-melbourne-australia-1981-1990#!ds=2324&display=line\n",
        "\n",
        "#### Description\n",
        "Daily minimum temperatures in Melbourne, Australia, 1981-1990\n",
        "\n",
        "Units: Degrees Celcius\n",
        "\n",
        "#### Steps before loading\n",
        "- Rename the column name with temprature values to \"Temprature\"\n",
        "- In the last, there is one extra row in the data, remove it by opening the file and save it again.\n",
        "- There are some values in Temprature column which have a \"?\" before them, they will give error, remove \"?\" before them and save the file\n",
        "- If you don't want to do these steps, just load the data file given by Great Learning."
      ]
    },
    {
      "cell_type": "markdown",
      "metadata": {
        "id": "xXaEyK4qMg3W",
        "colab_type": "text"
      },
      "source": [
        "#### Mount google drive"
      ]
    },
    {
      "cell_type": "code",
      "metadata": {
        "colab_type": "code",
        "id": "VjoLRSg57qlt",
        "colab": {
          "base_uri": "https://localhost:8080/",
          "height": 34
        },
        "outputId": "1046a77d-b30b-44ca-fab3-26058837dea9"
      },
      "source": [
        "from google.colab import drive\n",
        "drive.mount('/content/drive')"
      ],
      "execution_count": 67,
      "outputs": [
        {
          "output_type": "stream",
          "text": [
            "Drive already mounted at /content/drive; to attempt to forcibly remount, call drive.mount(\"/content/drive\", force_remount=True).\n"
          ],
          "name": "stdout"
        }
      ]
    },
    {
      "cell_type": "markdown",
      "metadata": {
        "id": "BghKtCKlMg3b",
        "colab_type": "text"
      },
      "source": [
        "#### Change your present working directory"
      ]
    },
    {
      "cell_type": "code",
      "metadata": {
        "id": "JOYCPgwJMg3c",
        "colab_type": "code",
        "colab": {}
      },
      "source": [
        "import os\n",
        "os.chdir('/content/drive/My Drive/Data Science')"
      ],
      "execution_count": 0,
      "outputs": []
    },
    {
      "cell_type": "markdown",
      "metadata": {
        "id": "UMP39JKEMg3f",
        "colab_type": "text"
      },
      "source": [
        "### Load your data file"
      ]
    },
    {
      "cell_type": "code",
      "metadata": {
        "colab_type": "code",
        "id": "AanHqGBu7Jw2",
        "colab": {}
      },
      "source": [
        "import pandas as pd\n",
        "import matplotlib.pyplot as plt\n"
      ],
      "execution_count": 0,
      "outputs": []
    },
    {
      "cell_type": "code",
      "metadata": {
        "id": "yiqLBCWyd8tm",
        "colab_type": "code",
        "colab": {
          "base_uri": "https://localhost:8080/",
          "height": 204
        },
        "outputId": "b39f5302-7904-4691-912d-c8077196650d"
      },
      "source": [
        "df = pd.read_csv('/content/drive/My Drive/Data Science/daily-minimum-temperatures-in-me.csv')\n",
        "df.head(5)"
      ],
      "execution_count": 70,
      "outputs": [
        {
          "output_type": "execute_result",
          "data": {
            "text/html": [
              "<div>\n",
              "<style scoped>\n",
              "    .dataframe tbody tr th:only-of-type {\n",
              "        vertical-align: middle;\n",
              "    }\n",
              "\n",
              "    .dataframe tbody tr th {\n",
              "        vertical-align: top;\n",
              "    }\n",
              "\n",
              "    .dataframe thead th {\n",
              "        text-align: right;\n",
              "    }\n",
              "</style>\n",
              "<table border=\"1\" class=\"dataframe\">\n",
              "  <thead>\n",
              "    <tr style=\"text-align: right;\">\n",
              "      <th></th>\n",
              "      <th>Date</th>\n",
              "      <th>Temperature</th>\n",
              "    </tr>\n",
              "  </thead>\n",
              "  <tbody>\n",
              "    <tr>\n",
              "      <th>0</th>\n",
              "      <td>1981-01-01</td>\n",
              "      <td>20.7</td>\n",
              "    </tr>\n",
              "    <tr>\n",
              "      <th>1</th>\n",
              "      <td>1981-01-02</td>\n",
              "      <td>17.9</td>\n",
              "    </tr>\n",
              "    <tr>\n",
              "      <th>2</th>\n",
              "      <td>1981-01-03</td>\n",
              "      <td>18.8</td>\n",
              "    </tr>\n",
              "    <tr>\n",
              "      <th>3</th>\n",
              "      <td>1981-01-04</td>\n",
              "      <td>14.6</td>\n",
              "    </tr>\n",
              "    <tr>\n",
              "      <th>4</th>\n",
              "      <td>1981-01-05</td>\n",
              "      <td>15.8</td>\n",
              "    </tr>\n",
              "  </tbody>\n",
              "</table>\n",
              "</div>"
            ],
            "text/plain": [
              "         Date  Temperature\n",
              "0  1981-01-01         20.7\n",
              "1  1981-01-02         17.9\n",
              "2  1981-01-03         18.8\n",
              "3  1981-01-04         14.6\n",
              "4  1981-01-05         15.8"
            ]
          },
          "metadata": {
            "tags": []
          },
          "execution_count": 70
        }
      ]
    },
    {
      "cell_type": "markdown",
      "metadata": {
        "id": "EAfx3bsQMg3j",
        "colab_type": "text"
      },
      "source": [
        "#### Plot data"
      ]
    },
    {
      "cell_type": "code",
      "metadata": {
        "id": "REU4UapqMg3k",
        "colab_type": "code",
        "colab": {
          "base_uri": "https://localhost:8080/",
          "height": 282
        },
        "outputId": "8f20ff9c-6155-4f87-8e4c-7c67bf2d9762"
      },
      "source": [
        "df.plot()"
      ],
      "execution_count": 72,
      "outputs": [
        {
          "output_type": "execute_result",
          "data": {
            "text/plain": [
              "<matplotlib.axes._subplots.AxesSubplot at 0x7f45f5234e10>"
            ]
          },
          "metadata": {
            "tags": []
          },
          "execution_count": 72
        },
        {
          "output_type": "display_data",
          "data": {
            "image/png": "[encoded data removed]",
            "text/plain": [
              "<Figure size 432x288 with 1 Axes>"
            ]
          },
          "metadata": {
            "tags": []
          }
        }
      ]
    },
    {
      "cell_type": "markdown",
      "metadata": {
        "id": "LWGBEOdNMg3n",
        "colab_type": "text"
      },
      "source": [
        "#### Descibe your dataframe"
      ]
    },
    {
      "cell_type": "code",
      "metadata": {
        "colab_type": "code",
        "id": "oBWNA_kG7JxC",
        "colab": {
          "base_uri": "https://localhost:8080/",
          "height": 297
        },
        "outputId": "c3e97c40-ebce-44c0-ab3d-f5f0efb74a91"
      },
      "source": [
        "df.describe()"
      ],
      "execution_count": 73,
      "outputs": [
        {
          "output_type": "execute_result",
          "data": {
            "text/html": [
              "<div>\n",
              "<style scoped>\n",
              "    .dataframe tbody tr th:only-of-type {\n",
              "        vertical-align: middle;\n",
              "    }\n",
              "\n",
              "    .dataframe tbody tr th {\n",
              "        vertical-align: top;\n",
              "    }\n",
              "\n",
              "    .dataframe thead th {\n",
              "        text-align: right;\n",
              "    }\n",
              "</style>\n",
              "<table border=\"1\" class=\"dataframe\">\n",
              "  <thead>\n",
              "    <tr style=\"text-align: right;\">\n",
              "      <th></th>\n",
              "      <th>Temperature</th>\n",
              "    </tr>\n",
              "  </thead>\n",
              "  <tbody>\n",
              "    <tr>\n",
              "      <th>count</th>\n",
              "      <td>3650.000000</td>\n",
              "    </tr>\n",
              "    <tr>\n",
              "      <th>mean</th>\n",
              "      <td>11.177753</td>\n",
              "    </tr>\n",
              "    <tr>\n",
              "      <th>std</th>\n",
              "      <td>4.071837</td>\n",
              "    </tr>\n",
              "    <tr>\n",
              "      <th>min</th>\n",
              "      <td>0.000000</td>\n",
              "    </tr>\n",
              "    <tr>\n",
              "      <th>25%</th>\n",
              "      <td>8.300000</td>\n",
              "    </tr>\n",
              "    <tr>\n",
              "      <th>50%</th>\n",
              "      <td>11.000000</td>\n",
              "    </tr>\n",
              "    <tr>\n",
              "      <th>75%</th>\n",
              "      <td>14.000000</td>\n",
              "    </tr>\n",
              "    <tr>\n",
              "      <th>max</th>\n",
              "      <td>26.300000</td>\n",
              "    </tr>\n",
              "  </tbody>\n",
              "</table>\n",
              "</div>"
            ],
            "text/plain": [
              "       Temperature\n",
              "count  3650.000000\n",
              "mean     11.177753\n",
              "std       4.071837\n",
              "min       0.000000\n",
              "25%       8.300000\n",
              "50%      11.000000\n",
              "75%      14.000000\n",
              "max      26.300000"
            ]
          },
          "metadata": {
            "tags": []
          },
          "execution_count": 73
        }
      ]
    },
    {
      "cell_type": "markdown",
      "metadata": {
        "id": "HlPYgFPLMg3r",
        "colab_type": "text"
      },
      "source": [
        "#### Check for null values"
      ]
    },
    {
      "cell_type": "code",
      "metadata": {
        "colab_type": "code",
        "id": "97MVIy_N7JxH",
        "colab": {
          "base_uri": "https://localhost:8080/",
          "height": 68
        },
        "outputId": "465f99a8-4d36-4237-c84a-94b6b4d881d7"
      },
      "source": [
        "df.isnull().sum()"
      ],
      "execution_count": 80,
      "outputs": [
        {
          "output_type": "execute_result",
          "data": {
            "text/plain": [
              "Date           0\n",
              "Temperature    0\n",
              "dtype: int64"
            ]
          },
          "metadata": {
            "tags": []
          },
          "execution_count": 80
        }
      ]
    },
    {
      "cell_type": "markdown",
      "metadata": {
        "id": "qo6HzStBMg3v",
        "colab_type": "text"
      },
      "source": [
        "#### Drop null values"
      ]
    },
    {
      "cell_type": "code",
      "metadata": {
        "colab_type": "code",
        "id": "fgh7mdOI7JxS",
        "colab": {
          "base_uri": "https://localhost:8080/",
          "height": 419
        },
        "outputId": "495f8bb1-0654-4a09-db77-5f6684d9cb4a"
      },
      "source": [
        "df.dropna()"
      ],
      "execution_count": 75,
      "outputs": [
        {
          "output_type": "execute_result",
          "data": {
            "text/html": [
              "<div>\n",
              "<style scoped>\n",
              "    .dataframe tbody tr th:only-of-type {\n",
              "        vertical-align: middle;\n",
              "    }\n",
              "\n",
              "    .dataframe tbody tr th {\n",
              "        vertical-align: top;\n",
              "    }\n",
              "\n",
              "    .dataframe thead th {\n",
              "        text-align: right;\n",
              "    }\n",
              "</style>\n",
              "<table border=\"1\" class=\"dataframe\">\n",
              "  <thead>\n",
              "    <tr style=\"text-align: right;\">\n",
              "      <th></th>\n",
              "      <th>Date</th>\n",
              "      <th>Temperature</th>\n",
              "    </tr>\n",
              "  </thead>\n",
              "  <tbody>\n",
              "    <tr>\n",
              "      <th>0</th>\n",
              "      <td>1981-01-01</td>\n",
              "      <td>20.7</td>\n",
              "    </tr>\n",
              "    <tr>\n",
              "      <th>1</th>\n",
              "      <td>1981-01-02</td>\n",
              "      <td>17.9</td>\n",
              "    </tr>\n",
              "    <tr>\n",
              "      <th>2</th>\n",
              "      <td>1981-01-03</td>\n",
              "      <td>18.8</td>\n",
              "    </tr>\n",
              "    <tr>\n",
              "      <th>3</th>\n",
              "      <td>1981-01-04</td>\n",
              "      <td>14.6</td>\n",
              "    </tr>\n",
              "    <tr>\n",
              "      <th>4</th>\n",
              "      <td>1981-01-05</td>\n",
              "      <td>15.8</td>\n",
              "    </tr>\n",
              "    <tr>\n",
              "      <th>...</th>\n",
              "      <td>...</td>\n",
              "      <td>...</td>\n",
              "    </tr>\n",
              "    <tr>\n",
              "      <th>3645</th>\n",
              "      <td>1990-12-27</td>\n",
              "      <td>14.0</td>\n",
              "    </tr>\n",
              "    <tr>\n",
              "      <th>3646</th>\n",
              "      <td>1990-12-28</td>\n",
              "      <td>13.6</td>\n",
              "    </tr>\n",
              "    <tr>\n",
              "      <th>3647</th>\n",
              "      <td>1990-12-29</td>\n",
              "      <td>13.5</td>\n",
              "    </tr>\n",
              "    <tr>\n",
              "      <th>3648</th>\n",
              "      <td>1990-12-30</td>\n",
              "      <td>15.7</td>\n",
              "    </tr>\n",
              "    <tr>\n",
              "      <th>3649</th>\n",
              "      <td>1990-12-31</td>\n",
              "      <td>13.0</td>\n",
              "    </tr>\n",
              "  </tbody>\n",
              "</table>\n",
              "<p>3650 rows × 2 columns</p>\n",
              "</div>"
            ],
            "text/plain": [
              "            Date  Temperature\n",
              "0     1981-01-01         20.7\n",
              "1     1981-01-02         17.9\n",
              "2     1981-01-03         18.8\n",
              "3     1981-01-04         14.6\n",
              "4     1981-01-05         15.8\n",
              "...          ...          ...\n",
              "3645  1990-12-27         14.0\n",
              "3646  1990-12-28         13.6\n",
              "3647  1990-12-29         13.5\n",
              "3648  1990-12-30         15.7\n",
              "3649  1990-12-31         13.0\n",
              "\n",
              "[3650 rows x 2 columns]"
            ]
          },
          "metadata": {
            "tags": []
          },
          "execution_count": 75
        }
      ]
    },
    {
      "cell_type": "markdown",
      "metadata": {
        "id": "LcJgcz37Mg30",
        "colab_type": "text"
      },
      "source": [
        "#### Get the representation of the distribution of data in the form of histogram\n",
        "\n",
        "> Indented block\n",
        "\n"
      ]
    },
    {
      "cell_type": "code",
      "metadata": {
        "colab_type": "code",
        "id": "659sLAx27Jxc",
        "colab": {
          "base_uri": "https://localhost:8080/",
          "height": 281
        },
        "outputId": "34237e25-fa0c-4616-9bd7-8d81bbc31640"
      },
      "source": [
        "hist = df.hist()"
      ],
      "execution_count": 76,
      "outputs": [
        {
          "output_type": "display_data",
          "data": {
            "image/png": "[encoded data removed]",
            "text/plain": [
              "<Figure size 432x288 with 1 Axes>"
            ]
          },
          "metadata": {
            "tags": []
          }
        }
      ]
    },
    {
      "cell_type": "markdown",
      "metadata": {
        "id": "GpH88qtBMg34",
        "colab_type": "text"
      },
      "source": [
        "#### Check the maximum and minimum values"
      ]
    },
    {
      "cell_type": "code",
      "metadata": {
        "colab_type": "code",
        "id": "WmkjCx8c7Jxn",
        "colab": {
          "base_uri": "https://localhost:8080/",
          "height": 34
        },
        "outputId": "3c39d46e-bba7-4c99-bf7e-baf5127b4eb1"
      },
      "source": [
        "print(df['Temperature'].min() , df['Temperature'].max())"
      ],
      "execution_count": 81,
      "outputs": [
        {
          "output_type": "stream",
          "text": [
            "0.0 26.3\n"
          ],
          "name": "stdout"
        }
      ]
    },
    {
      "cell_type": "markdown",
      "metadata": {
        "id": "AQVmR3ENMg37",
        "colab_type": "text"
      },
      "source": [
        "### Normalize the data"
      ]
    },
    {
      "cell_type": "code",
      "metadata": {
        "colab_type": "code",
        "id": "fb4SNzD27Jxw",
        "colab": {}
      },
      "source": [
        "from sklearn.preprocessing import MinMaxScaler"
      ],
      "execution_count": 0,
      "outputs": []
    },
    {
      "cell_type": "code",
      "metadata": {
        "id": "K2E2S5TonuWJ",
        "colab_type": "code",
        "colab": {}
      },
      "source": [
        "df.drop('Date',axis=1,inplace=True)\n",
        "#Normalize the data\n",
        "scaler = MinMaxScaler(feature_range=(0, 1))\n",
        "scaled = scaler.fit_transform(df)"
      ],
      "execution_count": 0,
      "outputs": []
    },
    {
      "cell_type": "markdown",
      "metadata": {
        "id": "Amc8j4P-Mg3-",
        "colab_type": "text"
      },
      "source": [
        "#### Check the maximum and minimum values of scaled data"
      ]
    },
    {
      "cell_type": "code",
      "metadata": {
        "colab_type": "code",
        "id": "clv2rSfL7Jx4",
        "colab": {
          "base_uri": "https://localhost:8080/",
          "height": 34
        },
        "outputId": "c3966cf0-55e9-485c-e67b-2c76b0f44899"
      },
      "source": [
        "print(scaled.max(),scaled.min())\n"
      ],
      "execution_count": 96,
      "outputs": [
        {
          "output_type": "stream",
          "text": [
            "1.0 0.0\n"
          ],
          "name": "stdout"
        }
      ]
    },
    {
      "cell_type": "markdown",
      "metadata": {
        "id": "mPwfKLsbMg4B",
        "colab_type": "text"
      },
      "source": [
        "#### Look into some of the scaled values"
      ]
    },
    {
      "cell_type": "code",
      "metadata": {
        "colab_type": "code",
        "id": "Xq9CBinO7Jx9",
        "colab": {
          "base_uri": "https://localhost:8080/",
          "height": 136
        },
        "outputId": "3bd92f2e-0935-412c-bc01-ede922830626"
      },
      "source": [
        "scaled"
      ],
      "execution_count": 99,
      "outputs": [
        {
          "output_type": "execute_result",
          "data": {
            "text/plain": [
              "array([[0.78707224],\n",
              "       [0.68060837],\n",
              "       [0.7148289 ],\n",
              "       ...,\n",
              "       [0.51330798],\n",
              "       [0.59695817],\n",
              "       [0.49429658]])"
            ]
          },
          "metadata": {
            "tags": []
          },
          "execution_count": 99
        }
      ]
    },
    {
      "cell_type": "markdown",
      "metadata": {
        "id": "4i6aEeORMg4F",
        "colab_type": "text"
      },
      "source": [
        "### Split data into Training and Testing"
      ]
    },
    {
      "cell_type": "code",
      "metadata": {
        "colab_type": "code",
        "id": "-0Uh7lCO7JyD",
        "colab": {}
      },
      "source": [
        "#70% examples will used for training (in the begining)\n",
        "train_size = int(len(scaled) * 0.70)\n",
        "\n",
        "#30% will be used for Test\n",
        "test_size = len(scaled - train_size)"
      ],
      "execution_count": 0,
      "outputs": []
    },
    {
      "cell_type": "markdown",
      "metadata": {
        "id": "MYxgFlAHMg4I",
        "colab_type": "text"
      },
      "source": [
        "#### Print train and test size"
      ]
    },
    {
      "cell_type": "code",
      "metadata": {
        "id": "T9pRem3FMg4J",
        "colab_type": "code",
        "colab": {
          "base_uri": "https://localhost:8080/",
          "height": 51
        },
        "outputId": "d6ce055d-199c-4330-8877-0d3d4e53cce0"
      },
      "source": [
        "#Split the data\n",
        "train, test = scaled[0:train_size, :], scaled[train_size: len(scaled), :]\n",
        "print('train: {}\\ntest: {}'.format(len(train), len(test)))"
      ],
      "execution_count": 102,
      "outputs": [
        {
          "output_type": "stream",
          "text": [
            "train: 2555\n",
            "test: 1095\n"
          ],
          "name": "stdout"
        }
      ]
    },
    {
      "cell_type": "markdown",
      "metadata": {
        "id": "-UKovqKBMg4L",
        "colab_type": "text"
      },
      "source": [
        "## Create the sequential data\n",
        "Map the temprature at a particular time t to the temprature at time t+n, where n is any number you define.\n",
        "\n",
        "For example: to map tempratures of consecutive days, use t+1, i.e. loop_back = 1"
      ]
    },
    {
      "cell_type": "markdown",
      "metadata": {
        "id": "m7uoSqtKMg4M",
        "colab_type": "text"
      },
      "source": [
        "#### Define your function to create dataset"
      ]
    },
    {
      "cell_type": "code",
      "metadata": {
        "colab_type": "code",
        "id": "jWIvInPB7JyK",
        "colab": {}
      },
      "source": [
        "#window - how long the sequence will be\n",
        "def create_dataset(dataset, window=1):\n",
        "    \n",
        "    dataX, dataY = [], []\n",
        "    \n",
        "    for i in range(len(dataset)-window):\n",
        "        \n",
        "        a = dataset[i:(i+window), 0]        \n",
        "        dataX.append(a)\n",
        "        dataY.append(dataset[i + window, 0])\n",
        "    \n",
        "    return np.array(dataX), np.array(dataY)"
      ],
      "execution_count": 0,
      "outputs": []
    },
    {
      "cell_type": "markdown",
      "metadata": {
        "id": "WePfiYR6Mg4R",
        "colab_type": "text"
      },
      "source": [
        "#### Use function to get training and test set"
      ]
    },
    {
      "cell_type": "code",
      "metadata": {
        "colab_type": "code",
        "id": "uarOJcPk7JyQ",
        "scrolled": true,
        "colab": {}
      },
      "source": [
        "#Create Input and Output\n",
        "window_size = 1\n",
        "X_train, y_train = create_dataset(train, window_size)\n",
        "X_test, y_test = create_dataset(test, window_size)"
      ],
      "execution_count": 0,
      "outputs": []
    },
    {
      "cell_type": "markdown",
      "metadata": {
        "id": "w_vztTvsMg4X",
        "colab_type": "text"
      },
      "source": [
        "#### Transform the prepared train and test input data into the expected structure using numpy.reshape()"
      ]
    },
    {
      "cell_type": "code",
      "metadata": {
        "colab_type": "code",
        "id": "UJZ4VB4N7JyV",
        "colab": {
          "base_uri": "https://localhost:8080/",
          "height": 51
        },
        "outputId": "e81cc2d2-0f89-4fbb-d3c2-31305266f1fc"
      },
      "source": [
        "#Make it 3 Dimensional Data - needed for LSTM\n",
        "X_train = np.reshape(X_train, (X_train.shape[0], X_train.shape[1], 1))\n",
        "X_test = np.reshape(X_test, (X_test.shape[0], X_test.shape[1], 1))\n",
        "print(X_train.shape)\n",
        "print(X_test.shape)"
      ],
      "execution_count": 105,
      "outputs": [
        {
          "output_type": "stream",
          "text": [
            "(2554, 1, 1)\n",
            "(1094, 1, 1)\n"
          ],
          "name": "stdout"
        }
      ]
    },
    {
      "cell_type": "markdown",
      "metadata": {
        "id": "2ApGy3FBMg4a",
        "colab_type": "text"
      },
      "source": [
        "## Define Model"
      ]
    },
    {
      "cell_type": "markdown",
      "metadata": {
        "id": "kx0ctZLiMg4b",
        "colab_type": "text"
      },
      "source": [
        "### Define sequntial model, add LSTM layer and compile the model"
      ]
    },
    {
      "cell_type": "code",
      "metadata": {
        "colab_type": "code",
        "id": "yRW-Txvt7Jya",
        "colab": {}
      },
      "source": [
        "import tensorflow as tf"
      ],
      "execution_count": 0,
      "outputs": []
    },
    {
      "cell_type": "code",
      "metadata": {
        "id": "5GHjQN7TqMt2",
        "colab_type": "code",
        "colab": {
          "base_uri": "https://localhost:8080/",
          "height": 88
        },
        "outputId": "3547ebfc-82f8-4820-d274-9deb391962aa"
      },
      "source": [
        "tf.keras.backend.clear_session()\n",
        "model = tf.keras.Sequential()\n",
        "model.add(tf.keras.layers.LSTM(32, input_shape=(window_size, 1)))\n",
        "model.add(tf.keras.layers.Dense(1))\n",
        "model.compile(optimizer='adam', loss='mse')"
      ],
      "execution_count": 107,
      "outputs": [
        {
          "output_type": "stream",
          "text": [
            "WARNING:tensorflow:From /usr/local/lib/python3.6/dist-packages/tensorflow_core/python/ops/resource_variable_ops.py:1630: calling BaseResourceVariable.__init__ (from tensorflow.python.ops.resource_variable_ops) with constraint is deprecated and will be removed in a future version.\n",
            "Instructions for updating:\n",
            "If using Keras pass *_constraint arguments to layers.\n"
          ],
          "name": "stdout"
        }
      ]
    },
    {
      "cell_type": "markdown",
      "metadata": {
        "id": "zyAxLVdxMg4f",
        "colab_type": "text"
      },
      "source": [
        "### Summarize your model"
      ]
    },
    {
      "cell_type": "code",
      "metadata": {
        "id": "0I_UO7GOMg4g",
        "colab_type": "code",
        "colab": {}
      },
      "source": [
        "model.summary()"
      ],
      "execution_count": 0,
      "outputs": []
    },
    {
      "cell_type": "markdown",
      "metadata": {
        "id": "orlJW-1_Mg4j",
        "colab_type": "text"
      },
      "source": [
        "### Train the model"
      ]
    },
    {
      "cell_type": "code",
      "metadata": {
        "id": "yyzESxsmMg4j",
        "colab_type": "code",
        "colab": {
          "base_uri": "https://localhost:8080/",
          "height": 1000
        },
        "outputId": "2fcdb43b-d9e2-4427-d0e0-334f26071bdf"
      },
      "source": [
        "model.fit(X_train, y_train, epochs=200, validation_data=(X_test, y_test), batch_size=32)"
      ],
      "execution_count": 109,
      "outputs": [
        {
          "output_type": "stream",
          "text": [
            "Train on 2554 samples, validate on 1094 samples\n",
            "Epoch 1/200\n",
            "2554/2554 [==============================] - 0s 126us/sample - loss: 0.0100 - val_loss: 0.0088\n",
            "Epoch 2/200\n",
            "2554/2554 [==============================] - 0s 112us/sample - loss: 0.0100 - val_loss: 0.0087\n",
            "Epoch 3/200\n",
            "2554/2554 [==============================] - 0s 107us/sample - loss: 0.0100 - val_loss: 0.0087\n",
            "Epoch 4/200\n",
            "2554/2554 [==============================] - 0s 108us/sample - loss: 0.0100 - val_loss: 0.0087\n",
            "Epoch 5/200\n",
            "2554/2554 [==============================] - 0s 108us/sample - loss: 0.0100 - val_loss: 0.0087\n",
            "Epoch 6/200\n",
            "2554/2554 [==============================] - 0s 109us/sample - loss: 0.0100 - val_loss: 0.0088\n",
            "Epoch 7/200\n",
            "2554/2554 [==============================] - 0s 108us/sample - loss: 0.0100 - val_loss: 0.0087\n",
            "Epoch 8/200\n",
            "2554/2554 [==============================] - 0s 112us/sample - loss: 0.0100 - val_loss: 0.0089\n",
            "Epoch 9/200\n",
            "2554/2554 [==============================] - 0s 117us/sample - loss: 0.0099 - val_loss: 0.0088\n",
            "Epoch 10/200\n",
            "2554/2554 [==============================] - 0s 111us/sample - loss: 0.0100 - val_loss: 0.0088\n",
            "Epoch 11/200\n",
            "2554/2554 [==============================] - 0s 106us/sample - loss: 0.0100 - val_loss: 0.0087\n",
            "Epoch 12/200\n",
            "2554/2554 [==============================] - 0s 110us/sample - loss: 0.0099 - val_loss: 0.0089\n",
            "Epoch 13/200\n",
            "2554/2554 [==============================] - 0s 110us/sample - loss: 0.0100 - val_loss: 0.0087\n",
            "Epoch 14/200\n",
            "2554/2554 [==============================] - 0s 117us/sample - loss: 0.0100 - val_loss: 0.0088\n",
            "Epoch 15/200\n",
            "2554/2554 [==============================] - 0s 116us/sample - loss: 0.0100 - val_loss: 0.0087\n",
            "Epoch 16/200\n",
            "2554/2554 [==============================] - 0s 117us/sample - loss: 0.0100 - val_loss: 0.0087\n",
            "Epoch 17/200\n",
            "2554/2554 [==============================] - 0s 114us/sample - loss: 0.0100 - val_loss: 0.0087\n",
            "Epoch 18/200\n",
            "2554/2554 [==============================] - 0s 112us/sample - loss: 0.0100 - val_loss: 0.0088\n",
            "Epoch 19/200\n",
            "2554/2554 [==============================] - 0s 113us/sample - loss: 0.0100 - val_loss: 0.0087\n",
            "Epoch 20/200\n",
            "2554/2554 [==============================] - 0s 113us/sample - loss: 0.0100 - val_loss: 0.0087\n",
            "Epoch 21/200\n",
            "2554/2554 [==============================] - 0s 111us/sample - loss: 0.0100 - val_loss: 0.0087\n",
            "Epoch 22/200\n",
            "2554/2554 [==============================] - 0s 109us/sample - loss: 0.0100 - val_loss: 0.0087\n",
            "Epoch 23/200\n",
            "2554/2554 [==============================] - 0s 106us/sample - loss: 0.0100 - val_loss: 0.0088\n",
            "Epoch 24/200\n",
            "2554/2554 [==============================] - 0s 114us/sample - loss: 0.0099 - val_loss: 0.0087\n",
            "Epoch 25/200\n",
            "2554/2554 [==============================] - 0s 120us/sample - loss: 0.0100 - val_loss: 0.0087\n",
            "Epoch 26/200\n",
            "2554/2554 [==============================] - 0s 114us/sample - loss: 0.0100 - val_loss: 0.0087\n",
            "Epoch 27/200\n",
            "2554/2554 [==============================] - 0s 110us/sample - loss: 0.0100 - val_loss: 0.0087\n",
            "Epoch 28/200\n",
            "2554/2554 [==============================] - 0s 108us/sample - loss: 0.0100 - val_loss: 0.0088\n",
            "Epoch 29/200\n",
            "2554/2554 [==============================] - 0s 111us/sample - loss: 0.0100 - val_loss: 0.0087\n",
            "Epoch 30/200\n",
            "2554/2554 [==============================] - 0s 111us/sample - loss: 0.0100 - val_loss: 0.0088\n",
            "Epoch 31/200\n",
            "2554/2554 [==============================] - 0s 119us/sample - loss: 0.0099 - val_loss: 0.0089\n",
            "Epoch 32/200\n",
            "2554/2554 [==============================] - 0s 113us/sample - loss: 0.0100 - val_loss: 0.0088\n",
            "Epoch 33/200\n",
            "2554/2554 [==============================] - 0s 107us/sample - loss: 0.0100 - val_loss: 0.0087\n",
            "Epoch 34/200\n",
            "2554/2554 [==============================] - 0s 112us/sample - loss: 0.0099 - val_loss: 0.0087\n",
            "Epoch 35/200\n",
            "2554/2554 [==============================] - 0s 113us/sample - loss: 0.0099 - val_loss: 0.0088\n",
            "Epoch 36/200\n",
            "2554/2554 [==============================] - 0s 112us/sample - loss: 0.0100 - val_loss: 0.0087\n",
            "Epoch 37/200\n",
            "2554/2554 [==============================] - 0s 113us/sample - loss: 0.0100 - val_loss: 0.0089\n",
            "Epoch 38/200\n",
            "2554/2554 [==============================] - 0s 109us/sample - loss: 0.0100 - val_loss: 0.0087\n",
            "Epoch 39/200\n",
            "2554/2554 [==============================] - 0s 107us/sample - loss: 0.0100 - val_loss: 0.0087\n",
            "Epoch 40/200\n",
            "2554/2554 [==============================] - 0s 107us/sample - loss: 0.0100 - val_loss: 0.0087\n",
            "Epoch 41/200\n",
            "2554/2554 [==============================] - 0s 107us/sample - loss: 0.0099 - val_loss: 0.0087\n",
            "Epoch 42/200\n",
            "2554/2554 [==============================] - 0s 109us/sample - loss: 0.0100 - val_loss: 0.0087\n",
            "Epoch 43/200\n",
            "2554/2554 [==============================] - 0s 113us/sample - loss: 0.0100 - val_loss: 0.0089\n",
            "Epoch 44/200\n",
            "2554/2554 [==============================] - 0s 111us/sample - loss: 0.0099 - val_loss: 0.0087\n",
            "Epoch 45/200\n",
            "2554/2554 [==============================] - 0s 116us/sample - loss: 0.0100 - val_loss: 0.0087\n",
            "Epoch 46/200\n",
            "2554/2554 [==============================] - 0s 109us/sample - loss: 0.0100 - val_loss: 0.0087\n",
            "Epoch 47/200\n",
            "2554/2554 [==============================] - 0s 111us/sample - loss: 0.0100 - val_loss: 0.0091\n",
            "Epoch 48/200\n",
            "2554/2554 [==============================] - 0s 110us/sample - loss: 0.0100 - val_loss: 0.0087\n",
            "Epoch 49/200\n",
            "2554/2554 [==============================] - 0s 106us/sample - loss: 0.0100 - val_loss: 0.0087\n",
            "Epoch 50/200\n",
            "2554/2554 [==============================] - 0s 109us/sample - loss: 0.0100 - val_loss: 0.0088\n",
            "Epoch 51/200\n",
            "2554/2554 [==============================] - 0s 120us/sample - loss: 0.0100 - val_loss: 0.0087\n",
            "Epoch 52/200\n",
            "2554/2554 [==============================] - 0s 122us/sample - loss: 0.0100 - val_loss: 0.0089\n",
            "Epoch 53/200\n",
            "2554/2554 [==============================] - 0s 111us/sample - loss: 0.0101 - val_loss: 0.0087\n",
            "Epoch 54/200\n",
            "2554/2554 [==============================] - 0s 114us/sample - loss: 0.0099 - val_loss: 0.0087\n",
            "Epoch 55/200\n",
            "2554/2554 [==============================] - 0s 112us/sample - loss: 0.0100 - val_loss: 0.0087\n",
            "Epoch 56/200\n",
            "2554/2554 [==============================] - 0s 110us/sample - loss: 0.0100 - val_loss: 0.0090\n",
            "Epoch 57/200\n",
            "2554/2554 [==============================] - 0s 110us/sample - loss: 0.0100 - val_loss: 0.0088\n",
            "Epoch 58/200\n",
            "2554/2554 [==============================] - 0s 112us/sample - loss: 0.0099 - val_loss: 0.0088\n",
            "Epoch 59/200\n",
            "2554/2554 [==============================] - 0s 117us/sample - loss: 0.0099 - val_loss: 0.0088\n",
            "Epoch 60/200\n",
            "2554/2554 [==============================] - 0s 107us/sample - loss: 0.0099 - val_loss: 0.0087\n",
            "Epoch 61/200\n",
            "2554/2554 [==============================] - 0s 111us/sample - loss: 0.0100 - val_loss: 0.0087\n",
            "Epoch 62/200\n",
            "2554/2554 [==============================] - 0s 111us/sample - loss: 0.0100 - val_loss: 0.0087\n",
            "Epoch 63/200\n",
            "2554/2554 [==============================] - 0s 107us/sample - loss: 0.0099 - val_loss: 0.0089\n",
            "Epoch 64/200\n",
            "2554/2554 [==============================] - 0s 110us/sample - loss: 0.0100 - val_loss: 0.0087\n",
            "Epoch 65/200\n",
            "2554/2554 [==============================] - 0s 114us/sample - loss: 0.0100 - val_loss: 0.0088\n",
            "Epoch 66/200\n",
            "2554/2554 [==============================] - 0s 109us/sample - loss: 0.0100 - val_loss: 0.0089\n",
            "Epoch 67/200\n",
            "2554/2554 [==============================] - 0s 109us/sample - loss: 0.0100 - val_loss: 0.0087\n",
            "Epoch 68/200\n",
            "2554/2554 [==============================] - 0s 109us/sample - loss: 0.0100 - val_loss: 0.0087\n",
            "Epoch 69/200\n",
            "2554/2554 [==============================] - 0s 107us/sample - loss: 0.0100 - val_loss: 0.0087\n",
            "Epoch 70/200\n",
            "2554/2554 [==============================] - 0s 112us/sample - loss: 0.0100 - val_loss: 0.0090\n",
            "Epoch 71/200\n",
            "2554/2554 [==============================] - 0s 111us/sample - loss: 0.0099 - val_loss: 0.0088\n",
            "Epoch 72/200\n",
            "2554/2554 [==============================] - 0s 107us/sample - loss: 0.0099 - val_loss: 0.0087\n",
            "Epoch 73/200\n",
            "2554/2554 [==============================] - 0s 111us/sample - loss: 0.0100 - val_loss: 0.0087\n",
            "Epoch 74/200\n",
            "2554/2554 [==============================] - 0s 111us/sample - loss: 0.0100 - val_loss: 0.0087\n",
            "Epoch 75/200\n",
            "2554/2554 [==============================] - 0s 113us/sample - loss: 0.0100 - val_loss: 0.0087\n",
            "Epoch 76/200\n",
            "2554/2554 [==============================] - 0s 118us/sample - loss: 0.0100 - val_loss: 0.0087\n",
            "Epoch 77/200\n",
            "2554/2554 [==============================] - 0s 110us/sample - loss: 0.0099 - val_loss: 0.0087\n",
            "Epoch 78/200\n",
            "2554/2554 [==============================] - 0s 115us/sample - loss: 0.0100 - val_loss: 0.0090\n",
            "Epoch 79/200\n",
            "2554/2554 [==============================] - 0s 109us/sample - loss: 0.0100 - val_loss: 0.0088\n",
            "Epoch 80/200\n",
            "2554/2554 [==============================] - 0s 111us/sample - loss: 0.0100 - val_loss: 0.0088\n",
            "Epoch 81/200\n",
            "2554/2554 [==============================] - 0s 111us/sample - loss: 0.0100 - val_loss: 0.0087\n",
            "Epoch 82/200\n",
            "2554/2554 [==============================] - 0s 113us/sample - loss: 0.0100 - val_loss: 0.0090\n",
            "Epoch 83/200\n",
            "2554/2554 [==============================] - 0s 113us/sample - loss: 0.0099 - val_loss: 0.0087\n",
            "Epoch 84/200\n",
            "2554/2554 [==============================] - 0s 115us/sample - loss: 0.0100 - val_loss: 0.0088\n",
            "Epoch 85/200\n",
            "2554/2554 [==============================] - 0s 118us/sample - loss: 0.0100 - val_loss: 0.0087\n",
            "Epoch 86/200\n",
            "2554/2554 [==============================] - 0s 112us/sample - loss: 0.0101 - val_loss: 0.0088\n",
            "Epoch 87/200\n",
            "2554/2554 [==============================] - 0s 113us/sample - loss: 0.0100 - val_loss: 0.0087\n",
            "Epoch 88/200\n",
            "2554/2554 [==============================] - 0s 119us/sample - loss: 0.0100 - val_loss: 0.0087\n",
            "Epoch 89/200\n",
            "2554/2554 [==============================] - 0s 115us/sample - loss: 0.0100 - val_loss: 0.0087\n",
            "Epoch 90/200\n",
            "2554/2554 [==============================] - 0s 104us/sample - loss: 0.0100 - val_loss: 0.0087\n",
            "Epoch 91/200\n",
            "2554/2554 [==============================] - 0s 104us/sample - loss: 0.0100 - val_loss: 0.0088\n",
            "Epoch 92/200\n",
            "2554/2554 [==============================] - 0s 108us/sample - loss: 0.0100 - val_loss: 0.0087\n",
            "Epoch 93/200\n",
            "2554/2554 [==============================] - 0s 108us/sample - loss: 0.0100 - val_loss: 0.0087\n",
            "Epoch 94/200\n",
            "2554/2554 [==============================] - 0s 113us/sample - loss: 0.0100 - val_loss: 0.0087\n",
            "Epoch 95/200\n",
            "2554/2554 [==============================] - 0s 108us/sample - loss: 0.0100 - val_loss: 0.0088\n",
            "Epoch 96/200\n",
            "2554/2554 [==============================] - 0s 121us/sample - loss: 0.0100 - val_loss: 0.0087\n",
            "Epoch 97/200\n",
            "2554/2554 [==============================] - 0s 117us/sample - loss: 0.0100 - val_loss: 0.0087\n",
            "Epoch 98/200\n",
            "2554/2554 [==============================] - 0s 115us/sample - loss: 0.0099 - val_loss: 0.0087\n",
            "Epoch 99/200\n",
            "2554/2554 [==============================] - 0s 110us/sample - loss: 0.0100 - val_loss: 0.0088\n",
            "Epoch 100/200\n",
            "2554/2554 [==============================] - 0s 120us/sample - loss: 0.0100 - val_loss: 0.0087\n",
            "Epoch 101/200\n",
            "2554/2554 [==============================] - 0s 124us/sample - loss: 0.0099 - val_loss: 0.0087\n",
            "Epoch 102/200\n",
            "2554/2554 [==============================] - 0s 115us/sample - loss: 0.0100 - val_loss: 0.0087\n",
            "Epoch 103/200\n",
            "2554/2554 [==============================] - 0s 113us/sample - loss: 0.0100 - val_loss: 0.0087\n",
            "Epoch 104/200\n",
            "2554/2554 [==============================] - 0s 120us/sample - loss: 0.0100 - val_loss: 0.0089\n",
            "Epoch 105/200\n",
            "2554/2554 [==============================] - 0s 111us/sample - loss: 0.0100 - val_loss: 0.0087\n",
            "Epoch 106/200\n",
            "2554/2554 [==============================] - 0s 120us/sample - loss: 0.0100 - val_loss: 0.0087\n",
            "Epoch 107/200\n",
            "2554/2554 [==============================] - 0s 126us/sample - loss: 0.0100 - val_loss: 0.0087\n",
            "Epoch 108/200\n",
            "2554/2554 [==============================] - 0s 118us/sample - loss: 0.0099 - val_loss: 0.0091\n",
            "Epoch 109/200\n",
            "2554/2554 [==============================] - 0s 120us/sample - loss: 0.0100 - val_loss: 0.0087\n",
            "Epoch 110/200\n",
            "2554/2554 [==============================] - 0s 116us/sample - loss: 0.0099 - val_loss: 0.0087\n",
            "Epoch 111/200\n",
            "2554/2554 [==============================] - 0s 117us/sample - loss: 0.0099 - val_loss: 0.0088\n",
            "Epoch 112/200\n",
            "2554/2554 [==============================] - 0s 118us/sample - loss: 0.0100 - val_loss: 0.0087\n",
            "Epoch 113/200\n",
            "2554/2554 [==============================] - 0s 111us/sample - loss: 0.0099 - val_loss: 0.0090\n",
            "Epoch 114/200\n",
            "2554/2554 [==============================] - 0s 115us/sample - loss: 0.0100 - val_loss: 0.0087\n",
            "Epoch 115/200\n",
            "2554/2554 [==============================] - 0s 115us/sample - loss: 0.0100 - val_loss: 0.0088\n",
            "Epoch 116/200\n",
            "2554/2554 [==============================] - 0s 117us/sample - loss: 0.0099 - val_loss: 0.0088\n",
            "Epoch 117/200\n",
            "2554/2554 [==============================] - 0s 118us/sample - loss: 0.0100 - val_loss: 0.0087\n",
            "Epoch 118/200\n",
            "2554/2554 [==============================] - 0s 114us/sample - loss: 0.0100 - val_loss: 0.0089\n",
            "Epoch 119/200\n",
            "2554/2554 [==============================] - 0s 115us/sample - loss: 0.0100 - val_loss: 0.0087\n",
            "Epoch 120/200\n",
            "2554/2554 [==============================] - 0s 122us/sample - loss: 0.0100 - val_loss: 0.0089\n",
            "Epoch 121/200\n",
            "2554/2554 [==============================] - 0s 119us/sample - loss: 0.0100 - val_loss: 0.0087\n",
            "Epoch 122/200\n",
            "2554/2554 [==============================] - 0s 115us/sample - loss: 0.0100 - val_loss: 0.0087\n",
            "Epoch 123/200\n",
            "2554/2554 [==============================] - 0s 120us/sample - loss: 0.0099 - val_loss: 0.0089\n",
            "Epoch 124/200\n",
            "2554/2554 [==============================] - 0s 117us/sample - loss: 0.0100 - val_loss: 0.0089\n",
            "Epoch 125/200\n",
            "2554/2554 [==============================] - 0s 113us/sample - loss: 0.0100 - val_loss: 0.0087\n",
            "Epoch 126/200\n",
            "2554/2554 [==============================] - 0s 118us/sample - loss: 0.0100 - val_loss: 0.0087\n",
            "Epoch 127/200\n",
            "2554/2554 [==============================] - 0s 114us/sample - loss: 0.0100 - val_loss: 0.0088\n",
            "Epoch 128/200\n",
            "2554/2554 [==============================] - 0s 113us/sample - loss: 0.0099 - val_loss: 0.0088\n",
            "Epoch 129/200\n",
            "2554/2554 [==============================] - 0s 121us/sample - loss: 0.0100 - val_loss: 0.0087\n",
            "Epoch 130/200\n",
            "2554/2554 [==============================] - 0s 124us/sample - loss: 0.0100 - val_loss: 0.0091\n",
            "Epoch 131/200\n",
            "2554/2554 [==============================] - 0s 115us/sample - loss: 0.0099 - val_loss: 0.0087\n",
            "Epoch 132/200\n",
            "2554/2554 [==============================] - 0s 122us/sample - loss: 0.0100 - val_loss: 0.0091\n",
            "Epoch 133/200\n",
            "2554/2554 [==============================] - 0s 113us/sample - loss: 0.0101 - val_loss: 0.0089\n",
            "Epoch 134/200\n",
            "2554/2554 [==============================] - 0s 120us/sample - loss: 0.0100 - val_loss: 0.0087\n",
            "Epoch 135/200\n",
            "2554/2554 [==============================] - 0s 118us/sample - loss: 0.0100 - val_loss: 0.0088\n",
            "Epoch 136/200\n",
            "2554/2554 [==============================] - 0s 117us/sample - loss: 0.0100 - val_loss: 0.0087\n",
            "Epoch 137/200\n",
            "2554/2554 [==============================] - 0s 115us/sample - loss: 0.0100 - val_loss: 0.0087\n",
            "Epoch 138/200\n",
            "2554/2554 [==============================] - 0s 111us/sample - loss: 0.0100 - val_loss: 0.0088\n",
            "Epoch 139/200\n",
            "2554/2554 [==============================] - 0s 114us/sample - loss: 0.0100 - val_loss: 0.0087\n",
            "Epoch 140/200\n",
            "2554/2554 [==============================] - 0s 113us/sample - loss: 0.0100 - val_loss: 0.0087\n",
            "Epoch 141/200\n",
            "2554/2554 [==============================] - 0s 114us/sample - loss: 0.0099 - val_loss: 0.0087\n",
            "Epoch 142/200\n",
            "2554/2554 [==============================] - 0s 114us/sample - loss: 0.0099 - val_loss: 0.0088\n",
            "Epoch 143/200\n",
            "2554/2554 [==============================] - 0s 113us/sample - loss: 0.0100 - val_loss: 0.0087\n",
            "Epoch 144/200\n",
            "2554/2554 [==============================] - 0s 109us/sample - loss: 0.0100 - val_loss: 0.0087\n",
            "Epoch 145/200\n",
            "2554/2554 [==============================] - 0s 114us/sample - loss: 0.0100 - val_loss: 0.0087\n",
            "Epoch 146/200\n",
            "2554/2554 [==============================] - 0s 118us/sample - loss: 0.0099 - val_loss: 0.0087\n",
            "Epoch 147/200\n",
            "2554/2554 [==============================] - 0s 125us/sample - loss: 0.0100 - val_loss: 0.0087\n",
            "Epoch 148/200\n",
            "2554/2554 [==============================] - 0s 116us/sample - loss: 0.0099 - val_loss: 0.0087\n",
            "Epoch 149/200\n",
            "2554/2554 [==============================] - 0s 110us/sample - loss: 0.0100 - val_loss: 0.0088\n",
            "Epoch 150/200\n",
            "2554/2554 [==============================] - 0s 125us/sample - loss: 0.0099 - val_loss: 0.0087\n",
            "Epoch 151/200\n",
            "2554/2554 [==============================] - 0s 115us/sample - loss: 0.0099 - val_loss: 0.0090\n",
            "Epoch 152/200\n",
            "2554/2554 [==============================] - 0s 116us/sample - loss: 0.0100 - val_loss: 0.0089\n",
            "Epoch 153/200\n",
            "2554/2554 [==============================] - 0s 111us/sample - loss: 0.0100 - val_loss: 0.0088\n",
            "Epoch 154/200\n",
            "2554/2554 [==============================] - 0s 113us/sample - loss: 0.0100 - val_loss: 0.0087\n",
            "Epoch 155/200\n",
            "2554/2554 [==============================] - 0s 112us/sample - loss: 0.0099 - val_loss: 0.0089\n",
            "Epoch 156/200\n",
            "2554/2554 [==============================] - 0s 113us/sample - loss: 0.0100 - val_loss: 0.0087\n",
            "Epoch 157/200\n",
            "2554/2554 [==============================] - 0s 112us/sample - loss: 0.0100 - val_loss: 0.0087\n",
            "Epoch 158/200\n",
            "2554/2554 [==============================] - 0s 109us/sample - loss: 0.0100 - val_loss: 0.0087\n",
            "Epoch 159/200\n",
            "2554/2554 [==============================] - 0s 106us/sample - loss: 0.0099 - val_loss: 0.0087\n",
            "Epoch 160/200\n",
            "2554/2554 [==============================] - 0s 110us/sample - loss: 0.0100 - val_loss: 0.0088\n",
            "Epoch 161/200\n",
            "2554/2554 [==============================] - 0s 105us/sample - loss: 0.0100 - val_loss: 0.0088\n",
            "Epoch 162/200\n",
            "2554/2554 [==============================] - 0s 109us/sample - loss: 0.0100 - val_loss: 0.0087\n",
            "Epoch 163/200\n",
            "2554/2554 [==============================] - 0s 104us/sample - loss: 0.0100 - val_loss: 0.0087\n",
            "Epoch 164/200\n",
            "2554/2554 [==============================] - 0s 106us/sample - loss: 0.0100 - val_loss: 0.0089\n",
            "Epoch 165/200\n",
            "2554/2554 [==============================] - 0s 115us/sample - loss: 0.0100 - val_loss: 0.0087\n",
            "Epoch 166/200\n",
            "2554/2554 [==============================] - 0s 106us/sample - loss: 0.0100 - val_loss: 0.0088\n",
            "Epoch 167/200\n",
            "2554/2554 [==============================] - 0s 115us/sample - loss: 0.0100 - val_loss: 0.0087\n",
            "Epoch 168/200\n",
            "2554/2554 [==============================] - 0s 112us/sample - loss: 0.0100 - val_loss: 0.0087\n",
            "Epoch 169/200\n",
            "2554/2554 [==============================] - 0s 114us/sample - loss: 0.0100 - val_loss: 0.0087\n",
            "Epoch 170/200\n",
            "2554/2554 [==============================] - 0s 117us/sample - loss: 0.0101 - val_loss: 0.0087\n",
            "Epoch 171/200\n",
            "2554/2554 [==============================] - 0s 121us/sample - loss: 0.0100 - val_loss: 0.0087\n",
            "Epoch 172/200\n",
            "2554/2554 [==============================] - 0s 114us/sample - loss: 0.0100 - val_loss: 0.0087\n",
            "Epoch 173/200\n",
            "2554/2554 [==============================] - 0s 114us/sample - loss: 0.0100 - val_loss: 0.0090\n",
            "Epoch 174/200\n",
            "2554/2554 [==============================] - 0s 108us/sample - loss: 0.0100 - val_loss: 0.0088\n",
            "Epoch 175/200\n",
            "2554/2554 [==============================] - 0s 117us/sample - loss: 0.0100 - val_loss: 0.0087\n",
            "Epoch 176/200\n",
            "2554/2554 [==============================] - 0s 118us/sample - loss: 0.0099 - val_loss: 0.0088\n",
            "Epoch 177/200\n",
            "2554/2554 [==============================] - 0s 112us/sample - loss: 0.0100 - val_loss: 0.0087\n",
            "Epoch 178/200\n",
            "2554/2554 [==============================] - 0s 112us/sample - loss: 0.0100 - val_loss: 0.0087\n",
            "Epoch 179/200\n",
            "2554/2554 [==============================] - 0s 113us/sample - loss: 0.0099 - val_loss: 0.0087\n",
            "Epoch 180/200\n",
            "2554/2554 [==============================] - 0s 123us/sample - loss: 0.0100 - val_loss: 0.0087\n",
            "Epoch 181/200\n",
            "2554/2554 [==============================] - 0s 116us/sample - loss: 0.0100 - val_loss: 0.0088\n",
            "Epoch 182/200\n",
            "2554/2554 [==============================] - 0s 123us/sample - loss: 0.0100 - val_loss: 0.0087\n",
            "Epoch 183/200\n",
            "2554/2554 [==============================] - 0s 119us/sample - loss: 0.0100 - val_loss: 0.0087\n",
            "Epoch 184/200\n",
            "2554/2554 [==============================] - 0s 124us/sample - loss: 0.0100 - val_loss: 0.0087\n",
            "Epoch 185/200\n",
            "2554/2554 [==============================] - 0s 122us/sample - loss: 0.0100 - val_loss: 0.0087\n",
            "Epoch 186/200\n",
            "2554/2554 [==============================] - 0s 113us/sample - loss: 0.0100 - val_loss: 0.0090\n",
            "Epoch 187/200\n",
            "2554/2554 [==============================] - 0s 115us/sample - loss: 0.0100 - val_loss: 0.0087\n",
            "Epoch 188/200\n",
            "2554/2554 [==============================] - 0s 114us/sample - loss: 0.0100 - val_loss: 0.0087\n",
            "Epoch 189/200\n",
            "2554/2554 [==============================] - 0s 116us/sample - loss: 0.0100 - val_loss: 0.0088\n",
            "Epoch 190/200\n",
            "2554/2554 [==============================] - 0s 113us/sample - loss: 0.0100 - val_loss: 0.0087\n",
            "Epoch 191/200\n",
            "2554/2554 [==============================] - 0s 115us/sample - loss: 0.0100 - val_loss: 0.0087\n",
            "Epoch 192/200\n",
            "2554/2554 [==============================] - 0s 115us/sample - loss: 0.0100 - val_loss: 0.0087\n",
            "Epoch 193/200\n",
            "2554/2554 [==============================] - 0s 117us/sample - loss: 0.0100 - val_loss: 0.0087\n",
            "Epoch 194/200\n",
            "2554/2554 [==============================] - 0s 115us/sample - loss: 0.0100 - val_loss: 0.0087\n",
            "Epoch 195/200\n",
            "2554/2554 [==============================] - 0s 118us/sample - loss: 0.0099 - val_loss: 0.0087\n",
            "Epoch 196/200\n",
            "2554/2554 [==============================] - 0s 114us/sample - loss: 0.0100 - val_loss: 0.0087\n",
            "Epoch 197/200\n",
            "2554/2554 [==============================] - 0s 119us/sample - loss: 0.0100 - val_loss: 0.0087\n",
            "Epoch 198/200\n",
            "2554/2554 [==============================] - 0s 113us/sample - loss: 0.0100 - val_loss: 0.0087\n",
            "Epoch 199/200\n",
            "2554/2554 [==============================] - 0s 107us/sample - loss: 0.0099 - val_loss: 0.0089\n",
            "Epoch 200/200\n",
            "2554/2554 [==============================] - 0s 115us/sample - loss: 0.0100 - val_loss: 0.0088\n"
          ],
          "name": "stdout"
        },
        {
          "output_type": "execute_result",
          "data": {
            "text/plain": [
              "<tensorflow.python.keras.callbacks.History at 0x7f45f4e62e48>"
            ]
          },
          "metadata": {
            "tags": []
          },
          "execution_count": 109
        }
      ]
    },
    {
      "cell_type": "markdown",
      "metadata": {
        "id": "eSQgnvPKMg4m",
        "colab_type": "text"
      },
      "source": [
        "## Make Predictions and Evaluate your model"
      ]
    },
    {
      "cell_type": "code",
      "metadata": {
        "colab_type": "code",
        "id": "85Ip5wrq7Jyi",
        "colab": {}
      },
      "source": [
        "#Un-normalize the predited data\n",
        "trainPredict = model.predict(X_train)\n",
        "testPredict = model.predict(X_test)\n",
        "trainPredict = scaler.inverse_transform(trainPredict)\n",
        "testPredict = scaler.inverse_transform(testPredict)"
      ],
      "execution_count": 0,
      "outputs": []
    },
    {
      "cell_type": "markdown",
      "metadata": {
        "id": "Ewi6Zyl9Mg4o",
        "colab_type": "text"
      },
      "source": [
        "## Plot the results"
      ]
    },
    {
      "cell_type": "code",
      "metadata": {
        "colab_type": "code",
        "id": "FHbIWp-D7Jyn",
        "colab": {}
      },
      "source": [
        "import matplotlib.pyplot as plt"
      ],
      "execution_count": 0,
      "outputs": []
    },
    {
      "cell_type": "code",
      "metadata": {
        "id": "VW5BtjpbrDoq",
        "colab_type": "code",
        "colab": {
          "base_uri": "https://localhost:8080/",
          "height": 592
        },
        "outputId": "776b3781-61ad-4a3c-a5d0-02fd4a1c2384"
      },
      "source": [
        "trainPredictPlot = np.empty_like(scaled)\n",
        "trainPredictPlot[:, :] = np.nan\n",
        "trainPredictPlot[window_size:len(trainPredict)+window_size, :] = trainPredict\n",
        "# shift test predictions for plotting\n",
        "testPredictPlot = np.empty_like(scaled)\n",
        "testPredictPlot[:, :] = np.nan\n",
        "testPredictPlot[len(trainPredict)+(window_size*2):len(scaled), :] = testPredict\n",
        "# plot baseline and predictions\n",
        "plt.figure(figsize=(20,10))\n",
        "plt.plot(scaler.inverse_transform(scaled))\n",
        "plt.plot(trainPredictPlot)\n",
        "plt.plot(testPredictPlot)\n",
        "plt.show()"
      ],
      "execution_count": 112,
      "outputs": [
        {
          "output_type": "display_data",
          "data": {
            "image/png": "[encoded data removed]",
            "text/plain": [
              "<Figure size 1440x720 with 1 Axes>"
            ]
          },
          "metadata": {
            "tags": []
          }
        }
      ]
    }
  ]
}