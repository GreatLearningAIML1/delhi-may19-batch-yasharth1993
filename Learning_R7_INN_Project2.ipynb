{
  "nbformat": 4,
  "nbformat_minor": 0,
  "metadata": {
    "colab": {
      "name": "Untitled4.ipynb",
      "provenance": []
    },
    "kernelspec": {
      "name": "python3",
      "display_name": "Python 3"
    }
  },
  "cells": [
    {
      "cell_type": "code",
      "metadata": {
        "id": "R9vUz0TlDXp4",
        "colab_type": "code",
        "colab": {}
      },
      "source": [
        "#Understand the basic Image Classification pipeline and the data-driven\n",
        "#approach (train/predict stages)\n",
        "#● Data fetching and understand the train/val/test splits.\n",
        "#● Implement and apply an optimal k-Nearest Neighbor (kNN) classifier (7.5\n",
        "#points)\n",
        "#● Print the classification metric report (2.5 points)\n",
        "#● Implement and apply a deep neural network classifier including (feedforward neural network, RELU activations) (5 points)\n",
        "#● Understand and be able to implement (vectorized) backpropagation (cost stochastic gradient descent, cross entropy loss, cost functions) (2.5 points)\n",
        "#● Implement batch normalization for training the neural network (2.5 points)"
      ],
      "execution_count": 0,
      "outputs": []
    },
    {
      "cell_type": "code",
      "metadata": {
        "id": "Dyhp3hVzE-um",
        "colab_type": "code",
        "colab": {
          "base_uri": "https://localhost:8080/",
          "height": 80
        },
        "outputId": "fd087053-07be-4d6a-d542-738bb09c16e2"
      },
      "source": [
        "import pandas as pd\n",
        "import numpy as np\n",
        "import tensorflow as tf\n",
        "import h5py\n",
        "from keras.utils import to_categorical\n",
        "from sklearn.neighbors import KNeighborsClassifier\n",
        "from sklearn.metrics import accuracy_score, confusion_matrix, classification_report\n",
        "from keras.models import Sequential\n",
        "from keras.layers import Dense, Activation, Dropout, Flatten, Reshape\n",
        "from keras.layers import Convolution2D, MaxPooling2D, BatchNormalization\n",
        "from keras.optimizers import SGD\n",
        "from keras.backend import clear_session\n",
        "from keras.callbacks import EarlyStopping"
      ],
      "execution_count": 1,
      "outputs": [
        {
          "output_type": "display_data",
          "data": {
            "text/html": [
              "<p style=\"color: red;\">\n",
              "The default version of TensorFlow in Colab will soon switch to TensorFlow 2.x.<br>\n",
              "We recommend you <a href=\"https://www.tensorflow.org/guide/migrate\" target=\"_blank\">upgrade</a> now \n",
              "or ensure your notebook will continue to use TensorFlow 1.x via the <code>%tensorflow_version 1.x</code> magic:\n",
              "<a href=\"https://colab.research.google.com/notebooks/tensorflow_version.ipynb\" target=\"_blank\">more info</a>.</p>\n"
            ],
            "text/plain": [
              "<IPython.core.display.HTML object>"
            ]
          },
          "metadata": {
            "tags": []
          }
        },
        {
          "output_type": "stream",
          "text": [
            "Using TensorFlow backend.\n"
          ],
          "name": "stderr"
        }
      ]
    },
    {
      "cell_type": "code",
      "metadata": {
        "id": "__Q1ZVHzDxSt",
        "colab_type": "code",
        "colab": {
          "base_uri": "https://localhost:8080/",
          "height": 122
        },
        "outputId": "5ed74139-1962-48a4-ab44-a8a58d9541fa"
      },
      "source": [
        "from google.colab import drive\n",
        "drive.mount('/gdrive')"
      ],
      "execution_count": 2,
      "outputs": [
        {
          "output_type": "stream",
          "text": [
            "Go to this URL in a browser: https://accounts.google.com/o/oauth2/auth?client_id=947318989803-6bn6qk8qdgf4n4g3pfee6491hc0brc4i.apps.googleusercontent.com&redirect_uri=urn%3aietf%3awg%3aoauth%3a2.0%3aoob&response_type=code&scope=email%20https%3a%2f%2fwww.googleapis.com%2fauth%2fdocs.test%20https%3a%2f%2fwww.googleapis.com%2fauth%2fdrive%20https%3a%2f%2fwww.googleapis.com%2fauth%2fdrive.photos.readonly%20https%3a%2f%2fwww.googleapis.com%2fauth%2fpeopleapi.readonly\n",
            "\n",
            "Enter your authorization code:\n",
            "··········\n",
            "Mounted at /gdrive\n"
          ],
          "name": "stdout"
        }
      ]
    },
    {
      "cell_type": "code",
      "metadata": {
        "id": "mK2UnhtuGovu",
        "colab_type": "code",
        "colab": {}
      },
      "source": [
        "SVHN_single_grey1 = pd.read_csv('/gdrive/My Drive/Data Science/SVHN_single_grey1.h5')"
      ],
      "execution_count": 0,
      "outputs": []
    },
    {
      "cell_type": "code",
      "metadata": {
        "id": "46C-Ph4qFFlT",
        "colab_type": "code",
        "colab": {}
      },
      "source": [
        "images_of_numbers_file = h5py.File(\"/X_test = np.array(images_of_numbers_file['X_test'])\n",
        "list_of_keys = list(images_of_numbers_file.keys())\n",
        "list_of_keys"
      ],
      "execution_count": 0,
      "outputs": []
    },
    {
      "cell_type": "code",
      "metadata": {
        "id": "10EAX6KQKG4b",
        "colab_type": "code",
        "colab": {}
      },
      "source": [
        "X_train = images_of_numbers_file['X_train']\n",
        "X_val = images_of_numbers_file['X_val']\n",
        "y_test = images_of_numbers_file['y_test']\n",
        "y_train = images_of_numbers_file['y_train']\n",
        "y_val = images_of_numbers_file['y_val']"
      ],
      "execution_count": 0,
      "outputs": []
    },
    {
      "cell_type": "code",
      "metadata": {
        "id": "Axbtqs_AGdqz",
        "colab_type": "code",
        "colab": {}
      },
      "source": [
        "# Converting data into arrays and then, normalizing image data from 0-255 to 0-1\n",
        "X_train = np.array(X_train)\n",
        "X_test = np.array(X_test)\n",
        "X_val = np.array(X_val)\n",
        "X_train = X_train/255\n",
        "X_test = X_test/255\n",
        "X_val = X_val/255"
      ],
      "execution_count": 0,
      "outputs": []
    },
    {
      "cell_type": "code",
      "metadata": {
        "id": "rzbb1RBdWrXr",
        "colab_type": "code",
        "colab": {}
      },
      "source": [
        "# Data flatenning for KNN classifier\n",
        "X_train_reshaped = np.reshape(X_train,(42000, 32*32))\n",
        "X_test_reshaped = np.reshape(X_test,(18000, 32*32))\n",
        "#Trying to find the right value of k:\n",
        "list_opt = np.arange(1, 51)\n",
        "accuracies = []\n",
        "for Ks in list_opt:\n",
        " model_knn = KNeighborsClassifier(n_neighbors = Ks, algorithm = 'brute')\n",
        " model_knn = model_knn.fit(X_train_reshaped, y_train)\n",
        "\n",
        " # Evaluate the model and update the accuracies list\n",
        " y_pred = model_knn.predict(X_test_reshaped)\n",
        " acc_score = accuracy_score(y_test, y_pred)\n",
        " print(acc_score)\n",
        " accuracies.append(acc_score)"
      ],
      "execution_count": 0,
      "outputs": []
    },
    {
      "cell_type": "code",
      "metadata": {
        "id": "TRPPqbFPG1eC",
        "colab_type": "code",
        "colab": {}
      },
      "source": [
        "i = int(np.argmax(accuracies))\n",
        "print(\"k=\", list_opt[i], \"achieved highest accuracy of\", accuracies[i] * 100, \"on validation data\")"
      ],
      "execution_count": 0,
      "outputs": []
    },
    {
      "cell_type": "code",
      "metadata": {
        "id": "-2JUDfVQG7PD",
        "colab_type": "code",
        "colab": {}
      },
      "source": [
        "# Our final KNN model with k = 1\n",
        "model_knn_2 = KNeighborsClassifier(n_neighbors = 47, algorithm = 'brute')\n",
        "model_knn_2 = model_knn_2.fit(X_train_reshaped, y_train)\n",
        "y_pred_2 = model_knn_2.predict(X_test_reshaped)\n"
      ],
      "execution_count": 0,
      "outputs": []
    },
    {
      "cell_type": "code",
      "metadata": {
        "id": "DMbazqojHEhd",
        "colab_type": "code",
        "colab": {}
      },
      "source": [
        "# The classification report is as follows:\n",
        "class_report = classification_report(y_test, y_pred_2)\n",
        "print(class_report)"
      ],
      "execution_count": 0,
      "outputs": []
    },
    {
      "cell_type": "code",
      "metadata": {
        "id": "xYW0kcB_HJjH",
        "colab_type": "code",
        "colab": {}
      },
      "source": [
        "accuracy = accuracy_score(y_test, y_pred_2)\n",
        "c_matrix = confusion_matrix(y_test, y_pred_2)"
      ],
      "execution_count": 0,
      "outputs": []
    },
    {
      "cell_type": "code",
      "metadata": {
        "id": "x8j4nf9DHQ_a",
        "colab_type": "code",
        "colab": {}
      },
      "source": [
        "# Converting labels to one hot vectors\n",
        "y_train = to_categorical(y_train)\n",
        "y_test = to_categorical(y_test)\n",
        "y_val = to_categorical(y_val)\n"
      ],
      "execution_count": 0,
      "outputs": []
    },
    {
      "cell_type": "code",
      "metadata": {
        "id": "8ILE1-3gHadL",
        "colab_type": "code",
        "colab": {}
      },
      "source": [
        "# Deep neural network\n",
        "model_dnn = Sequential()\n",
        "# 1st hidden layer\n",
        "model_dnn.add(Dense(200, activation='relu'))\n",
        "# 2nd hidden layer\n",
        "model_dnn.add(Dense(100, activation='relu'))\n",
        "# Output layer\n",
        "model_dnn.add(Dense(10, activation='softmax'))\n",
        "# Loss and Optimizer\n",
        "model_dnn.compile(loss='categorical_crossentropy', optimizer='SGD', metrics=['accuracy'])\n",
        "#Reshape data from 2D to 1D -> 32x32 to 1024\n",
        "model_dnn.add(Reshape((1024,),input_shape=(32,32,)))\n",
        "# 4th hidden layer\n",
        "model_dnn.add(Dense(30, activation='relu'))\n",
        "# 3rd hidden layer\n",
        "model_dnn.add(Dense(60, activation='relu'))\n",
        "# Dropout layer\n",
        "model_dnn.add(Dropout(0.25))"
      ],
      "execution_count": 0,
      "outputs": []
    },
    {
      "cell_type": "code",
      "metadata": {
        "id": "AA53tvuqHjBi",
        "colab_type": "code",
        "colab": {}
      },
      "source": [
        "# Training the model\n",
        "model_dnn.fit(X_train, y_train, batch_size=32, nb_epoch=50, validation_data=(X_test, y_test))"
      ],
      "execution_count": 0,
      "outputs": []
    },
    {
      "cell_type": "code",
      "metadata": {
        "id": "q8iwMw_bHqn-",
        "colab_type": "code",
        "colab": {}
      },
      "source": [
        "model_dnn.summary()"
      ],
      "execution_count": 0,
      "outputs": []
    },
    {
      "cell_type": "code",
      "metadata": {
        "id": "S5FCDte4HxCI",
        "colab_type": "code",
        "colab": {}
      },
      "source": [
        "# Clearing out tensorflow memory\n",
        "clear_session()\n",
        "# Define deep neural network Model\n",
        "model_dnn_2 = Sequential()\n",
        "#Reshape data from 2D to 1D -> 32x32 to 1024\n",
        "model_dnn_2.add(Reshape((1024,),input_shape=(32,32,)))\n",
        "# 1st hidden layer\n",
        "model_dnn_2.add(Dense(200, activation='relu'))\n",
        "# 2nd hidden layer\n",
        "model_dnn_2.add(Dense(100, activation='relu'))\n",
        "# Dropout layer\n",
        "model_dnn_2.add(Dropout(0.25))\n",
        "# 3rd hidden layer\n",
        "model_dnn_2.add(Dense(60, activation='relu'))\n",
        "# 4th hidden layer\n",
        "model_dnn_2.add(Dense(30, activation='relu'))\n",
        "# Output layer\n",
        "model_dnn_2.add(Dense(10, activation='softmax'))\n",
        "# Loss and Optimizer\n",
        "sgd_optimizer = SGD(lr = 0.05)\n",
        "model_dnn_2.compile(loss='categorical_crossentropy', optimizer=sgd_optimizer, metrics=['accuracy'])\n"
      ],
      "execution_count": 0,
      "outputs": []
    },
    {
      "cell_type": "code",
      "metadata": {
        "id": "kDQaW1IBH7O9",
        "colab_type": "code",
        "colab": {}
      },
      "source": [
        "# Training the model\n",
        "model_dnn_2.fit(X_train, y_train, batch_size=32, nb_epoch=50, validation_data=(X_test, y_test))"
      ],
      "execution_count": 0,
      "outputs": []
    },
    {
      "cell_type": "code",
      "metadata": {
        "id": "TlHWQ8tQIDso",
        "colab_type": "code",
        "colab": {}
      },
      "source": [
        "model_dnn_2.summary()"
      ],
      "execution_count": 0,
      "outputs": []
    },
    {
      "cell_type": "code",
      "metadata": {
        "id": "2SDcQ7HnIJtB",
        "colab_type": "code",
        "colab": {}
      },
      "source": [
        "# Define deep neural network Model\n",
        "model_dnn_3 = Sequential()\n",
        "#Reshape data from 2D to 1D -> 32x32 to 1024\n",
        "model_dnn_3.add(Reshape((1024,),input_shape=(32,32,)))\n",
        "#Normalize the data\n",
        "model_dnn_3.add(BatchNormalization())\n",
        "# 1st hidden layer\n",
        "model_dnn_3.add(Dense(200, activation='relu'))\n",
        "model_dnn_3.add(BatchNormalization())\n",
        "# 2nd hidden layer\n",
        "model_dnn_3.add(Dense(100, activation='relu'))\n",
        "model_dnn_3.add(BatchNormalization())\n",
        "# Dropout layer\n",
        "model_dnn_3.add(Dropout(0.25))\n",
        "# 3rd hidden layer\n",
        "model_dnn_3.add(Dense(60, activation='relu'))\n",
        "model_dnn_3.add(BatchNormalization())\n",
        "# 4th hidden layer\n",
        "model_dnn_3.add(Dense(30, activation='relu'))\n",
        "model_dnn_3.add(BatchNormalization())\n",
        "# Output layer\n",
        "model_dnn_3.add(Dense(10, activation='softmax'))\n",
        "# Loss and Optimizer\n",
        "model_dnn_3.compile(loss='categorical_crossentropy', optimizer='adam', metrics=['accuracy'])\n",
        "# Training the model\n",
        "model_dnn_3.fit(X_train, y_train, batch_size=32, nb_epoch=50, validation_data=(X_test, y_test))"
      ],
      "execution_count": 0,
      "outputs": []
    },
    {
      "cell_type": "code",
      "metadata": {
        "id": "XeqKx8D6Ist0",
        "colab_type": "code",
        "colab": {}
      },
      "source": [
        "# Prediction\n",
        "y_pred_3 = model_dnn_3.predict(X_test)"
      ],
      "execution_count": 0,
      "outputs": []
    },
    {
      "cell_type": "code",
      "metadata": {
        "id": "m9kCiAC_I60v",
        "colab_type": "code",
        "colab": {}
      },
      "source": [
        "# The classification report is as follows:\n",
        "class_report = classification_report(y_test.argmax(axis=1), y_pred_3.argmax(axis=1))"
      ],
      "execution_count": 0,
      "outputs": []
    },
    {
      "cell_type": "code",
      "metadata": {
        "id": "beUAoWrGI-qH",
        "colab_type": "code",
        "colab": {}
      },
      "source": [
        "# Also, finding the accuracy and the confusion matrix to evaluate the model:\n",
        "accuracy = accuracy_score(y_test.argmax(axis=1), y_pred_3.argmax(axis=1))\n",
        "c_matrix = confusion_matrix(y_test.argmax(axis=1), y_pred_3.argmax(axis=1))\n",
        "print(\"The accuracy is\", round(accuracy*100, 2), \"% and the confusion matrix is\\n\", c_matrix)"
      ],
      "execution_count": 0,
      "outputs": []
    },
    {
      "cell_type": "code",
      "metadata": {
        "id": "Afp1sY_CJICx",
        "colab_type": "code",
        "colab": {}
      },
      "source": [
        "#The accuracy of the KNN model is coming out to be 51.33%, whereas, the accuracy of the deep neural network model is coming out to be\n",
        "#84.2%.\n",
        "#The accuracy of KNN model is very poor as compared to the accuracy of the deep neural networks model.\n",
        "#The advantage of KNN model is that we do not need to do hyperparameter tuning. NN needs a lot of hyperparameter tuning compared to KNN.\n",
        "#KNN didn't work with large data. NN needs large training data to achieve an ecient accuracy.\n",
        "#In this case, we will get large computation cost for KNN model during runtime.\n",
        "#From the above classication metrics, we can see that KNN is denitely not a good choice for this image classication model and the use of\n",
        "#DNN model is truly justied.\n"
      ],
      "execution_count": 0,
      "outputs": []
    },
    {
      "cell_type": "code",
      "metadata": {
        "id": "IxaBYsbfJJqx",
        "colab_type": "code",
        "colab": {}
      },
      "source": [
        "images_of_numbers_file.close()"
      ],
      "execution_count": 0,
      "outputs": []
    }
  ]
}