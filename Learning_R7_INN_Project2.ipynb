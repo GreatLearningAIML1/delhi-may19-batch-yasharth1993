{
  "nbformat": 4,
  "nbformat_minor": 0,
  "metadata": {
    "colab": {
      "name": "Untitled4.ipynb",
      "provenance": []
    },
    "kernelspec": {
      "name": "python3",
      "display_name": "Python 3"
    }
  },
  "cells": [
    {
      "cell_type": "code",
      "metadata": {
        "id": "R9vUz0TlDXp4",
        "colab_type": "code",
        "colab": {}
      },
      "source": [
        "#Understand the basic Image Classification pipeline and the data-driven\n",
        "#approach (train/predict stages)\n",
        "#● Data fetching and understand the train/val/test splits.\n",
        "#● Implement and apply an optimal k-Nearest Neighbor (kNN) classifier (7.5\n",
        "#points)\n",
        "#● Print the classification metric report (2.5 points)\n",
        "#● Implement and apply a deep neural network classifier including (feedforward neural network, RELU activations) (5 points)\n",
        "#● Understand and be able to implement (vectorized) backpropagation (cost stochastic gradient descent, cross entropy loss, cost functions) (2.5 points)\n",
        "#● Implement batch normalization for training the neural network (2.5 points)"
      ],
      "execution_count": 0,
      "outputs": []
    },
    {
      "cell_type": "code",
      "metadata": {
        "id": "Dyhp3hVzE-um",
        "colab_type": "code",
        "colab": {
          "base_uri": "https://localhost:8080/",
          "height": 80
        },
        "outputId": "fd087053-07be-4d6a-d542-738bb09c16e2"
      },
      "source": [
        "import pandas as pd\n",
        "import numpy as np\n",
        "import tensorflow as tf\n",
        "import h5py\n",
        "from keras.utils import to_categorical\n",
        "from sklearn.neighbors import KNeighborsClassifier\n",
        "from sklearn.metrics import accuracy_score, confusion_matrix, classification_report\n",
        "from keras.models import Sequential\n",
        "from keras.layers import Dense, Activation, Dropout, Flatten, Reshape\n",
        "from keras.layers import Convolution2D, MaxPooling2D, BatchNormalization\n",
        "from keras.optimizers import SGD\n",
        "from keras.backend import clear_session\n",
        "from keras.callbacks import EarlyStopping"
      ],
      "execution_count": 1,
      "outputs": [
        {
          "output_type": "display_data",
          "data": {
            "text/html": [
              "<p style=\"color: red;\">\n",
              "The default version of TensorFlow in Colab will soon switch to TensorFlow 2.x.<br>\n",
              "We recommend you <a href=\"https://www.tensorflow.org/guide/migrate\" target=\"_blank\">upgrade</a> now \n",
              "or ensure your notebook will continue to use TensorFlow 1.x via the <code>%tensorflow_version 1.x</code> magic:\n",
              "<a href=\"https://colab.research.google.com/notebooks/tensorflow_version.ipynb\" target=\"_blank\">more info</a>.</p>\n"
            ],
            "text/plain": [
              "<IPython.core.display.HTML object>"
            ]
          },
          "metadata": {
            "tags": []
          }
        },
        {
          "output_type": "stream",
          "text": [
            "Using TensorFlow backend.\n"
          ],
          "name": "stderr"
        }
      ]
    },
    {
      "cell_type": "code",
      "metadata": {
        "id": "__Q1ZVHzDxSt",
        "colab_type": "code",
        "colab": {
          "base_uri": "https://localhost:8080/",
          "height": 122
        },
        "outputId": "f2690d7b-76e1-46bc-812d-130f86c3a9de"
      },
      "source": [
        "from google.colab import drive\n",
        "drive.mount('/content/drive')"
      ],
      "execution_count": 2,
      "outputs": [
        {
          "output_type": "stream",
          "text": [
            "Go to this URL in a browser: https://accounts.google.com/o/oauth2/auth?client_id=947318989803-6bn6qk8qdgf4n4g3pfee6491hc0brc4i.apps.googleusercontent.com&redirect_uri=urn%3aietf%3awg%3aoauth%3a2.0%3aoob&response_type=code&scope=email%20https%3a%2f%2fwww.googleapis.com%2fauth%2fdocs.test%20https%3a%2f%2fwww.googleapis.com%2fauth%2fdrive%20https%3a%2f%2fwww.googleapis.com%2fauth%2fdrive.photos.readonly%20https%3a%2f%2fwww.googleapis.com%2fauth%2fpeopleapi.readonly\n",
            "\n",
            "Enter your authorization code:\n",
            "··········\n",
            "Mounted at /content/drive\n"
          ],
          "name": "stdout"
        }
      ]
    },
    {
      "cell_type": "code",
      "metadata": {
        "id": "9kVT85WYWghy",
        "colab_type": "code",
        "colab": {
          "base_uri": "https://localhost:8080/",
          "height": 34
        },
        "outputId": "f2ccffa7-cc47-4f07-ad0f-8fe000341341"
      },
      "source": [
        "images_of_numbers_file = h5py.File(\"/content/drive/My Drive/SVHN_single_grey1.h5\", \"r+\")\n",
        "list_of_keys = list(images_of_numbers_file.keys())\n",
        "list_of_keys"
      ],
      "execution_count": 4,
      "outputs": [
        {
          "output_type": "execute_result",
          "data": {
            "text/plain": [
              "['X_test', 'X_train', 'X_val', 'y_test', 'y_train', 'y_val']"
            ]
          },
          "metadata": {
            "tags": []
          },
          "execution_count": 4
        }
      ]
    },
    {
      "cell_type": "code",
      "metadata": {
        "id": "46C-Ph4qFFlT",
        "colab_type": "code",
        "colab": {}
      },
      "source": [
        "images_of_numbers_file = h5py.File(\"/X_test = np.array(images_of_numbers_file['X_test'])\n",
        "list_of_keys = list(images_of_numbers_file.keys())\n",
        "list_of_keys"
      ],
      "execution_count": 0,
      "outputs": []
    },
    {
      "cell_type": "code",
      "metadata": {
        "id": "10EAX6KQKG4b",
        "colab_type": "code",
        "colab": {}
      },
      "source": [
        "X_test = np.array(images_of_numbers_file['X_test'])\n",
        "X_train = images_of_numbers_file['X_train']\n",
        "X_val = images_of_numbers_file['X_val']\n",
        "y_test = images_of_numbers_file['y_test']\n",
        "y_train = images_of_numbers_file['y_train']\n",
        "y_val = images_of_numbers_file['y_val']"
      ],
      "execution_count": 0,
      "outputs": []
    },
    {
      "cell_type": "code",
      "metadata": {
        "id": "Axbtqs_AGdqz",
        "colab_type": "code",
        "colab": {}
      },
      "source": [
        "# Converting data into arrays and then, normalizing image data from 0-255 to 0-1\n",
        "X_train = np.array(X_train)\n",
        "X_test = np.array(X_test)\n",
        "X_val = np.array(X_val)\n",
        "X_train = X_train/255\n",
        "X_test = X_test/255\n",
        "X_val = X_val/255"
      ],
      "execution_count": 0,
      "outputs": []
    },
    {
      "cell_type": "code",
      "metadata": {
        "id": "rzbb1RBdWrXr",
        "colab_type": "code",
        "colab": {
          "base_uri": "https://localhost:8080/",
          "height": 102
        },
        "outputId": "3a401fcb-1612-4784-ef03-587b03e7a4c8"
      },
      "source": [
        "# Data flatenning for KNN classifier\n",
        "X_train_reshaped = np.reshape(X_train,(42000, 32*32))\n",
        "X_test_reshaped = np.reshape(X_test,(18000, 32*32))\n",
        "#Trying to find the right value of k:\n",
        "list_opt = np.arange(1, 6)\n",
        "accuracies = []\n",
        "for Ks in list_opt:\n",
        " model_knn = KNeighborsClassifier(n_neighbors = Ks, algorithm = 'brute')\n",
        " model_knn = model_knn.fit(X_train_reshaped, y_train)\n",
        "\n",
        " # Evaluate the model and update the accuracies list\n",
        " y_pred = model_knn.predict(X_test_reshaped)\n",
        " acc_score = accuracy_score(y_test, y_pred)\n",
        " print(acc_score)\n",
        " accuracies.append(acc_score)"
      ],
      "execution_count": 30,
      "outputs": [
        {
          "output_type": "stream",
          "text": [
            "0.45916666666666667\n",
            "0.25005555555555553\n",
            "0.3783888888888889\n",
            "0.24616666666666667\n",
            "0.32416666666666666\n"
          ],
          "name": "stdout"
        }
      ]
    },
    {
      "cell_type": "code",
      "metadata": {
        "id": "TRPPqbFPG1eC",
        "colab_type": "code",
        "colab": {
          "base_uri": "https://localhost:8080/",
          "height": 34
        },
        "outputId": "9eb373ad-4eac-4660-e781-555e151286eb"
      },
      "source": [
        "i = int(np.argmax(accuracies))\n",
        "print(\"k=\", list_opt[i], \"achieved highest accuracy of\", accuracies[i] * 100, \"on validation data\")"
      ],
      "execution_count": 10,
      "outputs": [
        {
          "output_type": "stream",
          "text": [
            "k= 4 achieved highest accuracy of 48.13333333333333 on validation data\n"
          ],
          "name": "stdout"
        }
      ]
    },
    {
      "cell_type": "code",
      "metadata": {
        "id": "-2JUDfVQG7PD",
        "colab_type": "code",
        "colab": {}
      },
      "source": [
        "# Our final KNN model with k = 1\n",
        "model_knn_2 = KNeighborsClassifier(n_neighbors = 47, algorithm = 'brute')\n",
        "model_knn_2 = model_knn_2.fit(X_train_reshaped, y_train)\n",
        "y_pred_2 = model_knn_2.predict(X_test_reshaped)\n"
      ],
      "execution_count": 0,
      "outputs": []
    },
    {
      "cell_type": "code",
      "metadata": {
        "id": "DMbazqojHEhd",
        "colab_type": "code",
        "colab": {
          "base_uri": "https://localhost:8080/",
          "height": 306
        },
        "outputId": "820567cb-8193-4f9a-e189-d0614c6250cf"
      },
      "source": [
        "# The classification report is as follows:\n",
        "class_report = classification_report(y_test, y_pred_2)\n",
        "print(class_report)"
      ],
      "execution_count": 12,
      "outputs": [
        {
          "output_type": "stream",
          "text": [
            "              precision    recall  f1-score   support\n",
            "\n",
            "           0       0.45      0.71      0.55      1814\n",
            "           1       0.45      0.74      0.56      1828\n",
            "           2       0.65      0.53      0.59      1803\n",
            "           3       0.50      0.44      0.47      1719\n",
            "           4       0.65      0.65      0.65      1812\n",
            "           5       0.55      0.41      0.47      1768\n",
            "           6       0.53      0.43      0.48      1832\n",
            "           7       0.69      0.62      0.65      1808\n",
            "           8       0.49      0.39      0.43      1812\n",
            "           9       0.55      0.47      0.51      1804\n",
            "\n",
            "    accuracy                           0.54     18000\n",
            "   macro avg       0.55      0.54      0.54     18000\n",
            "weighted avg       0.55      0.54      0.54     18000\n",
            "\n"
          ],
          "name": "stdout"
        }
      ]
    },
    {
      "cell_type": "code",
      "metadata": {
        "id": "xYW0kcB_HJjH",
        "colab_type": "code",
        "colab": {}
      },
      "source": [
        "accuracy = accuracy_score(y_test, y_pred_2)\n",
        "c_matrix = confusion_matrix(y_test, y_pred_2)"
      ],
      "execution_count": 0,
      "outputs": []
    },
    {
      "cell_type": "code",
      "metadata": {
        "id": "x8j4nf9DHQ_a",
        "colab_type": "code",
        "colab": {}
      },
      "source": [
        "# Converting labels to one hot vectors\n",
        "y_train = to_categorical(y_train)\n",
        "y_test = to_categorical(y_test)\n",
        "y_val = to_categorical(y_val)\n"
      ],
      "execution_count": 0,
      "outputs": []
    },
    {
      "cell_type": "code",
      "metadata": {
        "id": "8ILE1-3gHadL",
        "colab_type": "code",
        "colab": {
          "base_uri": "https://localhost:8080/",
          "height": 292
        },
        "outputId": "1283862f-447c-466b-e31b-3eb6e6d35b09"
      },
      "source": [
        "# Deep neural network\n",
        "model_dnn = Sequential()\n",
        "#Reshape data from 2D to 1D -> 32x32 to 1024\n",
        "model_dnn.add(Reshape((1024,),input_shape=(32,32,)))\n",
        "# 1st hidden layer\n",
        "model_dnn.add(Dense(200, activation='relu'))\n",
        "# 2nd hidden layer\n",
        "model_dnn.add(Dense(100, activation='relu'))\n",
        "# Dropout layer\n",
        "model_dnn.add(Dropout(0.25))\n",
        "# 3rd hidden layer\n",
        "model_dnn.add(Dense(60, activation='relu'))\n",
        "# 4th hidden layer\n",
        "model_dnn.add(Dense(30, activation='relu'))\n",
        "# Output layer\n",
        "model_dnn.add(Dense(10, activation='softmax'))\n",
        "# Loss and Optimizer\n",
        "model_dnn.compile(loss='categorical_crossentropy', optimizer='SGD', metrics=['accuracy'])\n",
        "\n",
        "\n",
        "\n"
      ],
      "execution_count": 15,
      "outputs": [
        {
          "output_type": "stream",
          "text": [
            "WARNING:tensorflow:From /usr/local/lib/python3.6/dist-packages/keras/backend/tensorflow_backend.py:66: The name tf.get_default_graph is deprecated. Please use tf.compat.v1.get_default_graph instead.\n",
            "\n",
            "WARNING:tensorflow:From /usr/local/lib/python3.6/dist-packages/keras/backend/tensorflow_backend.py:541: The name tf.placeholder is deprecated. Please use tf.compat.v1.placeholder instead.\n",
            "\n",
            "WARNING:tensorflow:From /usr/local/lib/python3.6/dist-packages/keras/backend/tensorflow_backend.py:4432: The name tf.random_uniform is deprecated. Please use tf.random.uniform instead.\n",
            "\n",
            "WARNING:tensorflow:From /usr/local/lib/python3.6/dist-packages/keras/backend/tensorflow_backend.py:148: The name tf.placeholder_with_default is deprecated. Please use tf.compat.v1.placeholder_with_default instead.\n",
            "\n",
            "WARNING:tensorflow:From /usr/local/lib/python3.6/dist-packages/keras/backend/tensorflow_backend.py:3733: calling dropout (from tensorflow.python.ops.nn_ops) with keep_prob is deprecated and will be removed in a future version.\n",
            "Instructions for updating:\n",
            "Please use `rate` instead of `keep_prob`. Rate should be set to `rate = 1 - keep_prob`.\n",
            "WARNING:tensorflow:From /usr/local/lib/python3.6/dist-packages/keras/optimizers.py:793: The name tf.train.Optimizer is deprecated. Please use tf.compat.v1.train.Optimizer instead.\n",
            "\n",
            "WARNING:tensorflow:From /usr/local/lib/python3.6/dist-packages/keras/backend/tensorflow_backend.py:3576: The name tf.log is deprecated. Please use tf.math.log instead.\n",
            "\n"
          ],
          "name": "stdout"
        }
      ]
    },
    {
      "cell_type": "code",
      "metadata": {
        "id": "AA53tvuqHjBi",
        "colab_type": "code",
        "colab": {
          "base_uri": "https://localhost:8080/",
          "height": 445
        },
        "outputId": "5901f51f-303a-4217-cb4f-e2f83e998e52"
      },
      "source": [
        "# Training the model\n",
        "model_dnn.fit(X_train, y_train, batch_size=32, nb_epoch=10, validation_data=(X_test, y_test))"
      ],
      "execution_count": 17,
      "outputs": [
        {
          "output_type": "stream",
          "text": [
            "Train on 42000 samples, validate on 18000 samples\n",
            "Epoch 1/10\n",
            " 1216/42000 [..............................] - ETA: 5s - loss: 0.8453 - acc: 0.7352"
          ],
          "name": "stdout"
        },
        {
          "output_type": "stream",
          "text": [
            "/usr/local/lib/python3.6/dist-packages/ipykernel_launcher.py:1: UserWarning: The `nb_epoch` argument in `fit` has been renamed `epochs`.\n",
            "  \"\"\"Entry point for launching an IPython kernel.\n"
          ],
          "name": "stderr"
        },
        {
          "output_type": "stream",
          "text": [
            "42000/42000 [==============================] - 6s 150us/step - loss: 0.7824 - acc: 0.7547 - val_loss: 0.7817 - val_acc: 0.7641\n",
            "Epoch 2/10\n",
            "42000/42000 [==============================] - 6s 149us/step - loss: 0.7744 - acc: 0.7580 - val_loss: 0.8257 - val_acc: 0.7505\n",
            "Epoch 3/10\n",
            "42000/42000 [==============================] - 6s 151us/step - loss: 0.7675 - acc: 0.7588 - val_loss: 0.7554 - val_acc: 0.7672\n",
            "Epoch 4/10\n",
            "42000/42000 [==============================] - 6s 149us/step - loss: 0.7588 - acc: 0.7624 - val_loss: 0.7213 - val_acc: 0.7828\n",
            "Epoch 5/10\n",
            "42000/42000 [==============================] - 6s 149us/step - loss: 0.7428 - acc: 0.7675 - val_loss: 0.7643 - val_acc: 0.7641\n",
            "Epoch 6/10\n",
            "42000/42000 [==============================] - 6s 149us/step - loss: 0.7344 - acc: 0.7702 - val_loss: 0.7752 - val_acc: 0.7587\n",
            "Epoch 7/10\n",
            "42000/42000 [==============================] - 6s 150us/step - loss: 0.7278 - acc: 0.7698 - val_loss: 0.7215 - val_acc: 0.7765\n",
            "Epoch 8/10\n",
            "42000/42000 [==============================] - 6s 147us/step - loss: 0.7190 - acc: 0.7736 - val_loss: 0.7194 - val_acc: 0.7797\n",
            "Epoch 9/10\n",
            "42000/42000 [==============================] - 6s 148us/step - loss: 0.7112 - acc: 0.7765 - val_loss: 0.7969 - val_acc: 0.7500\n",
            "Epoch 10/10\n",
            "42000/42000 [==============================] - 6s 150us/step - loss: 0.6966 - acc: 0.7821 - val_loss: 0.6700 - val_acc: 0.7959\n"
          ],
          "name": "stdout"
        },
        {
          "output_type": "execute_result",
          "data": {
            "text/plain": [
              "<keras.callbacks.History at 0x7fcd63c2e518>"
            ]
          },
          "metadata": {
            "tags": []
          },
          "execution_count": 17
        }
      ]
    },
    {
      "cell_type": "code",
      "metadata": {
        "id": "q8iwMw_bHqn-",
        "colab_type": "code",
        "colab": {
          "base_uri": "https://localhost:8080/",
          "height": 391
        },
        "outputId": "65e9127a-adf9-4e33-ba12-abd0f52e6104"
      },
      "source": [
        "model_dnn.summary()"
      ],
      "execution_count": 18,
      "outputs": [
        {
          "output_type": "stream",
          "text": [
            "Model: \"sequential_1\"\n",
            "_________________________________________________________________\n",
            "Layer (type)                 Output Shape              Param #   \n",
            "=================================================================\n",
            "reshape_1 (Reshape)          (None, 1024)              0         \n",
            "_________________________________________________________________\n",
            "dense_1 (Dense)              (None, 200)               205000    \n",
            "_________________________________________________________________\n",
            "dense_2 (Dense)              (None, 100)               20100     \n",
            "_________________________________________________________________\n",
            "dropout_1 (Dropout)          (None, 100)               0         \n",
            "_________________________________________________________________\n",
            "dense_3 (Dense)              (None, 60)                6060      \n",
            "_________________________________________________________________\n",
            "dense_4 (Dense)              (None, 30)                1830      \n",
            "_________________________________________________________________\n",
            "dense_5 (Dense)              (None, 10)                310       \n",
            "=================================================================\n",
            "Total params: 233,300\n",
            "Trainable params: 233,300\n",
            "Non-trainable params: 0\n",
            "_________________________________________________________________\n"
          ],
          "name": "stdout"
        }
      ]
    },
    {
      "cell_type": "code",
      "metadata": {
        "id": "S5FCDte4HxCI",
        "colab_type": "code",
        "colab": {
          "base_uri": "https://localhost:8080/",
          "height": 71
        },
        "outputId": "ae0d011c-3be7-49a7-f8a0-7aeb9ea59259"
      },
      "source": [
        "# Clearing out tensorflow memory\n",
        "clear_session()\n",
        "# Define deep neural network Model\n",
        "model_dnn_2 = Sequential()\n",
        "#Reshape data from 2D to 1D -> 32x32 to 1024\n",
        "model_dnn_2.add(Reshape((1024,),input_shape=(32,32,)))\n",
        "# 1st hidden layer\n",
        "model_dnn_2.add(Dense(200, activation='relu'))\n",
        "# 2nd hidden layer\n",
        "model_dnn_2.add(Dense(100, activation='relu'))\n",
        "# Dropout layer\n",
        "model_dnn_2.add(Dropout(0.25))\n",
        "# 3rd hidden layer\n",
        "model_dnn_2.add(Dense(60, activation='relu'))\n",
        "# 4th hidden layer\n",
        "model_dnn_2.add(Dense(30, activation='relu'))\n",
        "# Output layer\n",
        "model_dnn_2.add(Dense(10, activation='softmax'))\n",
        "# Loss and Optimizer\n",
        "sgd_optimizer = SGD(lr = 0.05)\n",
        "model_dnn_2.compile(loss='categorical_crossentropy', optimizer=sgd_optimizer, metrics=['accuracy'])\n"
      ],
      "execution_count": 19,
      "outputs": [
        {
          "output_type": "stream",
          "text": [
            "WARNING:tensorflow:From /usr/local/lib/python3.6/dist-packages/keras/backend/tensorflow_backend.py:107: The name tf.reset_default_graph is deprecated. Please use tf.compat.v1.reset_default_graph instead.\n",
            "\n"
          ],
          "name": "stdout"
        }
      ]
    },
    {
      "cell_type": "code",
      "metadata": {
        "id": "kDQaW1IBH7O9",
        "colab_type": "code",
        "colab": {
          "base_uri": "https://localhost:8080/",
          "height": 445
        },
        "outputId": "ed23bf92-0731-4e33-bb23-c4b7f9bbc892"
      },
      "source": [
        "# Training the model\n",
        "model_dnn_2.fit(X_train, y_train, batch_size=32, nb_epoch=10, validation_data=(X_test, y_test))"
      ],
      "execution_count": 21,
      "outputs": [
        {
          "output_type": "stream",
          "text": [
            "Train on 42000 samples, validate on 18000 samples\n",
            "Epoch 1/10\n",
            "  896/42000 [..............................] - ETA: 7s - loss: 2.2563 - acc: 0.1462"
          ],
          "name": "stdout"
        },
        {
          "output_type": "stream",
          "text": [
            "/usr/local/lib/python3.6/dist-packages/ipykernel_launcher.py:1: UserWarning: The `nb_epoch` argument in `fit` has been renamed `epochs`.\n",
            "  \"\"\"Entry point for launching an IPython kernel.\n"
          ],
          "name": "stderr"
        },
        {
          "output_type": "stream",
          "text": [
            "42000/42000 [==============================] - 6s 148us/step - loss: 2.3009 - acc: 0.1017 - val_loss: 2.3030 - val_acc: 0.1008\n",
            "Epoch 2/10\n",
            "42000/42000 [==============================] - 6s 145us/step - loss: 2.3031 - acc: 0.1003 - val_loss: 2.3031 - val_acc: 0.0982\n",
            "Epoch 3/10\n",
            "42000/42000 [==============================] - 8s 184us/step - loss: 2.3029 - acc: 0.1009 - val_loss: 2.3037 - val_acc: 0.0955\n",
            "Epoch 4/10\n",
            "42000/42000 [==============================] - 6s 150us/step - loss: 2.3030 - acc: 0.0993 - val_loss: 2.3026 - val_acc: 0.1007\n",
            "Epoch 5/10\n",
            "42000/42000 [==============================] - 6s 149us/step - loss: 2.3043 - acc: 0.0991 - val_loss: 2.3028 - val_acc: 0.0955\n",
            "Epoch 6/10\n",
            "42000/42000 [==============================] - 6s 147us/step - loss: 2.3030 - acc: 0.0976 - val_loss: 2.3031 - val_acc: 0.0955\n",
            "Epoch 7/10\n",
            "42000/42000 [==============================] - 6s 146us/step - loss: 2.3030 - acc: 0.0983 - val_loss: 2.3030 - val_acc: 0.1004\n",
            "Epoch 8/10\n",
            "42000/42000 [==============================] - 6s 147us/step - loss: 2.3030 - acc: 0.0986 - val_loss: 2.3032 - val_acc: 0.0982\n",
            "Epoch 9/10\n",
            "42000/42000 [==============================] - 6s 144us/step - loss: 2.3029 - acc: 0.1020 - val_loss: 2.3032 - val_acc: 0.1008\n",
            "Epoch 10/10\n",
            "42000/42000 [==============================] - 6s 144us/step - loss: 2.3031 - acc: 0.0976 - val_loss: 2.3027 - val_acc: 0.1002\n"
          ],
          "name": "stdout"
        },
        {
          "output_type": "execute_result",
          "data": {
            "text/plain": [
              "<keras.callbacks.History at 0x7fcd5a125240>"
            ]
          },
          "metadata": {
            "tags": []
          },
          "execution_count": 21
        }
      ]
    },
    {
      "cell_type": "code",
      "metadata": {
        "id": "TlHWQ8tQIDso",
        "colab_type": "code",
        "colab": {
          "base_uri": "https://localhost:8080/",
          "height": 391
        },
        "outputId": "818527db-c2c5-4c33-a06e-3fb813a4a360"
      },
      "source": [
        "model_dnn_2.summary()"
      ],
      "execution_count": 22,
      "outputs": [
        {
          "output_type": "stream",
          "text": [
            "Model: \"sequential_1\"\n",
            "_________________________________________________________________\n",
            "Layer (type)                 Output Shape              Param #   \n",
            "=================================================================\n",
            "reshape_1 (Reshape)          (None, 1024)              0         \n",
            "_________________________________________________________________\n",
            "dense_1 (Dense)              (None, 200)               205000    \n",
            "_________________________________________________________________\n",
            "dense_2 (Dense)              (None, 100)               20100     \n",
            "_________________________________________________________________\n",
            "dropout_1 (Dropout)          (None, 100)               0         \n",
            "_________________________________________________________________\n",
            "dense_3 (Dense)              (None, 60)                6060      \n",
            "_________________________________________________________________\n",
            "dense_4 (Dense)              (None, 30)                1830      \n",
            "_________________________________________________________________\n",
            "dense_5 (Dense)              (None, 10)                310       \n",
            "=================================================================\n",
            "Total params: 233,300\n",
            "Trainable params: 233,300\n",
            "Non-trainable params: 0\n",
            "_________________________________________________________________\n"
          ],
          "name": "stdout"
        }
      ]
    },
    {
      "cell_type": "code",
      "metadata": {
        "id": "2SDcQ7HnIJtB",
        "colab_type": "code",
        "colab": {
          "base_uri": "https://localhost:8080/",
          "height": 408
        },
        "outputId": "ce30d32c-53b1-4ecb-9f07-bd3d5d93c2bf"
      },
      "source": [
        "# Define deep neural network Model\n",
        "model_dnn_3 = Sequential()\n",
        "#Reshape data from 2D to 1D -> 32x32 to 1024\n",
        "model_dnn_3.add(Reshape((1024,),input_shape=(32,32,)))\n",
        "#Normalize the data\n",
        "model_dnn_3.add(BatchNormalization())\n",
        "# 1st hidden layer\n",
        "model_dnn_3.add(Dense(200, activation='relu'))\n",
        "model_dnn_3.add(BatchNormalization())\n",
        "# 2nd hidden layer\n",
        "model_dnn_3.add(Dense(100, activation='relu'))\n",
        "model_dnn_3.add(BatchNormalization())\n",
        "# Dropout layer\n",
        "model_dnn_3.add(Dropout(0.25))\n",
        "# 3rd hidden layer\n",
        "model_dnn_3.add(Dense(60, activation='relu'))\n",
        "model_dnn_3.add(BatchNormalization())\n",
        "# 4th hidden layer\n",
        "model_dnn_3.add(Dense(30, activation='relu'))\n",
        "model_dnn_3.add(BatchNormalization())\n",
        "# Output layer\n",
        "model_dnn_3.add(Dense(10, activation='softmax'))\n",
        "# Loss and Optimizer\n",
        "model_dnn_3.compile(loss='categorical_crossentropy', optimizer='adam', metrics=['accuracy'])\n",
        "# Training the model\n",
        "model_dnn_3.fit(X_train, y_train, batch_size=32, nb_epoch=10, validation_data=(X_test, y_test))"
      ],
      "execution_count": 24,
      "outputs": [
        {
          "output_type": "stream",
          "text": [
            "/usr/local/lib/python3.6/dist-packages/ipykernel_launcher.py:25: UserWarning: The `nb_epoch` argument in `fit` has been renamed `epochs`.\n"
          ],
          "name": "stderr"
        },
        {
          "output_type": "stream",
          "text": [
            "Train on 42000 samples, validate on 18000 samples\n",
            "Epoch 1/10\n",
            "42000/42000 [==============================] - 15s 360us/step - loss: 1.7073 - acc: 0.4193 - val_loss: 1.1083 - val_acc: 0.6627\n",
            "Epoch 2/10\n",
            "42000/42000 [==============================] - 14s 322us/step - loss: 1.2393 - acc: 0.6060 - val_loss: 0.9841 - val_acc: 0.6969\n",
            "Epoch 3/10\n",
            "42000/42000 [==============================] - 14s 322us/step - loss: 1.1154 - acc: 0.6471 - val_loss: 0.8580 - val_acc: 0.7339\n",
            "Epoch 4/10\n",
            "42000/42000 [==============================] - 14s 324us/step - loss: 1.0310 - acc: 0.6735 - val_loss: 0.7931 - val_acc: 0.7538\n",
            "Epoch 5/10\n",
            "42000/42000 [==============================] - 13s 320us/step - loss: 0.9635 - acc: 0.6952 - val_loss: 0.7744 - val_acc: 0.7597\n",
            "Epoch 6/10\n",
            "42000/42000 [==============================] - 13s 321us/step - loss: 0.9036 - acc: 0.7159 - val_loss: 0.6962 - val_acc: 0.7852\n",
            "Epoch 7/10\n",
            "42000/42000 [==============================] - 13s 320us/step - loss: 0.8740 - acc: 0.7252 - val_loss: 0.6697 - val_acc: 0.7941\n",
            "Epoch 8/10\n",
            "42000/42000 [==============================] - 13s 320us/step - loss: 0.8384 - acc: 0.7362 - val_loss: 0.6471 - val_acc: 0.8009\n",
            "Epoch 9/10\n",
            "42000/42000 [==============================] - 13s 320us/step - loss: 0.8083 - acc: 0.7456 - val_loss: 0.6226 - val_acc: 0.8118\n",
            "Epoch 10/10\n",
            "42000/42000 [==============================] - 13s 319us/step - loss: 0.7918 - acc: 0.7528 - val_loss: 0.6120 - val_acc: 0.8113\n"
          ],
          "name": "stdout"
        },
        {
          "output_type": "execute_result",
          "data": {
            "text/plain": [
              "<keras.callbacks.History at 0x7fcd591ec278>"
            ]
          },
          "metadata": {
            "tags": []
          },
          "execution_count": 24
        }
      ]
    },
    {
      "cell_type": "code",
      "metadata": {
        "id": "XeqKx8D6Ist0",
        "colab_type": "code",
        "colab": {}
      },
      "source": [
        "# Prediction\n",
        "y_pred_3 = model_dnn_3.predict(X_test)"
      ],
      "execution_count": 0,
      "outputs": []
    },
    {
      "cell_type": "code",
      "metadata": {
        "id": "m9kCiAC_I60v",
        "colab_type": "code",
        "colab": {}
      },
      "source": [
        "# The classification report is as follows:\n",
        "class_report = classification_report(y_test.argmax(axis=1), y_pred_3.argmax(axis=1))"
      ],
      "execution_count": 0,
      "outputs": []
    },
    {
      "cell_type": "code",
      "metadata": {
        "id": "beUAoWrGI-qH",
        "colab_type": "code",
        "colab": {
          "base_uri": "https://localhost:8080/",
          "height": 204
        },
        "outputId": "d5532015-41b7-4b36-8512-3336a1df4736"
      },
      "source": [
        "# Also, finding the accuracy and the confusion matrix to evaluate the model:\n",
        "accuracy = accuracy_score(y_test.argmax(axis=1), y_pred_3.argmax(axis=1))\n",
        "c_matrix = confusion_matrix(y_test.argmax(axis=1), y_pred_3.argmax(axis=1))\n",
        "print(\"The accuracy is\", round(accuracy*100, 2), \"% and the confusion matrix is\\n\", c_matrix)"
      ],
      "execution_count": 27,
      "outputs": [
        {
          "output_type": "stream",
          "text": [
            "The accuracy is 81.13 % and the confusion matrix is\n",
            " [[1566   35    6   22   28   16   39   28   34   40]\n",
            " [  32 1565   18   32   41   22   24   64   13   17]\n",
            " [  19   39 1425   52   25   19   19  137   25   43]\n",
            " [  19   44   31 1301   15  179   16   47   42   25]\n",
            " [  26   63   28   29 1524   11   52   11   20   48]\n",
            " [  14   32   16   85    9 1445   62   16   52   37]\n",
            " [  42   40   13   18   49   77 1428   13  138   14]\n",
            " [  16   61   33   21   15   11   17 1598   10   26]\n",
            " [  30   55   26   49   26   78  145   22 1324   57]\n",
            " [  68   56   22   37   31   66   21   36   39 1428]]\n"
          ],
          "name": "stdout"
        }
      ]
    },
    {
      "cell_type": "code",
      "metadata": {
        "id": "Afp1sY_CJICx",
        "colab_type": "code",
        "colab": {}
      },
      "source": [
        "# The accuracy of the KNN model is coming out to be 51.33%, whereas, the accuracy of the deep neural network model is coming out to be\n",
        "# 84.2%.\n",
        "# Deep Neural network has better accuracy than KNN\n",
        "# KNN doesn't work with large data.\n",
        "# Huge training data is needed to get better results in NN\n",
        "# CPU processing\n",
        "# From the above classication metrics, we can see that KNN is denitely not a good choice for this image classication model and the use of\n",
        "# DNN model is truly justied.\n"
      ],
      "execution_count": 0,
      "outputs": []
    },
    {
      "cell_type": "code",
      "metadata": {
        "id": "IxaBYsbfJJqx",
        "colab_type": "code",
        "colab": {}
      },
      "source": [
        "images_of_numbers_file.close()"
      ],
      "execution_count": 0,
      "outputs": []
    }
  ]
}