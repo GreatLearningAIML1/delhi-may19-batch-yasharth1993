{
 "cells": [
  {
   "cell_type": "code",
   "execution_count": 1,
   "metadata": {
    "colab": {},
    "colab_type": "code",
    "id": "Oem52N8dst4G"
   },
   "outputs": [],
   "source": [
    "# Importing the necessary packages\n",
    "\n",
    "import pandas as pd\n",
    "import numpy as np"
   ]
  },
  {
   "cell_type": "code",
   "execution_count": 2,
   "metadata": {
    "colab": {
     "base_uri": "https://localhost:8080/",
     "height": 195
    },
    "colab_type": "code",
    "executionInfo": {
     "elapsed": 14840,
     "status": "ok",
     "timestamp": 1574608996891,
     "user": {
      "displayName": "Rashi Khanna",
      "photoUrl": "https://lh3.googleusercontent.com/a-/AAuE7mDE9tqaJApZNwf0diKaprgyfGdCDJP_OzMjAg8KosA=s64",
      "userId": "05836433031738441465"
     },
     "user_tz": -330
    },
    "id": "jg9mPpxLst4c",
    "outputId": "18ad15a7-192e-4f66-9271-2a0e584e825c"
   },
   "outputs": [
    {
     "data": {
      "text/html": [
       "<div>\n",
       "<style scoped>\n",
       "    .dataframe tbody tr th:only-of-type {\n",
       "        vertical-align: middle;\n",
       "    }\n",
       "\n",
       "    .dataframe tbody tr th {\n",
       "        vertical-align: top;\n",
       "    }\n",
       "\n",
       "    .dataframe thead th {\n",
       "        text-align: right;\n",
       "    }\n",
       "</style>\n",
       "<table border=\"1\" class=\"dataframe\">\n",
       "  <thead>\n",
       "    <tr style=\"text-align: right;\">\n",
       "      <th></th>\n",
       "      <th>userId</th>\n",
       "      <th>productId</th>\n",
       "      <th>ratings</th>\n",
       "      <th>timestamp</th>\n",
       "    </tr>\n",
       "  </thead>\n",
       "  <tbody>\n",
       "    <tr>\n",
       "      <th>0</th>\n",
       "      <td>A2CX7LUOHB2NDG</td>\n",
       "      <td>0321732944</td>\n",
       "      <td>5.0</td>\n",
       "      <td>1341100800</td>\n",
       "    </tr>\n",
       "    <tr>\n",
       "      <th>1</th>\n",
       "      <td>A2NWSAGRHCP8N5</td>\n",
       "      <td>0439886341</td>\n",
       "      <td>1.0</td>\n",
       "      <td>1367193600</td>\n",
       "    </tr>\n",
       "    <tr>\n",
       "      <th>2</th>\n",
       "      <td>A2WNBOD3WNDNKT</td>\n",
       "      <td>0439886341</td>\n",
       "      <td>3.0</td>\n",
       "      <td>1374451200</td>\n",
       "    </tr>\n",
       "    <tr>\n",
       "      <th>3</th>\n",
       "      <td>A1GI0U4ZRJA8WN</td>\n",
       "      <td>0439886341</td>\n",
       "      <td>1.0</td>\n",
       "      <td>1334707200</td>\n",
       "    </tr>\n",
       "    <tr>\n",
       "      <th>4</th>\n",
       "      <td>A1QGNMC6O1VW39</td>\n",
       "      <td>0511189877</td>\n",
       "      <td>5.0</td>\n",
       "      <td>1397433600</td>\n",
       "    </tr>\n",
       "  </tbody>\n",
       "</table>\n",
       "</div>"
      ],
      "text/plain": [
       "           userId   productId  ratings   timestamp\n",
       "0  A2CX7LUOHB2NDG  0321732944      5.0  1341100800\n",
       "1  A2NWSAGRHCP8N5  0439886341      1.0  1367193600\n",
       "2  A2WNBOD3WNDNKT  0439886341      3.0  1374451200\n",
       "3  A1GI0U4ZRJA8WN  0439886341      1.0  1334707200\n",
       "4  A1QGNMC6O1VW39  0511189877      5.0  1397433600"
      ]
     },
     "execution_count": 2,
     "metadata": {},
     "output_type": "execute_result"
    }
   ],
   "source": [
    "# Reading the dataset\n",
    "\n",
    "#ratings_Elec_df = pd.read_csv('/content/gdrive/My Drive/Colab Notebooks/ratings_Electronics.csv')\n",
    "ratings_Elec_df = pd.read_csv('ratings_Electronics.csv')\n",
    "ratings_Elec_df.columns = ['userId', 'productId', 'ratings', 'timestamp']\n",
    "ratings_Elec_df.head()"
   ]
  },
  {
   "cell_type": "code",
   "execution_count": 3,
   "metadata": {
    "colab": {},
    "colab_type": "code",
    "id": "mwrioa9jst4v"
   },
   "outputs": [],
   "source": [
    "# As we don't need 'timestamp' column, we drop it.\n",
    "\n",
    "ratings_Elec_df = ratings_Elec_df.drop(['timestamp'], axis = 1)"
   ]
  },
  {
   "cell_type": "code",
   "execution_count": 4,
   "metadata": {
    "colab": {
     "base_uri": "https://localhost:8080/",
     "height": 151
    },
    "colab_type": "code",
    "executionInfo": {
     "elapsed": 777,
     "status": "ok",
     "timestamp": 1574609001091,
     "user": {
      "displayName": "Rashi Khanna",
      "photoUrl": "https://lh3.googleusercontent.com/a-/AAuE7mDE9tqaJApZNwf0diKaprgyfGdCDJP_OzMjAg8KosA=s64",
      "userId": "05836433031738441465"
     },
     "user_tz": -330
    },
    "id": "Dkuyrud_st47",
    "outputId": "6d3f60ec-b0fb-4467-fa53-884f95aef3ba"
   },
   "outputs": [
    {
     "name": "stdout",
     "output_type": "stream",
     "text": [
      "<class 'pandas.core.frame.DataFrame'>\n",
      "RangeIndex: 7824481 entries, 0 to 7824480\n",
      "Data columns (total 3 columns):\n",
      "userId       object\n",
      "productId    object\n",
      "ratings      float64\n",
      "dtypes: float64(1), object(2)\n",
      "memory usage: 179.1+ MB\n"
     ]
    }
   ],
   "source": [
    "ratings_Elec_df.info()"
   ]
  },
  {
   "cell_type": "code",
   "execution_count": 5,
   "metadata": {
    "colab": {
     "base_uri": "https://localhost:8080/",
     "height": 34
    },
    "colab_type": "code",
    "executionInfo": {
     "elapsed": 859,
     "status": "ok",
     "timestamp": 1574609002593,
     "user": {
      "displayName": "Rashi Khanna",
      "photoUrl": "https://lh3.googleusercontent.com/a-/AAuE7mDE9tqaJApZNwf0diKaprgyfGdCDJP_OzMjAg8KosA=s64",
      "userId": "05836433031738441465"
     },
     "user_tz": -330
    },
    "id": "eYAIUMjWst5H",
    "outputId": "84f1ba1b-9b72-49af-f920-5e009b5578b9"
   },
   "outputs": [
    {
     "data": {
      "text/plain": [
       "(7824481, 3)"
      ]
     },
     "execution_count": 5,
     "metadata": {},
     "output_type": "execute_result"
    }
   ],
   "source": [
    "ratings_Elec_df.shape"
   ]
  },
  {
   "cell_type": "code",
   "execution_count": 6,
   "metadata": {
    "colab": {
     "base_uri": "https://localhost:8080/",
     "height": 34
    },
    "colab_type": "code",
    "executionInfo": {
     "elapsed": 1581,
     "status": "ok",
     "timestamp": 1574609004787,
     "user": {
      "displayName": "Rashi Khanna",
      "photoUrl": "https://lh3.googleusercontent.com/a-/AAuE7mDE9tqaJApZNwf0diKaprgyfGdCDJP_OzMjAg8KosA=s64",
      "userId": "05836433031738441465"
     },
     "user_tz": -330
    },
    "id": "YxAfqtszst5V",
    "outputId": "d95aee1f-51c2-4ca0-c3fa-2aeb11c13448"
   },
   "outputs": [
    {
     "data": {
      "text/plain": [
       "False"
      ]
     },
     "execution_count": 6,
     "metadata": {},
     "output_type": "execute_result"
    }
   ],
   "source": [
    "# Evaluating whether there are any nan values or not\n",
    "\n",
    "ratings_Elec_df.isnull().values.any()"
   ]
  },
  {
   "cell_type": "code",
   "execution_count": 7,
   "metadata": {
    "colab": {},
    "colab_type": "code",
    "id": "BkgzajYVst5f"
   },
   "outputs": [],
   "source": [
    "# Importing the necessary packages and enable plotting of graphs in Jupyter notebook\n",
    "\n",
    "import matplotlib.pyplot as plt\n",
    "import seaborn as sns\n",
    "%matplotlib inline"
   ]
  },
  {
   "cell_type": "code",
   "execution_count": 8,
   "metadata": {
    "colab": {
     "base_uri": "https://localhost:8080/",
     "height": 314
    },
    "colab_type": "code",
    "executionInfo": {
     "elapsed": 2641,
     "status": "ok",
     "timestamp": 1574609008670,
     "user": {
      "displayName": "Rashi Khanna",
      "photoUrl": "https://lh3.googleusercontent.com/a-/AAuE7mDE9tqaJApZNwf0diKaprgyfGdCDJP_OzMjAg8KosA=s64",
      "userId": "05836433031738441465"
     },
     "user_tz": -330
    },
    "id": "yrUjhuMnst5r",
    "outputId": "b5aeb7b5-76ad-48d7-c15c-5de3d213acce"
   },
   "outputs": [
    {
     "data": {
      "text/plain": [
       "array([[<matplotlib.axes._subplots.AxesSubplot object at 0x00000090392856A0>]],\n",
       "      dtype=object)"
      ]
     },
     "execution_count": 8,
     "metadata": {},
     "output_type": "execute_result"
    },
    {
     "data": {
      "image/png": "[encoded data removed]",
      "text/plain": [
       "<Figure size 432x288 with 1 Axes>"
      ]
     },
     "metadata": {
      "needs_background": "light"
     },
     "output_type": "display_data"
    }
   ],
   "source": [
    "# Plotting the histogram for the 'ratings' column-\n",
    "\n",
    "ratings_Elec_df.hist(column='ratings')"
   ]
  },
  {
   "cell_type": "code",
   "execution_count": 0,
   "metadata": {
    "colab": {},
    "colab_type": "code",
    "id": "h7eCIqTqst51"
   },
   "outputs": [],
   "source": [
    "# More than 4 lakh people have given very high ratings to the Electronics, i.e., most of them liked the electronics very much.\n",
    "# Also, we can see that there is no average rating for the electronics around 2.5 rating.\n",
    "# The people either liked the electronics or disliked the electronics."
   ]
  },
  {
   "cell_type": "code",
   "execution_count": 9,
   "metadata": {
    "colab": {},
    "colab_type": "code",
    "id": "8fSYqXjqst5-"
   },
   "outputs": [],
   "source": [
    "# Taking a subset of the dataframe by keeping the users with 50 or more number of ratings\n",
    "ratings_Elec_df = ratings_Elec_df[ratings_Elec_df.groupby('userId')['userId'].transform('size') >= 50]"
   ]
  },
  {
   "cell_type": "code",
   "execution_count": 10,
   "metadata": {
    "colab": {
     "base_uri": "https://localhost:8080/",
     "height": 34
    },
    "colab_type": "code",
    "executionInfo": {
     "elapsed": 34272,
     "status": "ok",
     "timestamp": 1574609046743,
     "user": {
      "displayName": "Rashi Khanna",
      "photoUrl": "https://lh3.googleusercontent.com/a-/AAuE7mDE9tqaJApZNwf0diKaprgyfGdCDJP_OzMjAg8KosA=s64",
      "userId": "05836433031738441465"
     },
     "user_tz": -330
    },
    "id": "5sgOVvKrst6I",
    "outputId": "99c16de1-1aec-43b2-a8a2-3c8ee7a88608"
   },
   "outputs": [
    {
     "data": {
      "text/plain": [
       "(125871, 3)"
      ]
     },
     "execution_count": 10,
     "metadata": {},
     "output_type": "execute_result"
    }
   ],
   "source": [
    "ratings_Elec_df.shape"
   ]
  },
  {
   "cell_type": "code",
   "execution_count": 0,
   "metadata": {
    "colab": {},
    "colab_type": "code",
    "id": "YTN_Vv8Rst6R"
   },
   "outputs": [],
   "source": [
    "# Popularity Recommender model"
   ]
  },
  {
   "cell_type": "code",
   "execution_count": 11,
   "metadata": {
    "colab": {},
    "colab_type": "code",
    "id": "DcZiDtJost6a"
   },
   "outputs": [
    {
     "ename": "ModuleNotFoundError",
     "evalue": "No module named 'Recommenders'",
     "output_type": "error",
     "traceback": [
      "\u001b[1;31m---------------------------------------------------------------------------\u001b[0m",
      "\u001b[1;31mModuleNotFoundError\u001b[0m                       Traceback (most recent call last)",
      "\u001b[1;32m<ipython-input-11-ddd63a00f5a3>\u001b[0m in \u001b[0;36m<module>\u001b[1;34m()\u001b[0m\n\u001b[1;32m----> 1\u001b[1;33m \u001b[1;32mimport\u001b[0m \u001b[0mRecommenders\u001b[0m \u001b[1;32mas\u001b[0m \u001b[0mRecommenders\u001b[0m\u001b[1;33m\u001b[0m\u001b[0m\n\u001b[0m\u001b[0;32m      2\u001b[0m \u001b[1;32mimport\u001b[0m \u001b[0mEvaluation\u001b[0m \u001b[1;32mas\u001b[0m \u001b[0mEvaluation\u001b[0m\u001b[1;33m\u001b[0m\u001b[0m\n",
      "\u001b[1;31mModuleNotFoundError\u001b[0m: No module named 'Recommenders'"
     ]
    }
   ],
   "source": [
    "import Recommenders as Recommenders\n",
    "import Evaluation as Evaluation"
   ]
  },
  {
   "cell_type": "code",
   "execution_count": 12,
   "metadata": {
    "colab": {},
    "colab_type": "code",
    "id": "5kCuwXkQst6i"
   },
   "outputs": [],
   "source": [
    "product_grouped = ratings_Elec_df.groupby(['productId']).agg({'ratings':'count'}).reset_index()"
   ]
  },
  {
   "cell_type": "code",
   "execution_count": 14,
   "metadata": {
    "colab": {},
    "colab_type": "code",
    "id": "6xHv-Qlnst6p"
   },
   "outputs": [],
   "source": [
    "grouped_sum = product_grouped['ratings'].sum()"
   ]
  },
  {
   "cell_type": "code",
   "execution_count": 15,
   "metadata": {
    "colab": {},
    "colab_type": "code",
    "id": "Sa--9ipist6u"
   },
   "outputs": [],
   "source": [
    "product_grouped['percentage'] = product_grouped['ratings'].div(grouped_sum)*100"
   ]
  },
  {
   "cell_type": "code",
   "execution_count": 0,
   "metadata": {
    "colab": {},
    "colab_type": "code",
    "id": "VzWTjPkkst6z"
   },
   "outputs": [],
   "source": [
    "# product_grouped.sort_values(['ratings', 'productId'], ascending = [0,1])"
   ]
  },
  {
   "cell_type": "code",
   "execution_count": 16,
   "metadata": {
    "colab": {},
    "colab_type": "code",
    "id": "bFB17TeXst63"
   },
   "outputs": [],
   "source": [
    "users = ratings_Elec_df['userId'].unique()"
   ]
  },
  {
   "cell_type": "code",
   "execution_count": 17,
   "metadata": {
    "colab": {},
    "colab_type": "code",
    "id": "j81DiLr-st67"
   },
   "outputs": [],
   "source": [
    "# Splitting the data into train and test datasets\n",
    "\n",
    "from sklearn.model_selection import train_test_split\n",
    "train_data1, test_data1 = train_test_split(ratings_Elec_df, test_size = 0.3, random_state = 55)"
   ]
  },
  {
   "cell_type": "code",
   "execution_count": null,
   "metadata": {},
   "outputs": [],
   "source": [
    "Popularity_model = Recommenders.popularity_recommender_py()"
   ]
  },
  {
   "cell_type": "code",
   "execution_count": null,
   "metadata": {},
   "outputs": [],
   "source": [
    "Popularity_model.create(train_data1, 'userId', 'productId')"
   ]
  },
  {
   "cell_type": "code",
   "execution_count": 23,
   "metadata": {
    "colab": {
     "base_uri": "https://localhost:8080/",
     "height": 343
    },
    "colab_type": "code",
    "executionInfo": {
     "elapsed": 1514,
     "status": "ok",
     "timestamp": 1574609062258,
     "user": {
      "displayName": "Rashi Khanna",
      "photoUrl": "https://lh3.googleusercontent.com/a-/AAuE7mDE9tqaJApZNwf0diKaprgyfGdCDJP_OzMjAg8KosA=s64",
      "userId": "05836433031738441465"
     },
     "user_tz": -330
    },
    "id": "igbvxax0st7H",
    "outputId": "7418da86-27c5-4910-db48-4977fb75d32b"
   },
   "outputs": [
    {
     "data": {
      "text/html": [
       "<div>\n",
       "<style scoped>\n",
       "    .dataframe tbody tr th:only-of-type {\n",
       "        vertical-align: middle;\n",
       "    }\n",
       "\n",
       "    .dataframe tbody tr th {\n",
       "        vertical-align: top;\n",
       "    }\n",
       "\n",
       "    .dataframe thead th {\n",
       "        text-align: right;\n",
       "    }\n",
       "</style>\n",
       "<table border=\"1\" class=\"dataframe\">\n",
       "  <thead>\n",
       "    <tr style=\"text-align: right;\">\n",
       "      <th></th>\n",
       "      <th>userId</th>\n",
       "      <th>productId</th>\n",
       "      <th>score</th>\n",
       "      <th>Rank</th>\n",
       "    </tr>\n",
       "  </thead>\n",
       "  <tbody>\n",
       "    <tr>\n",
       "      <th>30819</th>\n",
       "      <td>A1A5KUIIIHFF4U</td>\n",
       "      <td>B0088CJT4U</td>\n",
       "      <td>154</td>\n",
       "      <td>1.0</td>\n",
       "    </tr>\n",
       "    <tr>\n",
       "      <th>19577</th>\n",
       "      <td>A1A5KUIIIHFF4U</td>\n",
       "      <td>B003ES5ZUU</td>\n",
       "      <td>131</td>\n",
       "      <td>2.0</td>\n",
       "    </tr>\n",
       "    <tr>\n",
       "      <th>30231</th>\n",
       "      <td>A1A5KUIIIHFF4U</td>\n",
       "      <td>B007WTAJTO</td>\n",
       "      <td>114</td>\n",
       "      <td>3.0</td>\n",
       "    </tr>\n",
       "    <tr>\n",
       "      <th>30524</th>\n",
       "      <td>A1A5KUIIIHFF4U</td>\n",
       "      <td>B00829TIEK</td>\n",
       "      <td>105</td>\n",
       "      <td>4.0</td>\n",
       "    </tr>\n",
       "    <tr>\n",
       "      <th>8668</th>\n",
       "      <td>A1A5KUIIIHFF4U</td>\n",
       "      <td>B000N99BBC</td>\n",
       "      <td>103</td>\n",
       "      <td>5.0</td>\n",
       "    </tr>\n",
       "    <tr>\n",
       "      <th>31074</th>\n",
       "      <td>A1A5KUIIIHFF4U</td>\n",
       "      <td>B008DWCRQW</td>\n",
       "      <td>95</td>\n",
       "      <td>6.0</td>\n",
       "    </tr>\n",
       "    <tr>\n",
       "      <th>17288</th>\n",
       "      <td>A1A5KUIIIHFF4U</td>\n",
       "      <td>B002R5AM7C</td>\n",
       "      <td>89</td>\n",
       "      <td>7.0</td>\n",
       "    </tr>\n",
       "    <tr>\n",
       "      <th>30520</th>\n",
       "      <td>A1A5KUIIIHFF4U</td>\n",
       "      <td>B00829THK0</td>\n",
       "      <td>88</td>\n",
       "      <td>8.0</td>\n",
       "    </tr>\n",
       "    <tr>\n",
       "      <th>22674</th>\n",
       "      <td>A1A5KUIIIHFF4U</td>\n",
       "      <td>B004CLYEDC</td>\n",
       "      <td>80</td>\n",
       "      <td>9.0</td>\n",
       "    </tr>\n",
       "    <tr>\n",
       "      <th>17456</th>\n",
       "      <td>A1A5KUIIIHFF4U</td>\n",
       "      <td>B002SZEOLG</td>\n",
       "      <td>77</td>\n",
       "      <td>10.0</td>\n",
       "    </tr>\n",
       "  </tbody>\n",
       "</table>\n",
       "</div>"
      ],
      "text/plain": [
       "               userId   productId  score  Rank\n",
       "30819  A1A5KUIIIHFF4U  B0088CJT4U    154   1.0\n",
       "19577  A1A5KUIIIHFF4U  B003ES5ZUU    131   2.0\n",
       "30231  A1A5KUIIIHFF4U  B007WTAJTO    114   3.0\n",
       "30524  A1A5KUIIIHFF4U  B00829TIEK    105   4.0\n",
       "8668   A1A5KUIIIHFF4U  B000N99BBC    103   5.0\n",
       "31074  A1A5KUIIIHFF4U  B008DWCRQW     95   6.0\n",
       "17288  A1A5KUIIIHFF4U  B002R5AM7C     89   7.0\n",
       "30520  A1A5KUIIIHFF4U  B00829THK0     88   8.0\n",
       "22674  A1A5KUIIIHFF4U  B004CLYEDC     80   9.0\n",
       "17456  A1A5KUIIIHFF4U  B002SZEOLG     77  10.0"
      ]
     },
     "execution_count": 23,
     "metadata": {
      "tags": []
     },
     "output_type": "execute_result"
    }
   ],
   "source": [
    "# Recommending products to user 8th-\n",
    "\n",
    "user_id = users[9]\n",
    "Popularity_model.recommend(user_id)"
   ]
  },
  {
   "cell_type": "code",
   "execution_count": 24,
   "metadata": {
    "colab": {
     "base_uri": "https://localhost:8080/",
     "height": 195
    },
    "colab_type": "code",
    "executionInfo": {
     "elapsed": 1018,
     "status": "ok",
     "timestamp": 1574609064558,
     "user": {
      "displayName": "Rashi Khanna",
      "photoUrl": "https://lh3.googleusercontent.com/a-/AAuE7mDE9tqaJApZNwf0diKaprgyfGdCDJP_OzMjAg8KosA=s64",
      "userId": "05836433031738441465"
     },
     "user_tz": -330
    },
    "id": "MBFBVsMSzzdb",
    "outputId": "95d4a753-795d-4a3a-f539-04f706b8e1f8"
   },
   "outputs": [
    {
     "data": {
      "text/html": [
       "<div>\n",
       "<style scoped>\n",
       "    .dataframe tbody tr th:only-of-type {\n",
       "        vertical-align: middle;\n",
       "    }\n",
       "\n",
       "    .dataframe tbody tr th {\n",
       "        vertical-align: top;\n",
       "    }\n",
       "\n",
       "    .dataframe thead th {\n",
       "        text-align: right;\n",
       "    }\n",
       "</style>\n",
       "<table border=\"1\" class=\"dataframe\">\n",
       "  <thead>\n",
       "    <tr style=\"text-align: right;\">\n",
       "      <th></th>\n",
       "      <th>userId</th>\n",
       "      <th>productId</th>\n",
       "      <th>score</th>\n",
       "      <th>Rank</th>\n",
       "    </tr>\n",
       "  </thead>\n",
       "  <tbody>\n",
       "    <tr>\n",
       "      <th>30819</th>\n",
       "      <td>A2JXS1JII6SAUD</td>\n",
       "      <td>B0088CJT4U</td>\n",
       "      <td>154</td>\n",
       "      <td>1.0</td>\n",
       "    </tr>\n",
       "    <tr>\n",
       "      <th>19577</th>\n",
       "      <td>A2JXS1JII6SAUD</td>\n",
       "      <td>B003ES5ZUU</td>\n",
       "      <td>131</td>\n",
       "      <td>2.0</td>\n",
       "    </tr>\n",
       "    <tr>\n",
       "      <th>30231</th>\n",
       "      <td>A2JXS1JII6SAUD</td>\n",
       "      <td>B007WTAJTO</td>\n",
       "      <td>114</td>\n",
       "      <td>3.0</td>\n",
       "    </tr>\n",
       "    <tr>\n",
       "      <th>30524</th>\n",
       "      <td>A2JXS1JII6SAUD</td>\n",
       "      <td>B00829TIEK</td>\n",
       "      <td>105</td>\n",
       "      <td>4.0</td>\n",
       "    </tr>\n",
       "    <tr>\n",
       "      <th>8668</th>\n",
       "      <td>A2JXS1JII6SAUD</td>\n",
       "      <td>B000N99BBC</td>\n",
       "      <td>103</td>\n",
       "      <td>5.0</td>\n",
       "    </tr>\n",
       "  </tbody>\n",
       "</table>\n",
       "</div>"
      ],
      "text/plain": [
       "               userId   productId  score  Rank\n",
       "30819  A2JXS1JII6SAUD  B0088CJT4U    154   1.0\n",
       "19577  A2JXS1JII6SAUD  B003ES5ZUU    131   2.0\n",
       "30231  A2JXS1JII6SAUD  B007WTAJTO    114   3.0\n",
       "30524  A2JXS1JII6SAUD  B00829TIEK    105   4.0\n",
       "8668   A2JXS1JII6SAUD  B000N99BBC    103   5.0"
      ]
     },
     "execution_count": 24,
     "metadata": {
      "tags": []
     },
     "output_type": "execute_result"
    }
   ],
   "source": [
    "# First 5 Recommended products for user 25th-\n",
    "\n",
    "user_id = users[26]\n",
    "Popularity_model.recommend(user_id).head()"
   ]
  },
  {
   "cell_type": "code",
   "execution_count": 0,
   "metadata": {
    "colab": {},
    "colab_type": "code",
    "id": "gZwypfd1st7N"
   },
   "outputs": [],
   "source": [
    "# Collaborative Filtering model"
   ]
  },
  {
   "cell_type": "code",
   "execution_count": 26,
   "metadata": {
    "colab": {
     "base_uri": "https://localhost:8080/",
     "height": 306
    },
    "colab_type": "code",
    "executionInfo": {
     "elapsed": 44503,
     "status": "ok",
     "timestamp": 1574609111496,
     "user": {
      "displayName": "Rashi Khanna",
      "photoUrl": "https://lh3.googleusercontent.com/a-/AAuE7mDE9tqaJApZNwf0diKaprgyfGdCDJP_OzMjAg8KosA=s64",
      "userId": "05836433031738441465"
     },
     "user_tz": -330
    },
    "id": "GSUKUuhC416B",
    "outputId": "4068f179-1738-4fa5-82a8-53121d5dc4e9"
   },
   "outputs": [
    {
     "name": "stdout",
     "output_type": "stream",
     "text": [
      "Collecting surprise\n",
      "  Downloading https://files.pythonhosted.org/packages/61/de/e5cba8682201fcf9c3719a6fdda95693468ed061945493dea2dd37c5618b/surprise-0.1-py2.py3-none-any.whl\n",
      "Collecting scikit-surprise\n",
      "\u001b[?25l  Downloading https://files.pythonhosted.org/packages/f5/da/b5700d96495fb4f092be497f02492768a3d96a3f4fa2ae7dea46d4081cfa/scikit-surprise-1.1.0.tar.gz (6.4MB)\n",
      "\u001b[K     |████████████████████████████████| 6.5MB 2.7MB/s \n",
      "\u001b[?25hRequirement already satisfied: joblib>=0.11 in /usr/local/lib/python3.6/dist-packages (from scikit-surprise->surprise) (0.14.0)\n",
      "Requirement already satisfied: numpy>=1.11.2 in /usr/local/lib/python3.6/dist-packages (from scikit-surprise->surprise) (1.17.4)\n",
      "Requirement already satisfied: scipy>=1.0.0 in /usr/local/lib/python3.6/dist-packages (from scikit-surprise->surprise) (1.3.2)\n",
      "Requirement already satisfied: six>=1.10.0 in /usr/local/lib/python3.6/dist-packages (from scikit-surprise->surprise) (1.12.0)\n",
      "Building wheels for collected packages: scikit-surprise\n",
      "  Building wheel for scikit-surprise (setup.py) ... \u001b[?25l\u001b[?25hdone\n",
      "  Created wheel for scikit-surprise: filename=scikit_surprise-1.1.0-cp36-cp36m-linux_x86_64.whl size=1678239 sha256=44e9fcfab3c3824c4ab66db06316aaf308c7dd0214520786f133086d675dacba\n",
      "  Stored in directory: /root/.cache/pip/wheels/cc/fa/8c/16c93fccce688ae1bde7d979ff102f7bee980d9cfeb8641bcf\n",
      "Successfully built scikit-surprise\n",
      "Installing collected packages: scikit-surprise, surprise\n",
      "Successfully installed scikit-surprise-1.1.0 surprise-0.1\n"
     ]
    }
   ],
   "source": [
    "pip install surprise"
   ]
  },
  {
   "cell_type": "code",
   "execution_count": 0,
   "metadata": {
    "colab": {},
    "colab_type": "code",
    "id": "nsLsdCIFst7P"
   },
   "outputs": [],
   "source": [
    "from surprise import Dataset,Reader\n",
    "reader = Reader(rating_scale=(1, 5))"
   ]
  },
  {
   "cell_type": "code",
   "execution_count": 0,
   "metadata": {
    "colab": {},
    "colab_type": "code",
    "id": "UTVqcAEUst7R"
   },
   "outputs": [],
   "source": [
    "data = Dataset.load_from_df(ratings_Elec_df[['userId', 'productId', 'ratings']], reader)"
   ]
  },
  {
   "cell_type": "code",
   "execution_count": 0,
   "metadata": {
    "colab": {},
    "colab_type": "code",
    "id": "TKV1eMHW_TFL"
   },
   "outputs": [],
   "source": [
    "# Splitting the data into train and test datasets\n",
    "\n",
    "from surprise.model_selection import train_test_split\n",
    "trainset2, testset2 = train_test_split(data, test_size=.25,random_state = 55)"
   ]
  },
  {
   "cell_type": "code",
   "execution_count": 0,
   "metadata": {
    "colab": {},
    "colab_type": "code",
    "id": "r1rfPNl7_dTT"
   },
   "outputs": [],
   "source": [
    "user_records = trainset2.ur"
   ]
  },
  {
   "cell_type": "code",
   "execution_count": 0,
   "metadata": {
    "colab": {},
    "colab_type": "code",
    "id": "sGOTgq7C_lp8"
   },
   "outputs": [],
   "source": [
    "from surprise import KNNWithMeans\n",
    "from surprise import accuracy"
   ]
  },
  {
   "cell_type": "code",
   "execution_count": 0,
   "metadata": {
    "colab": {
     "base_uri": "https://localhost:8080/",
     "height": 34
    },
    "colab_type": "code",
    "id": "-1xyDWY3_r9K",
    "outputId": "f560950e-6b18-4b6e-c478-6e69cc3abb94"
   },
   "outputs": [
    {
     "name": "stdout",
     "output_type": "stream",
     "text": [
      "Computing the pearson similarity matrix...\n"
     ]
    }
   ],
   "source": [
    "# Item based collaborative filtering\n",
    "\n",
    "algo = KNNWithMeans(k=50, sim_options={'name': 'pearson', 'user_based': False})\n",
    "algo.fit(trainset2)"
   ]
  },
  {
   "cell_type": "code",
   "execution_count": 0,
   "metadata": {
    "colab": {},
    "colab_type": "code",
    "id": "INuF8YKs_8V3"
   },
   "outputs": [],
   "source": [
    "# Evalute on test set\n",
    "test_pred = algo.test(testset2)\n",
    "\n",
    "# compute RMSE\n",
    "accuracy.rmse(test_pred)"
   ]
  },
  {
   "cell_type": "code",
   "execution_count": 0,
   "metadata": {
    "colab": {},
    "colab_type": "code",
    "id": "-yyedgxrB206"
   },
   "outputs": [],
   "source": [
    "# convert results to dataframe\n",
    "test_pred_df = pd.DataFrame(test_pred)\n",
    "test_pred_df[\"was_impossible\"] = [x[\"was_impossible\"] for x in test_pred_df[\"details\"]]"
   ]
  },
  {
   "cell_type": "code",
   "execution_count": 0,
   "metadata": {
    "colab": {},
    "colab_type": "code",
    "id": "qxy6uvXaD__H"
   },
   "outputs": [],
   "source": [
    "test_pred_df.loc[test_pred_df.was_impossible].head(5)"
   ]
  },
  {
   "cell_type": "code",
   "execution_count": 0,
   "metadata": {
    "colab": {},
    "colab_type": "code",
    "id": "yaGCCv_mFV5v"
   },
   "outputs": [],
   "source": [
    "testset_new = trainset2.build_anti_testset()"
   ]
  },
  {
   "cell_type": "code",
   "execution_count": 0,
   "metadata": {
    "colab": {},
    "colab_type": "code",
    "id": "aPoWti5eHEZ7"
   },
   "outputs": [],
   "source": [
    "predictions = algo.test(testset_new[0:10000])"
   ]
  },
  {
   "cell_type": "code",
   "execution_count": 0,
   "metadata": {
    "colab": {},
    "colab_type": "code",
    "id": "luR0ch6PHEDl"
   },
   "outputs": [],
   "source": [
    "predictions_df = pd.DataFrame([[x.uid,x.est] for x in predictions])"
   ]
  },
  {
   "cell_type": "code",
   "execution_count": 0,
   "metadata": {
    "colab": {},
    "colab_type": "code",
    "id": "f0Xc8YH_HD-M"
   },
   "outputs": [],
   "source": [
    "predictions_df.columns = [\"userId\",\"est_rating\"]\n",
    "predictions_df.sort_values(by = [\"userId\", \"est_rating\"],ascending=False,inplace=True)"
   ]
  },
  {
   "cell_type": "code",
   "execution_count": 0,
   "metadata": {
    "colab": {},
    "colab_type": "code",
    "id": "5NnreogXHgw1"
   },
   "outputs": [],
   "source": [
    "top_5_recos = predictions_df.groupby(\"userId\").head(5).reset_index(drop=True)\n",
    "top_5_recos"
   ]
  },
  {
   "cell_type": "code",
   "execution_count": 0,
   "metadata": {
    "colab": {},
    "colab_type": "code",
    "id": "Naice0UIHqnZ"
   },
   "outputs": [],
   "source": [
    "# Summary-"
   ]
  },
  {
   "cell_type": "code",
   "execution_count": 0,
   "metadata": {
    "colab": {},
    "colab_type": "code",
    "id": "Qq27ZxEqHqYp"
   },
   "outputs": [],
   "source": []
  },
  {
   "cell_type": "code",
   "execution_count": 0,
   "metadata": {
    "colab": {},
    "colab_type": "code",
    "id": "k4sDPwZcHqKO"
   },
   "outputs": [],
   "source": []
  }
 ],
 "metadata": {
  "colab": {
   "collapsed_sections": [],
   "machine_shape": "hm",
   "name": "Recommendation Systems_R5_Project.ipynb",
   "provenance": []
  },
  "kernelspec": {
   "display_name": "Python 3",
   "language": "python",
   "name": "python3"
  },
  "language_info": {
   "codemirror_mode": {
    "name": "ipython",
    "version": 3
   },
   "file_extension": ".py",
   "mimetype": "text/x-python",
   "name": "python",
   "nbconvert_exporter": "python",
   "pygments_lexer": "ipython3",
   "version": "3.7.0"
  }
 },
 "nbformat": 4,
 "nbformat_minor": 1
}
