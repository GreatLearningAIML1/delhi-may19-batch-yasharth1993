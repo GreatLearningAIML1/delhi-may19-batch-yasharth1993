{
 "cells": [
  {
   "cell_type": "markdown",
   "metadata": {},
   "source": [
    "### The data set has information about features of silhouette extracted from the images of different cars\n",
    "\n",
    "Four \"Corgie\" model vehicles were used for the experiment: a double decker bus, Cheverolet van, Saab 9000 and an Opel Manta 400 cars. This particular combination of vehicles was chosen with the expectation that the bus, van and either one of the cars would be readily distinguishable, but it would be more difficult to distinguish between the cars.\n",
    "\n"
   ]
  },
  {
   "cell_type": "markdown",
   "metadata": {},
   "source": [
    "### 1. Read the dataset using function .dropna() - to avoid dealing with NAs as of now"
   ]
  },
  {
   "cell_type": "code",
   "execution_count": 76,
   "metadata": {
    "collapsed": true
   },
   "outputs": [],
   "source": [
    "import pandas as pd\n",
    "import numpy as np\n",
    "import matplotlib.pyplot as plt  \n",
    "import seaborn as sns\n",
    "from scipy import stats\n",
    "%matplotlib inline"
   ]
  },
  {
   "cell_type": "code",
   "execution_count": 77,
   "metadata": {
    "collapsed": true
   },
   "outputs": [],
   "source": [
    "df = pd.read_csv(\"vehicle.csv\")\n",
    "df = df.dropna()"
   ]
  },
  {
   "cell_type": "markdown",
   "metadata": {},
   "source": [
    "### 2. Print/ Plot the dependent (categorical variable) - Class column"
   ]
  },
  {
   "cell_type": "markdown",
   "metadata": {},
   "source": [
    "Since the variable is categorical, you can use value_counts function"
   ]
  },
  {
   "cell_type": "code",
   "execution_count": 78,
   "metadata": {},
   "outputs": [
    {
     "data": {
      "text/plain": [
       "<matplotlib.axes._subplots.AxesSubplot at 0x1e9c8ec1c50>"
      ]
     },
     "execution_count": 78,
     "metadata": {},
     "output_type": "execute_result"
    },
    {
     "data": {
      "image/png": "[encoded data removed]",
      "text/plain": [
       "<matplotlib.figure.Figure at 0x1e9c8ec1550>"
      ]
     },
     "metadata": {},
     "output_type": "display_data"
    }
   ],
   "source": [
    "x = df[\"class\"]\n",
    "sns.countplot(x)"
   ]
  },
  {
   "cell_type": "markdown",
   "metadata": {},
   "source": [
    "### Check for any missing values in the data "
   ]
  },
  {
   "cell_type": "code",
   "execution_count": 79,
   "metadata": {},
   "outputs": [
    {
     "data": {
      "text/plain": [
       "compactness                    813\n",
       "circularity                    813\n",
       "distance_circularity           813\n",
       "radius_ratio                   813\n",
       "pr.axis_aspect_ratio           813\n",
       "max.length_aspect_ratio        813\n",
       "scatter_ratio                  813\n",
       "elongatedness                  813\n",
       "pr.axis_rectangularity         813\n",
       "max.length_rectangularity      813\n",
       "scaled_variance                813\n",
       "scaled_variance.1              813\n",
       "scaled_radius_of_gyration      813\n",
       "scaled_radius_of_gyration.1    813\n",
       "skewness_about                 813\n",
       "skewness_about.1               813\n",
       "skewness_about.2               813\n",
       "hollows_ratio                  813\n",
       "class                          813\n",
       "dtype: int64"
      ]
     },
     "execution_count": 79,
     "metadata": {},
     "output_type": "execute_result"
    }
   ],
   "source": [
    "df.count()"
   ]
  },
  {
   "cell_type": "markdown",
   "metadata": {},
   "source": [
    "### 3. Standardize the data "
   ]
  },
  {
   "cell_type": "code",
   "execution_count": 98,
   "metadata": {},
   "outputs": [
    {
     "name": "stdout",
     "output_type": "stream",
     "text": [
      "<class 'pandas.core.frame.DataFrame'>\n",
      "Int64Index: 813 entries, 0 to 845\n",
      "Data columns (total 18 columns):\n",
      "compactness                    813 non-null int64\n",
      "circularity                    813 non-null float64\n",
      "distance_circularity           813 non-null float64\n",
      "radius_ratio                   813 non-null float64\n",
      "pr.axis_aspect_ratio           813 non-null float64\n",
      "max.length_aspect_ratio        813 non-null int64\n",
      "scatter_ratio                  813 non-null float64\n",
      "elongatedness                  813 non-null float64\n",
      "pr.axis_rectangularity         813 non-null float64\n",
      "max.length_rectangularity      813 non-null int64\n",
      "scaled_variance                813 non-null float64\n",
      "scaled_variance.1              813 non-null float64\n",
      "scaled_radius_of_gyration      813 non-null float64\n",
      "scaled_radius_of_gyration.1    813 non-null float64\n",
      "skewness_about                 813 non-null float64\n",
      "skewness_about.1               813 non-null float64\n",
      "skewness_about.2               813 non-null float64\n",
      "hollows_ratio                  813 non-null int64\n",
      "dtypes: float64(14), int64(4)\n",
      "memory usage: 160.7 KB\n"
     ]
    }
   ],
   "source": [
    "from scipy.stats import zscore\n",
    "df.info()\n",
    "X = stats.zscore(df.loc[:, df.columns != 'class'])\n",
    "df = df.loc[:, df.columns != 'class']\n",
    "df_z = df.apply(zscore)"
   ]
  },
  {
   "cell_type": "markdown",
   "metadata": {},
   "source": [
    "Since the dimensions of the data are not really known to us, it would be wise to standardize the data using z scores before we go for any clustering methods.\n",
    "You can use zscore function to do this"
   ]
  },
  {
   "cell_type": "code",
   "execution_count": null,
   "metadata": {
    "collapsed": true
   },
   "outputs": [],
   "source": []
  },
  {
   "cell_type": "code",
   "execution_count": null,
   "metadata": {
    "collapsed": true
   },
   "outputs": [],
   "source": []
  },
  {
   "cell_type": "markdown",
   "metadata": {},
   "source": [
    "### K - Means Clustering"
   ]
  },
  {
   "cell_type": "markdown",
   "metadata": {},
   "source": [
    "### 4. Plotting Elbow/ Scree Plot"
   ]
  },
  {
   "cell_type": "code",
   "execution_count": 83,
   "metadata": {},
   "outputs": [
    {
     "data": {
      "text/html": [
       "<div>\n",
       "<style>\n",
       "    .dataframe thead tr:only-child th {\n",
       "        text-align: right;\n",
       "    }\n",
       "\n",
       "    .dataframe thead th {\n",
       "        text-align: left;\n",
       "    }\n",
       "\n",
       "    .dataframe tbody tr th {\n",
       "        vertical-align: top;\n",
       "    }\n",
       "</style>\n",
       "<table border=\"1\" class=\"dataframe\">\n",
       "  <thead>\n",
       "    <tr style=\"text-align: right;\">\n",
       "      <th></th>\n",
       "      <th>cluster_errors</th>\n",
       "      <th>num_clusters</th>\n",
       "    </tr>\n",
       "  </thead>\n",
       "  <tbody>\n",
       "    <tr>\n",
       "      <th>0</th>\n",
       "      <td>14634.000000</td>\n",
       "      <td>1</td>\n",
       "    </tr>\n",
       "    <tr>\n",
       "      <th>1</th>\n",
       "      <td>8623.136976</td>\n",
       "      <td>2</td>\n",
       "    </tr>\n",
       "    <tr>\n",
       "      <th>2</th>\n",
       "      <td>7037.467395</td>\n",
       "      <td>3</td>\n",
       "    </tr>\n",
       "    <tr>\n",
       "      <th>3</th>\n",
       "      <td>5739.201327</td>\n",
       "      <td>4</td>\n",
       "    </tr>\n",
       "    <tr>\n",
       "      <th>4</th>\n",
       "      <td>5189.216819</td>\n",
       "      <td>5</td>\n",
       "    </tr>\n",
       "    <tr>\n",
       "      <th>5</th>\n",
       "      <td>4706.433256</td>\n",
       "      <td>6</td>\n",
       "    </tr>\n",
       "    <tr>\n",
       "      <th>6</th>\n",
       "      <td>4348.840290</td>\n",
       "      <td>7</td>\n",
       "    </tr>\n",
       "    <tr>\n",
       "      <th>7</th>\n",
       "      <td>4141.768477</td>\n",
       "      <td>8</td>\n",
       "    </tr>\n",
       "    <tr>\n",
       "      <th>8</th>\n",
       "      <td>3846.965485</td>\n",
       "      <td>9</td>\n",
       "    </tr>\n",
       "  </tbody>\n",
       "</table>\n",
       "</div>"
      ],
      "text/plain": [
       "   cluster_errors  num_clusters\n",
       "0    14634.000000             1\n",
       "1     8623.136976             2\n",
       "2     7037.467395             3\n",
       "3     5739.201327             4\n",
       "4     5189.216819             5\n",
       "5     4706.433256             6\n",
       "6     4348.840290             7\n",
       "7     4141.768477             8\n",
       "8     3846.965485             9"
      ]
     },
     "execution_count": 83,
     "metadata": {},
     "output_type": "execute_result"
    }
   ],
   "source": [
    "from sklearn.cluster import KMeans\n",
    "from scipy.spatial import distance\n",
    "\n",
    "# Let us check optimal number of clusters-\n",
    "distortion = []\n",
    "\n",
    "cluster_range = range( 1, 10)   # expect 3 to four clusters from the pair panel visual inspection hence restricting from 2 to 6\n",
    "cluster_errors = []\n",
    "cluster_sil_scores = []\n",
    "for num_clusters in cluster_range:\n",
    "  clusters = KMeans( num_clusters, n_init = 5)\n",
    "  clusters.fit(X)\n",
    "  labels = clusters.labels_                     # capture the cluster lables\n",
    "  centroids = clusters.cluster_centers_         # capture the centroids\n",
    "  cluster_errors.append( clusters.inertia_ )    # capture the intertia\n",
    "  distortion.append(sum(np.min(distance.cdist(X, clusters.cluster_centers_, 'euclidean'), axis=1))/ X.shape[0])\n",
    "\n",
    "  # cdist computes distance between records of X and cluster_centers using euclidian method above\n",
    "  # since we are using euclidian, it will do (xi - xbar)^2 for every record in X in all dimensions and add underroot to get dist\n",
    "  # It will assign a given record to that cluster whos distance is min\n",
    "  # Sum up all the distances between data points and their cluster centers and append that to distortions array\n",
    "  # Distortions is the total spread among data points in all clusters put together\n",
    "  # Distortions will be 0 when each data point is a cluster but that is not useful to extract any information\n",
    "  # Distortion is another measure of spread, equivalent to intertia\n",
    "\n",
    "\n",
    "# combine the cluster_range and cluster_errors into a dataframe by combining them\n",
    "clusters_df = pd.DataFrame( { \"num_clusters\":cluster_range, \"cluster_errors\": cluster_errors} )\n",
    "clusters_df[0:15]"
   ]
  },
  {
   "cell_type": "code",
   "execution_count": 84,
   "metadata": {},
   "outputs": [
    {
     "data": {
      "text/plain": [
       "[<matplotlib.lines.Line2D at 0x1e9c9cb6668>]"
      ]
     },
     "execution_count": 84,
     "metadata": {},
     "output_type": "execute_result"
    },
    {
     "data": {
      "image/png": "[encoded data removed]",
      "text/plain": [
       "<matplotlib.figure.Figure at 0x1e9c8ec1390>"
      ]
     },
     "metadata": {},
     "output_type": "display_data"
    }
   ],
   "source": [
    "plt.figure(figsize=(12,6))\n",
    "plt.plot( clusters_df.num_clusters, clusters_df.cluster_errors, marker = \"o\" )"
   ]
  },
  {
   "cell_type": "markdown",
   "metadata": {},
   "source": [
    "Use Matplotlib to plot the scree plot - Note: Scree plot plots distortion vs the no of clusters"
   ]
  },
  {
   "cell_type": "code",
   "execution_count": null,
   "metadata": {
    "collapsed": true
   },
   "outputs": [],
   "source": []
  },
  {
   "cell_type": "markdown",
   "metadata": {},
   "source": [
    "### Find out the optimal value of K"
   ]
  },
  {
   "cell_type": "code",
   "execution_count": null,
   "metadata": {
    "collapsed": true
   },
   "outputs": [],
   "source": [
    "# The elbow plot confirms our visual analysis that there are likely 2 good clusters\n",
    "# Let us start with 2 clusters"
   ]
  },
  {
   "cell_type": "code",
   "execution_count": null,
   "metadata": {
    "collapsed": true
   },
   "outputs": [],
   "source": []
  },
  {
   "cell_type": "markdown",
   "metadata": {},
   "source": [
    "### Using optimal value of K - Cluster the data. \n",
    "Note: Since the data has more than 2 dimension we cannot visualize the data. As an alternative, we can observe the centroids and note how they are distributed across different dimensions"
   ]
  },
  {
   "cell_type": "code",
   "execution_count": 90,
   "metadata": {},
   "outputs": [
    {
     "name": "stdout",
     "output_type": "stream",
     "text": [
      "Centroid values\n",
      "sklearn\n",
      "[[-0.2339617  -0.57387481 -0.30776905 -0.03041322  0.2050726  -0.11653151\n",
      "  -0.45904181  0.32506329 -0.48798836 -0.53604446 -0.41380935 -0.46366305\n",
      "  -0.60155031 -0.61924057 -0.06177969  0.01066762  0.81278556  0.69897299]\n",
      " [ 1.13076532  1.17094237  1.19500584  1.01909505  0.21505188  0.34250798\n",
      "   1.27180461 -1.19061224  1.27548416  1.09266768  1.22038121  1.28132727\n",
      "   1.07954232 -0.02879497  0.16229031  0.26566456 -0.00535553  0.18380067]\n",
      " [-0.91987072 -0.52009251 -0.89320752 -1.06435572 -0.50042171 -0.2190738\n",
      "  -0.7791213   0.86589322 -0.74535635 -0.484632   -0.78240328 -0.78341064\n",
      "  -0.38498232  0.83878747 -0.09524349 -0.30171562 -1.05420601 -1.11069466]]\n"
     ]
    }
   ],
   "source": [
    "# Number of clusters\n",
    "\n",
    "kmeans = KMeans(n_clusters=3)\n",
    "\n",
    "# Fitting the input data\n",
    "\n",
    "kmeans = kmeans.fit(X)\n",
    "\n",
    "# Getting the cluster labels\n",
    "\n",
    "labels = kmeans.predict(X)\n",
    "\n",
    "# Centroid values\n",
    "\n",
    "centroids = kmeans.cluster_centers_\n",
    "\n",
    "\n",
    "\n",
    "# Comparing with scikit-learn centroids\n",
    "\n",
    "print(\"Centroid values\")\n",
    "\n",
    "\n",
    "print(\"sklearn\")\n",
    "\n",
    "print(centroids) # From sci-kit learn"
   ]
  },
  {
   "cell_type": "markdown",
   "metadata": {},
   "source": [
    "You can use kmeans.cluster_centers_ function to pull the centroid information from the instance"
   ]
  },
  {
   "cell_type": "code",
   "execution_count": null,
   "metadata": {
    "collapsed": true
   },
   "outputs": [],
   "source": []
  },
  {
   "cell_type": "markdown",
   "metadata": {},
   "source": [
    "### 5. Store the centroids in a dataframe with column names from the original dataset given "
   ]
  },
  {
   "cell_type": "code",
   "execution_count": 96,
   "metadata": {},
   "outputs": [
    {
     "data": {
      "text/html": [
       "<div>\n",
       "<style>\n",
       "    .dataframe thead tr:only-child th {\n",
       "        text-align: right;\n",
       "    }\n",
       "\n",
       "    .dataframe thead th {\n",
       "        text-align: left;\n",
       "    }\n",
       "\n",
       "    .dataframe tbody tr th {\n",
       "        vertical-align: top;\n",
       "    }\n",
       "</style>\n",
       "<table border=\"1\" class=\"dataframe\">\n",
       "  <thead>\n",
       "    <tr style=\"text-align: right;\">\n",
       "      <th></th>\n",
       "      <th>compactness</th>\n",
       "      <th>circularity</th>\n",
       "      <th>distance_circularity</th>\n",
       "      <th>radius_ratio</th>\n",
       "      <th>pr.axis_aspect_ratio</th>\n",
       "      <th>max.length_aspect_ratio</th>\n",
       "      <th>scatter_ratio</th>\n",
       "      <th>elongatedness</th>\n",
       "      <th>pr.axis_rectangularity</th>\n",
       "      <th>max.length_rectangularity</th>\n",
       "      <th>scaled_variance</th>\n",
       "      <th>scaled_variance.1</th>\n",
       "      <th>scaled_radius_of_gyration</th>\n",
       "      <th>scaled_radius_of_gyration.1</th>\n",
       "      <th>skewness_about</th>\n",
       "      <th>skewness_about.1</th>\n",
       "      <th>skewness_about.2</th>\n",
       "      <th>hollows_ratio</th>\n",
       "    </tr>\n",
       "  </thead>\n",
       "  <tbody>\n",
       "    <tr>\n",
       "      <th>0</th>\n",
       "      <td>-0.233962</td>\n",
       "      <td>-0.573875</td>\n",
       "      <td>-0.307769</td>\n",
       "      <td>-0.030413</td>\n",
       "      <td>0.205073</td>\n",
       "      <td>-0.116532</td>\n",
       "      <td>-0.459042</td>\n",
       "      <td>0.325063</td>\n",
       "      <td>-0.487988</td>\n",
       "      <td>-0.536044</td>\n",
       "      <td>-0.413809</td>\n",
       "      <td>-0.463663</td>\n",
       "      <td>-0.601550</td>\n",
       "      <td>-0.619241</td>\n",
       "      <td>-0.061780</td>\n",
       "      <td>0.010668</td>\n",
       "      <td>0.812786</td>\n",
       "      <td>0.698973</td>\n",
       "    </tr>\n",
       "    <tr>\n",
       "      <th>1</th>\n",
       "      <td>1.130765</td>\n",
       "      <td>1.170942</td>\n",
       "      <td>1.195006</td>\n",
       "      <td>1.019095</td>\n",
       "      <td>0.215052</td>\n",
       "      <td>0.342508</td>\n",
       "      <td>1.271805</td>\n",
       "      <td>-1.190612</td>\n",
       "      <td>1.275484</td>\n",
       "      <td>1.092668</td>\n",
       "      <td>1.220381</td>\n",
       "      <td>1.281327</td>\n",
       "      <td>1.079542</td>\n",
       "      <td>-0.028795</td>\n",
       "      <td>0.162290</td>\n",
       "      <td>0.265665</td>\n",
       "      <td>-0.005356</td>\n",
       "      <td>0.183801</td>\n",
       "    </tr>\n",
       "    <tr>\n",
       "      <th>2</th>\n",
       "      <td>-0.919871</td>\n",
       "      <td>-0.520093</td>\n",
       "      <td>-0.893208</td>\n",
       "      <td>-1.064356</td>\n",
       "      <td>-0.500422</td>\n",
       "      <td>-0.219074</td>\n",
       "      <td>-0.779121</td>\n",
       "      <td>0.865893</td>\n",
       "      <td>-0.745356</td>\n",
       "      <td>-0.484632</td>\n",
       "      <td>-0.782403</td>\n",
       "      <td>-0.783411</td>\n",
       "      <td>-0.384982</td>\n",
       "      <td>0.838787</td>\n",
       "      <td>-0.095243</td>\n",
       "      <td>-0.301716</td>\n",
       "      <td>-1.054206</td>\n",
       "      <td>-1.110695</td>\n",
       "    </tr>\n",
       "  </tbody>\n",
       "</table>\n",
       "</div>"
      ],
      "text/plain": [
       "   compactness  circularity  distance_circularity  radius_ratio  \\\n",
       "0    -0.233962    -0.573875             -0.307769     -0.030413   \n",
       "1     1.130765     1.170942              1.195006      1.019095   \n",
       "2    -0.919871    -0.520093             -0.893208     -1.064356   \n",
       "\n",
       "   pr.axis_aspect_ratio  max.length_aspect_ratio  scatter_ratio  \\\n",
       "0              0.205073                -0.116532      -0.459042   \n",
       "1              0.215052                 0.342508       1.271805   \n",
       "2             -0.500422                -0.219074      -0.779121   \n",
       "\n",
       "   elongatedness  pr.axis_rectangularity  max.length_rectangularity  \\\n",
       "0       0.325063               -0.487988                  -0.536044   \n",
       "1      -1.190612                1.275484                   1.092668   \n",
       "2       0.865893               -0.745356                  -0.484632   \n",
       "\n",
       "   scaled_variance  scaled_variance.1  scaled_radius_of_gyration  \\\n",
       "0        -0.413809          -0.463663                  -0.601550   \n",
       "1         1.220381           1.281327                   1.079542   \n",
       "2        -0.782403          -0.783411                  -0.384982   \n",
       "\n",
       "   scaled_radius_of_gyration.1  skewness_about  skewness_about.1  \\\n",
       "0                    -0.619241       -0.061780          0.010668   \n",
       "1                    -0.028795        0.162290          0.265665   \n",
       "2                     0.838787       -0.095243         -0.301716   \n",
       "\n",
       "   skewness_about.2  hollows_ratio  \n",
       "0          0.812786       0.698973  \n",
       "1         -0.005356       0.183801  \n",
       "2         -1.054206      -1.110695  "
      ]
     },
     "execution_count": 96,
     "metadata": {},
     "output_type": "execute_result"
    }
   ],
   "source": [
    "centroid_df = pd.DataFrame(centroids, columns = list(df_z))\n",
    "centroid_df"
   ]
  },
  {
   "cell_type": "markdown",
   "metadata": {},
   "source": [
    "Hint: Use pd.Dataframe function "
   ]
  },
  {
   "cell_type": "code",
   "execution_count": null,
   "metadata": {
    "collapsed": true
   },
   "outputs": [],
   "source": []
  },
  {
   "cell_type": "code",
   "execution_count": null,
   "metadata": {
    "collapsed": true
   },
   "outputs": [],
   "source": []
  },
  {
   "cell_type": "markdown",
   "metadata": {},
   "source": [
    "### Use kmeans.labels_ function to print out the labels of the classes"
   ]
  },
  {
   "cell_type": "code",
   "execution_count": 101,
   "metadata": {},
   "outputs": [
    {
     "data": {
      "text/plain": [
       "array([0, 0, 1, 0, 2, 0, 0, 0, 0, 0, 0, 0, 0, 1, 2, 0, 1, 2, 2, 0, 0, 1, 0,\n",
       "       2, 1, 1, 2, 0, 0, 0, 1, 0, 2, 1, 1, 2, 1, 2, 2, 0, 1, 2, 2, 2, 2, 0,\n",
       "       2, 0, 1, 0, 1, 0, 0, 2, 1, 2, 1, 2, 2, 2, 0, 2, 1, 0, 1, 1, 0, 2, 0,\n",
       "       1, 0, 2, 2, 1, 0, 2, 0, 1, 0, 2, 0, 2, 1, 0, 1, 0, 2, 1, 2, 2, 1, 2,\n",
       "       2, 0, 0, 2, 1, 1, 2, 2, 1, 0, 0, 2, 2, 2, 0, 1, 1, 0, 2, 2, 0, 2, 2,\n",
       "       2, 2, 2, 0, 1, 1, 0, 0, 2, 1, 1, 2, 0, 2, 0, 0, 1, 2, 0, 1, 0, 0, 0,\n",
       "       0, 1, 0, 0, 1, 0, 1, 0, 2, 0, 2, 1, 0, 0, 1, 1, 0, 1, 2, 2, 1, 1, 0,\n",
       "       1, 0, 0, 0, 0, 2, 1, 2, 0, 2, 1, 0, 0, 0, 1, 0, 1, 0, 1, 0, 2, 1, 2,\n",
       "       2, 2, 0, 0, 1, 1, 0, 0, 0, 2, 1, 0, 0, 0, 1, 2, 2, 1, 2, 0, 1, 2, 2,\n",
       "       2, 0, 1, 0, 1, 2, 2, 2, 2, 1, 0, 2, 0, 1, 2, 0, 0, 2, 1, 2, 2, 0, 0,\n",
       "       1, 2, 1, 2, 0, 0, 1, 0, 0, 1, 1, 2, 0, 0, 0, 1, 2, 0, 0, 2, 2, 0, 0,\n",
       "       1, 0, 2, 2, 1, 0, 0, 2, 2, 1, 2, 0, 1, 2, 0, 1, 0, 0, 1, 0, 1, 2, 0,\n",
       "       0, 1, 0, 0, 0, 2, 0, 1, 1, 1, 1, 2, 0, 1, 2, 2, 2, 0, 2, 1, 1, 2, 1,\n",
       "       0, 2, 1, 0, 0, 0, 1, 1, 2, 1, 1, 2, 1, 0, 0, 0, 2, 2, 1, 1, 1, 0, 0,\n",
       "       0, 1, 2, 0, 2, 1, 0, 0, 1, 0, 1, 1, 1, 0, 2, 2, 1, 2, 2, 2, 0, 0, 0,\n",
       "       0, 2, 1, 1, 2, 2, 1, 2, 1, 2, 1, 0, 2, 0, 2, 1, 1, 2, 0, 0, 0, 1, 0,\n",
       "       0, 0, 0, 1, 0, 1, 0, 1, 0, 2, 2, 0, 0, 0, 2, 2, 0, 2, 1, 0, 0, 2, 2,\n",
       "       1, 0, 2, 0, 0, 1, 0, 1, 0, 1, 1, 2, 2, 1, 0, 2, 2, 0, 1, 1, 2, 0, 1,\n",
       "       1, 2, 1, 1, 1, 0, 0, 0, 0, 0, 1, 2, 2, 0, 1, 0, 0, 1, 0, 2, 1, 2, 2,\n",
       "       1, 0, 2, 1, 1, 1, 2, 1, 1, 2, 0, 2, 1, 1, 0, 0, 2, 2, 1, 0, 2, 1, 1,\n",
       "       0, 2, 1, 1, 0, 2, 2, 1, 1, 1, 2, 2, 1, 1, 1, 0, 0, 1, 2, 0, 1, 0, 2,\n",
       "       2, 0, 1, 2, 0, 0, 2, 0, 1, 0, 1, 1, 0, 2, 0, 1, 1, 2, 2, 0, 1, 0, 1,\n",
       "       1, 0, 0, 0, 0, 2, 2, 2, 0, 0, 1, 2, 2, 0, 2, 1, 0, 1, 2, 2, 1, 1, 0,\n",
       "       1, 0, 0, 0, 1, 0, 2, 0, 1, 0, 0, 2, 1, 1, 1, 1, 0, 2, 2, 2, 1, 1, 1,\n",
       "       0, 1, 2, 0, 1, 2, 2, 2, 0, 2, 1, 0, 0, 0, 0, 0, 0, 1, 0, 0, 1, 0, 0,\n",
       "       0, 2, 1, 2, 2, 0, 2, 0, 0, 2, 2, 1, 1, 2, 0, 1, 0, 1, 0, 0, 1, 0, 2,\n",
       "       1, 2, 1, 2, 2, 0, 2, 0, 1, 1, 2, 1, 0, 0, 2, 0, 2, 1, 0, 1, 2, 0, 0,\n",
       "       0, 2, 2, 2, 0, 1, 0, 1, 2, 0, 0, 0, 0, 1, 0, 2, 1, 0, 1, 0, 0, 1, 2,\n",
       "       1, 2, 0, 0, 0, 2, 1, 0, 2, 0, 1, 2, 1, 0, 0, 1, 2, 0, 2, 0, 0, 2, 0,\n",
       "       1, 1, 0, 0, 1, 1, 0, 0, 2, 0, 1, 1, 1, 1, 0, 1, 0, 0, 1, 1, 0, 1, 0,\n",
       "       1, 0, 2, 1, 0, 2, 1, 1, 1, 0, 1, 2, 2, 1, 1, 1, 0, 1, 0, 0, 1, 0, 2,\n",
       "       0, 2, 0, 1, 0, 2, 0, 0, 0, 2, 1, 2, 2, 2, 1, 1, 2, 1, 1, 2, 0, 0, 1,\n",
       "       0, 2, 1, 1, 2, 0, 0, 1, 1, 1, 2, 1, 0, 1, 1, 2, 2, 1, 2, 1, 0, 2, 0,\n",
       "       1, 1, 0, 2, 0, 1, 1, 0, 0, 2, 0, 0, 1, 2, 0, 1, 2, 2, 1, 2, 0, 2, 2,\n",
       "       2, 0, 1, 1, 0, 2, 1, 0, 1, 1, 2, 0, 1, 2, 2, 0, 0, 1, 2, 2, 1, 2, 0,\n",
       "       0, 0, 0, 0, 0, 1, 0, 2])"
      ]
     },
     "execution_count": 101,
     "metadata": {},
     "output_type": "execute_result"
    }
   ],
   "source": [
    "kmeans.labels_"
   ]
  },
  {
   "cell_type": "code",
   "execution_count": null,
   "metadata": {
    "collapsed": true
   },
   "outputs": [],
   "source": []
  },
  {
   "cell_type": "markdown",
   "metadata": {},
   "source": [
    "## Hierarchical Clustering "
   ]
  },
  {
   "cell_type": "markdown",
   "metadata": {},
   "source": [
    "### 6. Variable creation"
   ]
  },
  {
   "cell_type": "markdown",
   "metadata": {},
   "source": [
    "For Hierarchical clustering, we will create datasets using multivariate normal distribution to visually observe how the clusters are formed at the end"
   ]
  },
  {
   "cell_type": "code",
   "execution_count": 102,
   "metadata": {
    "collapsed": true
   },
   "outputs": [],
   "source": [
    "a = np.random.multivariate_normal([10, 0], [[3, 1], [1, 4]], size=[100,])\n",
    "b = np.random.multivariate_normal([0, 20], [[3, 1], [1, 4]], size=[50,])\n",
    "c = np.random.multivariate_normal([10, 20], [[3, 1], [1, 4]], size=[100,])"
   ]
  },
  {
   "cell_type": "raw",
   "metadata": {},
   "source": []
  },
  {
   "cell_type": "code",
   "execution_count": 118,
   "metadata": {},
   "outputs": [],
   "source": [
    "df_a = pd.DataFrame(a)\n",
    "df_b = pd.DataFrame(b)\n",
    "df_c = pd.DataFrame(c)"
   ]
  },
  {
   "cell_type": "markdown",
   "metadata": {},
   "source": [
    "### 7. Combine all three arrays a,b,c into a dataframe"
   ]
  },
  {
   "cell_type": "code",
   "execution_count": 127,
   "metadata": {
    "scrolled": true
   },
   "outputs": [
    {
     "data": {
      "text/plain": [
       "(250, 2)"
      ]
     },
     "execution_count": 127,
     "metadata": {},
     "output_type": "execute_result"
    }
   ],
   "source": [
    "df_col = pd.concat([df_a,df_b,df_c], axis=0)\n",
    "#df.plot('x', 'y', kind='scatter')\n",
    "df_col.columns = [\"A1\" , \"A2\"]\n",
    "df_col.shape"
   ]
  },
  {
   "cell_type": "code",
   "execution_count": null,
   "metadata": {
    "collapsed": true
   },
   "outputs": [],
   "source": []
  },
  {
   "cell_type": "markdown",
   "metadata": {},
   "source": [
    "### 8. Use scatter matrix to print all the 3 distributions"
   ]
  },
  {
   "cell_type": "code",
   "execution_count": 129,
   "metadata": {},
   "outputs": [
    {
     "name": "stderr",
     "output_type": "stream",
     "text": [
      "C:\\Users\\ysingh31\\AppData\\Local\\contin\\Anaconda3\\lib\\site-packages\\ipykernel_launcher.py:1: FutureWarning: pandas.scatter_matrix is deprecated. Use pandas.plotting.scatter_matrix instead\n",
      "  \"\"\"Entry point for launching an IPython kernel.\n"
     ]
    },
    {
     "data": {
      "text/plain": [
       "array([[<matplotlib.axes._subplots.AxesSubplot object at 0x000001E9CA018AC8>,\n",
       "        <matplotlib.axes._subplots.AxesSubplot object at 0x000001E9C86D3EF0>],\n",
       "       [<matplotlib.axes._subplots.AxesSubplot object at 0x000001E9C9FEF400>,\n",
       "        <matplotlib.axes._subplots.AxesSubplot object at 0x000001E9C9FFDC50>]], dtype=object)"
      ]
     },
     "execution_count": 129,
     "metadata": {},
     "output_type": "execute_result"
    },
    {
     "data": {
      "image/png": "[encoded data removed]",
      "text/plain": [
       "<matplotlib.figure.Figure at 0x1e9c8ec3710>"
      ]
     },
     "metadata": {},
     "output_type": "display_data"
    }
   ],
   "source": [
    "pd.scatter_matrix(df_col, alpha=0.2)"
   ]
  },
  {
   "cell_type": "code",
   "execution_count": 140,
   "metadata": {
    "collapsed": true
   },
   "outputs": [],
   "source": [
    "from scipy.cluster.hierarchy import cophenet, dendrogram, linkage\n",
    "from scipy.spatial.distance import pdist\n"
   ]
  },
  {
   "cell_type": "markdown",
   "metadata": {},
   "source": [
    "### 9. Find out the linkage matrix"
   ]
  },
  {
   "cell_type": "code",
   "execution_count": 133,
   "metadata": {},
   "outputs": [
    {
     "data": {
      "text/plain": [
       "array([[  3.00000000e+01,   5.50000000e+01,   9.28417855e-03,\n",
       "          2.00000000e+00],\n",
       "       [  1.77000000e+02,   1.80000000e+02,   1.92296044e-02,\n",
       "          2.00000000e+00],\n",
       "       [  1.00000000e+01,   8.50000000e+01,   1.97099286e-02,\n",
       "          2.00000000e+00],\n",
       "       [  3.70000000e+01,   6.30000000e+01,   2.60997459e-02,\n",
       "          2.00000000e+00],\n",
       "       [  2.23000000e+02,   2.42000000e+02,   3.96298934e-02,\n",
       "          2.00000000e+00],\n",
       "       [  4.10000000e+01,   8.40000000e+01,   4.72957782e-02,\n",
       "          2.00000000e+00],\n",
       "       [  1.11000000e+02,   1.36000000e+02,   6.15879236e-02,\n",
       "          2.00000000e+00],\n",
       "       [  4.80000000e+01,   9.90000000e+01,   7.91744731e-02,\n",
       "          2.00000000e+00],\n",
       "       [  7.70000000e+01,   8.80000000e+01,   9.09606616e-02,\n",
       "          2.00000000e+00],\n",
       "       [  2.33000000e+02,   2.44000000e+02,   9.39675154e-02,\n",
       "          2.00000000e+00],\n",
       "       [  1.86000000e+02,   1.95000000e+02,   1.00830786e-01,\n",
       "          2.00000000e+00],\n",
       "       [  2.07000000e+02,   2.19000000e+02,   1.03033211e-01,\n",
       "          2.00000000e+00],\n",
       "       [  1.55000000e+02,   2.12000000e+02,   1.06416302e-01,\n",
       "          2.00000000e+00],\n",
       "       [  3.30000000e+01,   4.30000000e+01,   1.11275889e-01,\n",
       "          2.00000000e+00],\n",
       "       [  4.60000000e+01,   5.90000000e+01,   1.12820265e-01,\n",
       "          2.00000000e+00],\n",
       "       [  1.06000000e+02,   1.25000000e+02,   1.13229849e-01,\n",
       "          2.00000000e+00],\n",
       "       [  1.81000000e+02,   2.49000000e+02,   1.23427804e-01,\n",
       "          2.00000000e+00],\n",
       "       [  2.04000000e+02,   2.48000000e+02,   1.35288868e-01,\n",
       "          2.00000000e+00],\n",
       "       [  2.17000000e+02,   2.38000000e+02,   1.36681683e-01,\n",
       "          2.00000000e+00],\n",
       "       [  1.50000000e+01,   7.30000000e+01,   1.42376231e-01,\n",
       "          2.00000000e+00],\n",
       "       [  1.60000000e+02,   2.16000000e+02,   1.42915166e-01,\n",
       "          2.00000000e+00],\n",
       "       [  2.47000000e+02,   2.60000000e+02,   1.50095414e-01,\n",
       "          3.00000000e+00],\n",
       "       [  1.94000000e+02,   2.68000000e+02,   1.50407626e-01,\n",
       "          3.00000000e+00],\n",
       "       [  1.73000000e+02,   2.26000000e+02,   1.55213707e-01,\n",
       "          2.00000000e+00],\n",
       "       [  1.80000000e+01,   2.20000000e+01,   1.59820808e-01,\n",
       "          2.00000000e+00],\n",
       "       [  9.10000000e+01,   9.30000000e+01,   1.72807074e-01,\n",
       "          2.00000000e+00],\n",
       "       [  1.20000000e+02,   1.23000000e+02,   1.74793822e-01,\n",
       "          2.00000000e+00],\n",
       "       [  8.90000000e+01,   2.53000000e+02,   1.75901817e-01,\n",
       "          3.00000000e+00],\n",
       "       [  2.10000000e+02,   2.39000000e+02,   1.84282418e-01,\n",
       "          2.00000000e+00],\n",
       "       [  1.87000000e+02,   2.71000000e+02,   1.90480315e-01,\n",
       "          4.00000000e+00],\n",
       "       [  2.51000000e+02,   2.67000000e+02,   1.93856955e-01,\n",
       "          4.00000000e+00],\n",
       "       [  1.02000000e+02,   1.08000000e+02,   1.94577657e-01,\n",
       "          2.00000000e+00],\n",
       "       [  1.76000000e+02,   2.27000000e+02,   2.00176105e-01,\n",
       "          2.00000000e+00],\n",
       "       [  1.22000000e+02,   1.24000000e+02,   2.00596628e-01,\n",
       "          2.00000000e+00],\n",
       "       [  2.54000000e+02,   2.59000000e+02,   2.06399084e-01,\n",
       "          4.00000000e+00],\n",
       "       [  1.99000000e+02,   2.35000000e+02,   2.08687771e-01,\n",
       "          2.00000000e+00],\n",
       "       [  2.13000000e+02,   2.32000000e+02,   2.09455775e-01,\n",
       "          2.00000000e+00],\n",
       "       [  1.52000000e+02,   1.96000000e+02,   2.11063299e-01,\n",
       "          2.00000000e+00],\n",
       "       [  2.00000000e+01,   9.50000000e+01,   2.17746911e-01,\n",
       "          2.00000000e+00],\n",
       "       [  1.53000000e+02,   2.00000000e+02,   2.20301250e-01,\n",
       "          2.00000000e+00],\n",
       "       [  1.54000000e+02,   1.72000000e+02,   2.20568158e-01,\n",
       "          2.00000000e+00],\n",
       "       [  2.64000000e+02,   2.69000000e+02,   2.24164288e-01,\n",
       "          4.00000000e+00],\n",
       "       [  4.90000000e+01,   2.52000000e+02,   2.31910885e-01,\n",
       "          3.00000000e+00],\n",
       "       [  2.41000000e+02,   2.70000000e+02,   2.32928480e-01,\n",
       "          3.00000000e+00],\n",
       "       [  5.00000000e+01,   9.80000000e+01,   2.34306244e-01,\n",
       "          2.00000000e+00],\n",
       "       [  4.70000000e+01,   6.90000000e+01,   2.35937685e-01,\n",
       "          2.00000000e+00],\n",
       "       [  6.00000000e+01,   8.10000000e+01,   2.36208374e-01,\n",
       "          2.00000000e+00],\n",
       "       [  1.07000000e+02,   1.34000000e+02,   2.46389924e-01,\n",
       "          2.00000000e+00],\n",
       "       [  1.30000000e+02,   1.42000000e+02,   2.52604037e-01,\n",
       "          2.00000000e+00],\n",
       "       [  1.75000000e+02,   2.61000000e+02,   2.56615349e-01,\n",
       "          3.00000000e+00],\n",
       "       [  1.90000000e+01,   2.50000000e+01,   2.57564150e-01,\n",
       "          2.00000000e+00],\n",
       "       [  1.90000000e+02,   2.05000000e+02,   2.63169497e-01,\n",
       "          2.00000000e+00],\n",
       "       [  1.03000000e+02,   1.35000000e+02,   2.70286086e-01,\n",
       "          2.00000000e+00],\n",
       "       [  1.79000000e+02,   2.89000000e+02,   2.76399084e-01,\n",
       "          3.00000000e+00],\n",
       "       [  1.61000000e+02,   1.78000000e+02,   2.78763117e-01,\n",
       "          2.00000000e+00],\n",
       "       [  1.65000000e+02,   2.09000000e+02,   2.82882095e-01,\n",
       "          2.00000000e+00],\n",
       "       [  2.80000000e+02,   2.93000000e+02,   2.91091292e-01,\n",
       "          7.00000000e+00],\n",
       "       [  1.66000000e+02,   2.78000000e+02,   2.92920394e-01,\n",
       "          3.00000000e+00],\n",
       "       [  5.60000000e+01,   8.70000000e+01,   2.93297791e-01,\n",
       "          2.00000000e+00],\n",
       "       [  4.40000000e+01,   9.20000000e+01,   3.03183145e-01,\n",
       "          2.00000000e+00],\n",
       "       [  2.73000000e+02,   2.90000000e+02,   3.10047869e-01,\n",
       "          4.00000000e+00],\n",
       "       [  3.20000000e+01,   5.30000000e+01,   3.16019507e-01,\n",
       "          2.00000000e+00],\n",
       "       [  1.71000000e+02,   2.87000000e+02,   3.16230181e-01,\n",
       "          3.00000000e+00],\n",
       "       [  3.00000000e+00,   8.00000000e+00,   3.24166628e-01,\n",
       "          2.00000000e+00],\n",
       "       [  1.10000000e+02,   1.39000000e+02,   3.29974486e-01,\n",
       "          2.00000000e+00],\n",
       "       [  1.82000000e+02,   2.02000000e+02,   3.37757656e-01,\n",
       "          2.00000000e+00],\n",
       "       [  2.01000000e+02,   2.66000000e+02,   3.39938889e-01,\n",
       "          3.00000000e+00],\n",
       "       [  1.57000000e+02,   3.07000000e+02,   3.42225401e-01,\n",
       "          4.00000000e+00],\n",
       "       [  1.51000000e+02,   2.24000000e+02,   3.43289463e-01,\n",
       "          2.00000000e+00],\n",
       "       [  6.40000000e+01,   2.75000000e+02,   3.45654926e-01,\n",
       "          3.00000000e+00],\n",
       "       [  1.26000000e+02,   2.65000000e+02,   3.48678384e-01,\n",
       "          3.00000000e+00],\n",
       "       [  1.13000000e+02,   1.17000000e+02,   3.53662333e-01,\n",
       "          2.00000000e+00],\n",
       "       [  2.18000000e+02,   2.72000000e+02,   3.63235442e-01,\n",
       "          4.00000000e+00],\n",
       "       [  1.46000000e+02,   1.48000000e+02,   3.68494543e-01,\n",
       "          2.00000000e+00],\n",
       "       [  2.03000000e+02,   2.43000000e+02,   3.69400345e-01,\n",
       "          2.00000000e+00],\n",
       "       [  1.00000000e+00,   7.50000000e+01,   3.70998633e-01,\n",
       "          2.00000000e+00],\n",
       "       [  1.88000000e+02,   2.86000000e+02,   3.78083612e-01,\n",
       "          3.00000000e+00],\n",
       "       [  2.25000000e+02,   2.46000000e+02,   3.80998520e-01,\n",
       "          2.00000000e+00],\n",
       "       [  6.50000000e+01,   9.70000000e+01,   3.81843367e-01,\n",
       "          2.00000000e+00],\n",
       "       [  3.90000000e+01,   2.58000000e+02,   3.87677550e-01,\n",
       "          3.00000000e+00],\n",
       "       [  2.60000000e+01,   7.00000000e+01,   3.87813810e-01,\n",
       "          2.00000000e+00],\n",
       "       [  2.57000000e+02,   2.92000000e+02,   3.92834730e-01,\n",
       "          5.00000000e+00],\n",
       "       [  1.62000000e+02,   3.05000000e+02,   3.99485889e-01,\n",
       "          3.00000000e+00],\n",
       "       [  2.40000000e+01,   2.63000000e+02,   4.00371256e-01,\n",
       "          3.00000000e+00],\n",
       "       [  1.97000000e+02,   3.01000000e+02,   4.08182097e-01,\n",
       "          3.00000000e+00],\n",
       "       [  1.28000000e+02,   1.38000000e+02,   4.15095252e-01,\n",
       "          2.00000000e+00],\n",
       "       [  1.69000000e+02,   2.29000000e+02,   4.17423691e-01,\n",
       "          2.00000000e+00],\n",
       "       [  7.60000000e+01,   2.50000000e+02,   4.20673771e-01,\n",
       "          3.00000000e+00],\n",
       "       [  2.10000000e+01,   9.40000000e+01,   4.21548228e-01,\n",
       "          2.00000000e+00],\n",
       "       [  2.22000000e+02,   2.79000000e+02,   4.28863775e-01,\n",
       "          5.00000000e+00],\n",
       "       [  1.89000000e+02,   3.12000000e+02,   4.36512521e-01,\n",
       "          4.00000000e+00],\n",
       "       [  8.20000000e+01,   3.11000000e+02,   4.38198752e-01,\n",
       "          3.00000000e+00],\n",
       "       [  1.30000000e+01,   6.10000000e+01,   4.49842583e-01,\n",
       "          2.00000000e+00],\n",
       "       [  1.60000000e+01,   5.70000000e+01,   4.57496132e-01,\n",
       "          2.00000000e+00],\n",
       "       [  2.08000000e+02,   2.85000000e+02,   4.58496803e-01,\n",
       "          3.00000000e+00],\n",
       "       [  4.20000000e+01,   3.08000000e+02,   4.60952725e-01,\n",
       "          3.00000000e+00],\n",
       "       [  2.90000000e+01,   3.10000000e+01,   4.65490701e-01,\n",
       "          2.00000000e+00],\n",
       "       [  1.74000000e+02,   2.06000000e+02,   4.70680863e-01,\n",
       "          2.00000000e+00],\n",
       "       [  2.91000000e+02,   3.37000000e+02,   4.80542354e-01,\n",
       "          7.00000000e+00],\n",
       "       [  1.09000000e+02,   2.56000000e+02,   4.82512709e-01,\n",
       "          3.00000000e+00],\n",
       "       [  1.59000000e+02,   1.63000000e+02,   4.85051101e-01,\n",
       "          2.00000000e+00],\n",
       "       [  1.56000000e+02,   3.16000000e+02,   4.97072375e-01,\n",
       "          4.00000000e+00],\n",
       "       [  3.06000000e+02,   3.15000000e+02,   4.99005467e-01,\n",
       "          9.00000000e+00],\n",
       "       [  2.30000000e+01,   2.96000000e+02,   5.10547342e-01,\n",
       "          3.00000000e+00],\n",
       "       [  1.50000000e+02,   1.84000000e+02,   5.11265151e-01,\n",
       "          2.00000000e+00],\n",
       "       [  5.40000000e+01,   3.19000000e+02,   5.16294941e-01,\n",
       "          4.00000000e+00],\n",
       "       [  6.70000000e+01,   7.80000000e+01,   5.17071442e-01,\n",
       "          2.00000000e+00],\n",
       "       [  1.58000000e+02,   2.84000000e+02,   5.17275765e-01,\n",
       "          5.00000000e+00],\n",
       "       [  2.74000000e+02,   2.88000000e+02,   5.22136508e-01,\n",
       "          4.00000000e+00],\n",
       "       [  1.15000000e+02,   3.23000000e+02,   5.32003240e-01,\n",
       "          3.00000000e+00],\n",
       "       [  1.00000000e+02,   2.98000000e+02,   5.36984840e-01,\n",
       "          3.00000000e+00],\n",
       "       [  1.67000000e+02,   3.47000000e+02,   5.37169199e-01,\n",
       "          3.00000000e+00],\n",
       "       [  5.80000000e+01,   3.46000000e+02,   5.39105447e-01,\n",
       "          3.00000000e+00],\n",
       "       [  2.37000000e+02,   3.40000000e+02,   5.42113687e-01,\n",
       "          5.00000000e+00],\n",
       "       [  1.27000000e+02,   3.20000000e+02,   5.43474959e-01,\n",
       "          4.00000000e+00],\n",
       "       [  5.10000000e+01,   3.55000000e+02,   5.45263927e-01,\n",
       "          5.00000000e+00],\n",
       "       [  3.13000000e+02,   3.28000000e+02,   5.48086716e-01,\n",
       "          4.00000000e+00],\n",
       "       [  6.80000000e+01,   7.10000000e+01,   5.62212616e-01,\n",
       "          2.00000000e+00],\n",
       "       [  3.17000000e+02,   3.52000000e+02,   5.68877367e-01,\n",
       "          1.30000000e+01],\n",
       "       [  5.00000000e+00,   9.00000000e+01,   5.78607539e-01,\n",
       "          2.00000000e+00],\n",
       "       [  3.30000000e+02,   3.58000000e+02,   5.83668920e-01,\n",
       "          6.00000000e+00],\n",
       "       [  1.16000000e+02,   1.49000000e+02,   5.90610425e-01,\n",
       "          2.00000000e+00],\n",
       "       [  1.04000000e+02,   1.18000000e+02,   5.93052223e-01,\n",
       "          2.00000000e+00],\n",
       "       [  1.64000000e+02,   2.40000000e+02,   5.95657903e-01,\n",
       "          2.00000000e+00],\n",
       "       [  1.85000000e+02,   1.91000000e+02,   6.00035293e-01,\n",
       "          2.00000000e+00],\n",
       "       [  1.40000000e+01,   2.80000000e+01,   6.10156624e-01,\n",
       "          2.00000000e+00],\n",
       "       [  1.83000000e+02,   2.99000000e+02,   6.10267311e-01,\n",
       "          4.00000000e+00],\n",
       "       [  3.09000000e+02,   3.43000000e+02,   6.24654812e-01,\n",
       "          4.00000000e+00],\n",
       "       [  3.22000000e+02,   3.24000000e+02,   6.35360605e-01,\n",
       "          6.00000000e+00],\n",
       "       [  8.00000000e+01,   3.38000000e+02,   6.40874530e-01,\n",
       "          3.00000000e+00],\n",
       "       [  2.20000000e+02,   3.26000000e+02,   6.46299977e-01,\n",
       "          4.00000000e+00],\n",
       "       [  1.43000000e+02,   1.44000000e+02,   6.53839615e-01,\n",
       "          2.00000000e+00],\n",
       "       [  6.00000000e+00,   3.31000000e+02,   6.55639706e-01,\n",
       "          6.00000000e+00],\n",
       "       [  1.10000000e+01,   2.55000000e+02,   6.62889588e-01,\n",
       "          3.00000000e+00],\n",
       "       [  3.10000000e+02,   3.36000000e+02,   6.63206388e-01,\n",
       "          6.00000000e+00],\n",
       "       [  0.00000000e+00,   8.30000000e+01,   7.03029355e-01,\n",
       "          2.00000000e+00],\n",
       "       [  1.14000000e+02,   1.21000000e+02,   7.13901982e-01,\n",
       "          2.00000000e+00],\n",
       "       [  2.14000000e+02,   3.32000000e+02,   7.15119505e-01,\n",
       "          4.00000000e+00],\n",
       "       [  6.20000000e+01,   2.77000000e+02,   7.24974047e-01,\n",
       "          4.00000000e+00],\n",
       "       [  3.50000000e+02,   3.74000000e+02,   7.27360823e-01,\n",
       "          4.00000000e+00],\n",
       "       [  3.04000000e+02,   3.51000000e+02,   7.32885030e-01,\n",
       "          6.00000000e+00],\n",
       "       [  1.68000000e+02,   3.27000000e+02,   7.37353395e-01,\n",
       "          3.00000000e+00],\n",
       "       [  2.00000000e+00,   3.33000000e+02,   7.49961341e-01,\n",
       "          4.00000000e+00],\n",
       "       [  3.00000000e+02,   3.65000000e+02,   7.59929761e-01,\n",
       "          7.00000000e+00],\n",
       "       [  3.50000000e+01,   3.85000000e+02,   7.63168991e-01,\n",
       "          3.00000000e+00],\n",
       "       [  1.19000000e+02,   1.37000000e+02,   7.90200856e-01,\n",
       "          2.00000000e+00],\n",
       "       [  3.61000000e+02,   3.84000000e+02,   7.96677402e-01,\n",
       "          9.00000000e+00],\n",
       "       [  3.60000000e+02,   3.64000000e+02,   8.00467099e-01,\n",
       "          7.00000000e+00],\n",
       "       [  3.60000000e+01,   4.50000000e+01,   8.03461246e-01,\n",
       "          2.00000000e+00],\n",
       "       [  3.14000000e+02,   3.86000000e+02,   8.07959064e-01,\n",
       "          4.00000000e+00],\n",
       "       [  1.31000000e+02,   1.41000000e+02,   8.09067977e-01,\n",
       "          2.00000000e+00],\n",
       "       [  1.40000000e+02,   3.21000000e+02,   8.12270551e-01,\n",
       "          3.00000000e+00],\n",
       "       [  3.41000000e+02,   3.56000000e+02,   8.14941509e-01,\n",
       "          5.00000000e+00],\n",
       "       [  3.29000000e+02,   3.48000000e+02,   8.16221356e-01,\n",
       "          1.00000000e+01],\n",
       "       [  2.82000000e+02,   3.80000000e+02,   8.17488312e-01,\n",
       "          6.00000000e+00],\n",
       "       [  3.34000000e+02,   3.63000000e+02,   8.21191711e-01,\n",
       "          8.00000000e+00],\n",
       "       [  2.62000000e+02,   3.78000000e+02,   8.30200016e-01,\n",
       "          8.00000000e+00],\n",
       "       [  1.05000000e+02,   1.32000000e+02,   8.32283275e-01,\n",
       "          2.00000000e+00],\n",
       "       [  3.02000000e+02,   3.49000000e+02,   8.51544845e-01,\n",
       "          5.00000000e+00],\n",
       "       [  1.29000000e+02,   2.83000000e+02,   8.93691260e-01,\n",
       "          3.00000000e+00],\n",
       "       [  7.20000000e+01,   3.69000000e+02,   8.96607034e-01,\n",
       "          3.00000000e+00],\n",
       "       [  2.36000000e+02,   3.18000000e+02,   8.99377813e-01,\n",
       "          3.00000000e+00],\n",
       "       [  3.39000000e+02,   3.57000000e+02,   9.00984195e-01,\n",
       "          1.00000000e+01],\n",
       "       [  2.81000000e+02,   2.97000000e+02,   9.01319569e-01,\n",
       "          4.00000000e+00],\n",
       "       [  3.35000000e+02,   3.72000000e+02,   9.20535086e-01,\n",
       "          4.00000000e+00],\n",
       "       [  1.70000000e+01,   3.45000000e+02,   9.31879254e-01,\n",
       "          4.00000000e+00],\n",
       "       [  7.40000000e+01,   3.25000000e+02,   9.57316803e-01,\n",
       "          3.00000000e+00],\n",
       "       [  3.40000000e+01,   3.62000000e+02,   9.58057299e-01,\n",
       "          4.00000000e+00],\n",
       "       [  3.82000000e+02,   4.17000000e+02,   9.65810336e-01,\n",
       "          1.00000000e+01],\n",
       "       [  3.54000000e+02,   3.91000000e+02,   9.68584562e-01,\n",
       "          5.00000000e+00],\n",
       "       [  2.95000000e+02,   3.67000000e+02,   9.95996340e-01,\n",
       "          4.00000000e+00],\n",
       "       [  7.90000000e+01,   3.70000000e+02,   9.96360835e-01,\n",
       "          7.00000000e+00],\n",
       "       [  3.68000000e+02,   4.12000000e+02,   9.96449150e-01,\n",
       "          2.30000000e+01],\n",
       "       [  3.59000000e+02,   3.81000000e+02,   1.00462826e+00,\n",
       "          5.00000000e+00],\n",
       "       [  2.70000000e+01,   3.75000000e+02,   1.05026537e+00,\n",
       "          3.00000000e+00],\n",
       "       [  3.79000000e+02,   4.20000000e+02,   1.05126334e+00,\n",
       "          7.00000000e+00],\n",
       "       [  1.70000000e+02,   3.96000000e+02,   1.07519023e+00,\n",
       "          1.00000000e+01],\n",
       "       [  2.21000000e+02,   3.89000000e+02,   1.10976761e+00,\n",
       "          5.00000000e+00],\n",
       "       [  1.01000000e+02,   4.01000000e+02,   1.11910964e+00,\n",
       "          4.00000000e+00],\n",
       "       [  1.93000000e+02,   4.04000000e+02,   1.12094845e+00,\n",
       "          7.00000000e+00],\n",
       "       [  3.92000000e+02,   4.03000000e+02,   1.12420216e+00,\n",
       "          1.40000000e+01],\n",
       "       [  3.03000000e+02,   3.44000000e+02,   1.14317211e+00,\n",
       "          6.00000000e+00],\n",
       "       [  4.15000000e+02,   4.16000000e+02,   1.15697336e+00,\n",
       "          7.00000000e+00],\n",
       "       [  2.31000000e+02,   2.45000000e+02,   1.16025154e+00,\n",
       "          2.00000000e+00],\n",
       "       [  1.92000000e+02,   2.15000000e+02,   1.16232288e+00,\n",
       "          2.00000000e+00],\n",
       "       [  3.80000000e+01,   3.93000000e+02,   1.17121085e+00,\n",
       "          8.00000000e+00],\n",
       "       [  3.73000000e+02,   4.11000000e+02,   1.18408535e+00,\n",
       "          5.00000000e+00],\n",
       "       [  7.00000000e+00,   4.00000000e+01,   1.20090759e+00,\n",
       "          2.00000000e+00],\n",
       "       [  3.66000000e+02,   4.02000000e+02,   1.20283695e+00,\n",
       "          9.00000000e+00],\n",
       "       [  3.42000000e+02,   3.77000000e+02,   1.22515650e+00,\n",
       "          6.00000000e+00],\n",
       "       [  1.33000000e+02,   3.99000000e+02,   1.23937720e+00,\n",
       "          5.00000000e+00],\n",
       "       [  4.08000000e+02,   4.14000000e+02,   1.25666108e+00,\n",
       "          9.00000000e+00],\n",
       "       [  4.00000000e+00,   8.60000000e+01,   1.27476510e+00,\n",
       "          2.00000000e+00],\n",
       "       [  1.20000000e+01,   2.94000000e+02,   1.27942006e+00,\n",
       "          3.00000000e+00],\n",
       "       [  4.07000000e+02,   4.40000000e+02,   1.31098277e+00,\n",
       "          7.00000000e+00],\n",
       "       [  4.21000000e+02,   4.39000000e+02,   1.32841481e+00,\n",
       "          1.30000000e+01],\n",
       "       [  4.24000000e+02,   4.37000000e+02,   1.34075279e+00,\n",
       "          5.00000000e+00],\n",
       "       [  4.05000000e+02,   4.31000000e+02,   1.35166475e+00,\n",
       "          1.40000000e+01],\n",
       "       [  2.28000000e+02,   3.90000000e+02,   1.35786803e+00,\n",
       "          7.00000000e+00],\n",
       "       [  3.87000000e+02,   4.06000000e+02,   1.37932953e+00,\n",
       "          1.20000000e+01],\n",
       "       [  3.97000000e+02,   4.41000000e+02,   1.40957844e+00,\n",
       "          1.60000000e+01],\n",
       "       [  3.88000000e+02,   3.94000000e+02,   1.46666999e+00,\n",
       "          7.00000000e+00],\n",
       "       [  2.76000000e+02,   4.00000000e+02,   1.49653700e+00,\n",
       "          4.00000000e+00],\n",
       "       [  1.12000000e+02,   4.09000000e+02,   1.50729851e+00,\n",
       "          4.00000000e+00],\n",
       "       [  4.22000000e+02,   4.29000000e+02,   1.51889601e+00,\n",
       "          3.00000000e+01],\n",
       "       [  5.20000000e+01,   4.10000000e+02,   1.53340018e+00,\n",
       "          4.00000000e+00],\n",
       "       [  4.23000000e+02,   4.53000000e+02,   1.56918922e+00,\n",
       "          9.00000000e+00],\n",
       "       [  4.13000000e+02,   4.50000000e+02,   1.60607591e+00,\n",
       "          2.00000000e+01],\n",
       "       [  4.18000000e+02,   4.35000000e+02,   1.61220609e+00,\n",
       "          1.80000000e+01],\n",
       "       [  4.27000000e+02,   4.34000000e+02,   1.72256825e+00,\n",
       "          7.00000000e+00],\n",
       "       [  4.30000000e+02,   4.45000000e+02,   1.72962719e+00,\n",
       "          2.70000000e+01],\n",
       "       [  3.98000000e+02,   4.25000000e+02,   1.73141110e+00,\n",
       "          9.00000000e+00],\n",
       "       [  4.26000000e+02,   4.49000000e+02,   1.77989949e+00,\n",
       "          2.20000000e+01],\n",
       "       [  4.19000000e+02,   4.47000000e+02,   1.87833896e+00,\n",
       "          1.90000000e+01],\n",
       "       [  1.98000000e+02,   2.34000000e+02,   1.90526913e+00,\n",
       "          2.00000000e+00],\n",
       "       [  3.76000000e+02,   4.36000000e+02,   1.92544777e+00,\n",
       "          9.00000000e+00],\n",
       "       [  4.54000000e+02,   4.62000000e+02,   2.05717893e+00,\n",
       "          5.20000000e+01],\n",
       "       [  2.30000000e+02,   4.33000000e+02,   2.06232660e+00,\n",
       "          3.00000000e+00],\n",
       "       [  3.83000000e+02,   4.51000000e+02,   2.07670614e+00,\n",
       "          1.00000000e+01],\n",
       "       [  3.95000000e+02,   4.44000000e+02,   2.10210815e+00,\n",
       "          9.00000000e+00],\n",
       "       [  3.53000000e+02,   4.46000000e+02,   2.14702847e+00,\n",
       "          8.00000000e+00],\n",
       "       [  4.52000000e+02,   4.57000000e+02,   2.23178202e+00,\n",
       "          2.40000000e+01],\n",
       "       [  4.38000000e+02,   4.60000000e+02,   2.24050961e+00,\n",
       "          3.60000000e+01],\n",
       "       [  3.71000000e+02,   4.56000000e+02,   2.29819294e+00,\n",
       "          1.10000000e+01],\n",
       "       [  4.32000000e+02,   4.68000000e+02,   2.36896836e+00,\n",
       "          1.70000000e+01],\n",
       "       [  4.43000000e+02,   4.61000000e+02,   2.40670962e+00,\n",
       "          1.20000000e+01],\n",
       "       [  4.28000000e+02,   4.69000000e+02,   2.42486307e+00,\n",
       "          1.30000000e+01],\n",
       "       [  4.59000000e+02,   4.67000000e+02,   2.47501117e+00,\n",
       "          1.00000000e+01],\n",
       "       [  4.58000000e+02,   4.72000000e+02,   2.53409001e+00,\n",
       "          5.40000000e+01],\n",
       "       [  4.71000000e+02,   4.73000000e+02,   2.60450814e+00,\n",
       "          3.50000000e+01],\n",
       "       [  4.48000000e+02,   4.66000000e+02,   2.74416234e+00,\n",
       "          5.90000000e+01],\n",
       "       [  9.60000000e+01,   4.75000000e+02,   2.91060327e+00,\n",
       "          1.30000000e+01],\n",
       "       [  1.45000000e+02,   1.47000000e+02,   2.92469303e+00,\n",
       "          2.00000000e+00],\n",
       "       [  4.63000000e+02,   4.77000000e+02,   2.94523336e+00,\n",
       "          2.90000000e+01],\n",
       "       [  4.65000000e+02,   4.80000000e+02,   3.21522683e+00,\n",
       "          6.80000000e+01],\n",
       "       [  4.55000000e+02,   4.70000000e+02,   3.30989361e+00,\n",
       "          1.20000000e+01],\n",
       "       [  4.76000000e+02,   4.79000000e+02,   3.60001170e+00,\n",
       "          4.80000000e+01],\n",
       "       [  4.78000000e+02,   4.85000000e+02,   3.81713946e+00,\n",
       "          6.60000000e+01],\n",
       "       [  4.42000000e+02,   4.74000000e+02,   3.84140416e+00,\n",
       "          1.90000000e+01],\n",
       "       [  4.83000000e+02,   4.84000000e+02,   3.96702600e+00,\n",
       "          9.70000000e+01],\n",
       "       [  4.81000000e+02,   4.88000000e+02,   3.98964090e+00,\n",
       "          3.20000000e+01],\n",
       "       [  4.87000000e+02,   4.90000000e+02,   4.53849864e+00,\n",
       "          9.80000000e+01],\n",
       "       [  4.64000000e+02,   4.89000000e+02,   5.09694377e+00,\n",
       "          9.90000000e+01],\n",
       "       [  4.82000000e+02,   4.86000000e+02,   5.61438416e+00,\n",
       "          5.00000000e+01],\n",
       "       [  6.60000000e+01,   4.91000000e+02,   5.74914192e+00,\n",
       "          9.90000000e+01],\n",
       "       [  2.11000000e+02,   4.92000000e+02,   6.01460041e+00,\n",
       "          1.00000000e+02],\n",
       "       [  9.00000000e+00,   4.94000000e+02,   9.43196160e+00,\n",
       "          1.00000000e+02],\n",
       "       [  4.93000000e+02,   4.95000000e+02,   1.01438752e+01,\n",
       "          1.50000000e+02],\n",
       "       [  4.96000000e+02,   4.97000000e+02,   2.07587957e+01,\n",
       "          2.50000000e+02]])"
      ]
     },
     "execution_count": 133,
     "metadata": {},
     "output_type": "execute_result"
    }
   ],
   "source": [
    "Z = linkage(df_col, 'average')\n",
    "Z"
   ]
  },
  {
   "cell_type": "markdown",
   "metadata": {},
   "source": [
    "Use ward as linkage metric and distance as Eucledian"
   ]
  },
  {
   "cell_type": "code",
   "execution_count": null,
   "metadata": {
    "collapsed": true
   },
   "outputs": [],
   "source": []
  },
  {
   "cell_type": "code",
   "execution_count": null,
   "metadata": {
    "collapsed": true
   },
   "outputs": [],
   "source": []
  },
  {
   "cell_type": "markdown",
   "metadata": {},
   "source": [
    "### 10. Plot the dendrogram for the consolidated dataframe"
   ]
  },
  {
   "cell_type": "code",
   "execution_count": 135,
   "metadata": {},
   "outputs": [
    {
     "data": {
      "image/png": "[encoded data removed]",
      "text/plain": [
       "<matplotlib.figure.Figure at 0x1e9c9ec2cc0>"
      ]
     },
     "metadata": {},
     "output_type": "display_data"
    }
   ],
   "source": [
    "plt.figure(figsize=(10, 10))\n",
    "plt.title('Agglomerative Hierarchical Clustering Dendogram')\n",
    "plt.xlabel('sample index')\n",
    "plt.ylabel('A')\n",
    "dendrogram(Z, leaf_rotation=90.,color_threshold = 30, leaf_font_size=8. )\n",
    "plt.tight_layout()"
   ]
  },
  {
   "cell_type": "code",
   "execution_count": null,
   "metadata": {
    "collapsed": true
   },
   "outputs": [],
   "source": []
  },
  {
   "cell_type": "code",
   "execution_count": null,
   "metadata": {
    "collapsed": true
   },
   "outputs": [],
   "source": []
  },
  {
   "cell_type": "markdown",
   "metadata": {},
   "source": [
    "### 11. Recreate the dendrogram for last 12 merged clusters "
   ]
  },
  {
   "cell_type": "code",
   "execution_count": 146,
   "metadata": {},
   "outputs": [
    {
     "data": {
      "image/png": "[encoded data removed]",
      "text/plain": [
       "<matplotlib.figure.Figure at 0x1e9cb69fba8>"
      ]
     },
     "metadata": {},
     "output_type": "display_data"
    }
   ],
   "source": [
    "plt.figure(figsize=(10, 10))\n",
    "plt.title('Agglomerative Hierarchical Clustering Dendogram')\n",
    "plt.xlabel('sample index')\n",
    "plt.ylabel('A')\n",
    "dendrogram(Z,truncate_mode=\"lastp\", p=3, leaf_rotation=90.,color_threshold = 30, leaf_font_size=8. )\n",
    "plt.tight_layout()"
   ]
  },
  {
   "cell_type": "markdown",
   "metadata": {},
   "source": [
    "Hint: Use truncate_mode='lastp' attribute in dendrogram function to arrive at dendrogram "
   ]
  },
  {
   "cell_type": "code",
   "execution_count": null,
   "metadata": {
    "collapsed": true
   },
   "outputs": [],
   "source": []
  },
  {
   "cell_type": "code",
   "execution_count": null,
   "metadata": {
    "collapsed": true
   },
   "outputs": [],
   "source": []
  },
  {
   "cell_type": "markdown",
   "metadata": {},
   "source": [
    "### 12. From the truncated dendrogram, find out the optimal distance between clusters which u want to use an input for clustering data"
   ]
  },
  {
   "cell_type": "code",
   "execution_count": 143,
   "metadata": {},
   "outputs": [
    {
     "data": {
      "text/plain": [
       "0.9598262833254334"
      ]
     },
     "execution_count": 143,
     "metadata": {},
     "output_type": "execute_result"
    }
   ],
   "source": [
    "c, coph_dists = cophenet(Z , pdist(df_col))\n",
    "c"
   ]
  },
  {
   "cell_type": "code",
   "execution_count": null,
   "metadata": {
    "collapsed": true
   },
   "outputs": [],
   "source": []
  },
  {
   "cell_type": "markdown",
   "metadata": {},
   "source": [
    "### 13. Using this distance measure and fcluster function to cluster the data into 3 different groups"
   ]
  },
  {
   "cell_type": "code",
   "execution_count": 151,
   "metadata": {},
   "outputs": [
    {
     "data": {
      "text/plain": [
       "array([1, 1, 1, 1, 1, 1, 1, 1, 1, 1, 1, 1, 1, 1, 1, 1, 1, 1, 1, 1, 1, 1, 1,\n",
       "       1, 1, 1, 1, 1, 1, 1, 1, 1, 1, 1, 1, 1, 1, 1, 1, 1, 1, 1, 1, 1, 1, 1,\n",
       "       1, 1, 1, 1, 1, 1, 1, 1, 1, 1, 1, 1, 1, 1, 1, 1, 1, 1, 1, 1, 1, 1, 1,\n",
       "       1, 1, 1, 1, 1, 1, 1, 1, 1, 1, 1, 1, 1, 1, 1, 1, 1, 1, 1, 1, 1, 1, 1,\n",
       "       1, 1, 1, 1, 1, 1, 1, 1, 2, 2, 2, 2, 2, 2, 2, 2, 2, 2, 2, 2, 2, 2, 2,\n",
       "       2, 2, 2, 2, 2, 2, 2, 2, 2, 2, 2, 2, 2, 2, 2, 2, 2, 2, 2, 2, 2, 2, 2,\n",
       "       2, 2, 2, 2, 2, 2, 2, 2, 2, 2, 2, 2, 3, 3, 3, 3, 3, 3, 3, 3, 3, 3, 3,\n",
       "       3, 3, 3, 3, 3, 3, 3, 3, 3, 3, 3, 3, 3, 3, 3, 3, 3, 3, 3, 3, 3, 3, 3,\n",
       "       3, 3, 3, 3, 3, 3, 3, 3, 3, 3, 3, 3, 3, 3, 3, 3, 3, 3, 3, 3, 3, 3, 3,\n",
       "       3, 3, 3, 3, 3, 3, 3, 3, 3, 3, 3, 3, 3, 3, 3, 3, 3, 3, 3, 3, 3, 3, 3,\n",
       "       3, 3, 3, 3, 3, 3, 3, 3, 3, 3, 3, 3, 3, 3, 3, 3, 3, 3, 3, 3], dtype=int32)"
      ]
     },
     "execution_count": 151,
     "metadata": {},
     "output_type": "execute_result"
    }
   ],
   "source": [
    "from scipy.cluster.hierarchy import fcluster\n",
    "fcluster_plot = fcluster(Z ,10 , criterion = \"distance\")\n",
    "fcluster_plot"
   ]
  },
  {
   "cell_type": "code",
   "execution_count": null,
   "metadata": {
    "collapsed": true
   },
   "outputs": [],
   "source": []
  },
  {
   "cell_type": "markdown",
   "metadata": {},
   "source": [
    "### Use matplotlib to visually observe the clusters in 2D space "
   ]
  },
  {
   "cell_type": "code",
   "execution_count": 154,
   "metadata": {},
   "outputs": [
    {
     "data": {
      "text/plain": [
       "<matplotlib.collections.PathCollection at 0x1e9ca08d7b8>"
      ]
     },
     "execution_count": 154,
     "metadata": {},
     "output_type": "execute_result"
    },
    {
     "data": {
      "image/png": "[encoded data removed]",
      "text/plain": [
       "<matplotlib.figure.Figure at 0x1e9cb670470>"
      ]
     },
     "metadata": {},
     "output_type": "display_data"
    }
   ],
   "source": [
    "plt.scatter(x = df_col[\"A1\"] , y = df_col[\"A2\"])"
   ]
  }
 ],
 "metadata": {
  "kernelspec": {
   "display_name": "Python 3",
   "language": "python",
   "name": "python3"
  },
  "language_info": {
   "codemirror_mode": {
    "name": "ipython",
    "version": 3
   },
   "file_extension": ".py",
   "mimetype": "text/x-python",
   "name": "python",
   "nbconvert_exporter": "python",
   "pygments_lexer": "ipython3",
   "version": "3.6.1"
  }
 },
 "nbformat": 4,
 "nbformat_minor": 2
}
