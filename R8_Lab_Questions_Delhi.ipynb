{
 "cells": [
  {
   "cell_type": "code",
   "execution_count": 1,
   "metadata": {
    "colab": {
     "base_uri": "https://localhost:8080/",
     "height": 50
    },
    "colab_type": "code",
    "executionInfo": {
     "elapsed": 5160,
     "status": "ok",
     "timestamp": 1578845138118,
     "user": {
      "displayName": "Rashi Khanna",
      "photoUrl": "https://lh3.googleusercontent.com/a-/AAuE7mDE9tqaJApZNwf0diKaprgyfGdCDJP_OzMjAg8KosA=s64",
      "userId": "05836433031738441465"
     },
     "user_tz": -330
    },
    "id": "dYQoWojpL_7x",
    "outputId": "8b171682-e7ed-409c-97cb-9f2815dfa1dd"
   },
   "outputs": [
    {
     "name": "stdout",
     "output_type": "stream",
     "text": [
      "TensorFlow 2.x selected.\n"
     ]
    },
    {
     "data": {
      "text/plain": [
       "'2.1.0-rc1'"
      ]
     },
     "execution_count": 1,
     "metadata": {
      "tags": []
     },
     "output_type": "execute_result"
    }
   ],
   "source": [
    "# Importing tensorflow version 2\n",
    "\n",
    "%tensorflow_version 2.x\n",
    "import tensorflow\n",
    "tensorflow.__version__"
   ]
  },
  {
   "cell_type": "code",
   "execution_count": 0,
   "metadata": {
    "colab": {},
    "colab_type": "code",
    "id": "nDPytPkYM8KF"
   },
   "outputs": [],
   "source": [
    "# Importing other important packages\n",
    "\n",
    "import numpy as np\n",
    "import pandas as pd"
   ]
  },
  {
   "cell_type": "markdown",
   "metadata": {
    "colab_type": "text",
    "id": "NFfDTfhlaEI_"
   },
   "source": [
    "# Transfer Learning MNIST"
   ]
  },
  {
   "cell_type": "markdown",
   "metadata": {
    "colab_type": "text",
    "id": "rNwbqCFRaEJC"
   },
   "source": [
    "* Train a simple convnet (convolutional neural network) on the MNIST dataset the first 5 digits [0-4].\n",
    "* Freeze convolutional layers and fine-tune dense layers for the classification of digits [5-9]."
   ]
  },
  {
   "cell_type": "markdown",
   "metadata": {
    "colab_type": "text",
    "id": "5Dnzaw1i5sXF"
   },
   "source": [
    "## MNIST Dataset\n",
    "The MNIST database contains 60,000 training images and 10,000 testing images taken from American Census Bureau employees and American high school students. The MNIST dataset is one of the most common datasets used for image classification and accessible from many different sources. In fact, even Tensorflow and Keras allow us to import and download the MNIST dataset directly from their API."
   ]
  },
  {
   "cell_type": "markdown",
   "metadata": {
    "colab_type": "text",
    "id": "bpUULy1Z5sXF"
   },
   "source": [
    "Let's import keras and load MNIST dataset"
   ]
  },
  {
   "cell_type": "code",
   "execution_count": 0,
   "metadata": {
    "colab": {},
    "colab_type": "code",
    "id": "KiG7IPhm5sXG"
   },
   "outputs": [],
   "source": [
    "# Initialize the random number generator\n",
    "import random\n",
    "random.seed(0)\n",
    "\n",
    "# Ignore the warnings\n",
    "import warnings\n",
    "warnings.filterwarnings(\"ignore\")"
   ]
  },
  {
   "cell_type": "code",
   "execution_count": 0,
   "metadata": {
    "colab": {},
    "colab_type": "code",
    "id": "ZqUiJM_Z5sXL"
   },
   "outputs": [],
   "source": [
    "from tensorflow.keras.backend import backend\n",
    "from tensorflow.keras.datasets import mnist\n",
    "\n",
    "# the data, shuffled and split between train and test sets\n",
    "(X_train, y_train), (X_test, y_test) = mnist.load_data()"
   ]
  },
  {
   "cell_type": "code",
   "execution_count": 5,
   "metadata": {
    "colab": {
     "base_uri": "https://localhost:8080/",
     "height": 84
    },
    "colab_type": "code",
    "executionInfo": {
     "elapsed": 5116,
     "status": "ok",
     "timestamp": 1578845138122,
     "user": {
      "displayName": "Rashi Khanna",
      "photoUrl": "https://lh3.googleusercontent.com/a-/AAuE7mDE9tqaJApZNwf0diKaprgyfGdCDJP_OzMjAg8KosA=s64",
      "userId": "05836433031738441465"
     },
     "user_tz": -330
    },
    "id": "T0us9FwOUkwp",
    "outputId": "a9f7eff7-98a7-45f7-afb0-4a7f8fa07cae"
   },
   "outputs": [
    {
     "name": "stdout",
     "output_type": "stream",
     "text": [
      "Shape of X_train: (60000, 28, 28) \n",
      "Shape of y_train: (60000,) \n",
      "Shape of X_test: (10000, 28, 28) \n",
      "Shape of y_test: (10000,)\n"
     ]
    }
   ],
   "source": [
    "print(\"Shape of X_train:\", X_train.shape, \"\\nShape of y_train:\", y_train.shape, \n",
    "      \"\\nShape of X_test:\", X_test.shape, \"\\nShape of y_test:\", y_test.shape)"
   ]
  },
  {
   "cell_type": "markdown",
   "metadata": {
    "colab_type": "text",
    "id": "RVw4wsuW5sXO"
   },
   "source": [
    "X_train and X_test contain greyscale RGB codes (from 0 to 255) while y_train and y_test contains labels from 0 to 9 which represents which number they actually are."
   ]
  },
  {
   "cell_type": "markdown",
   "metadata": {
    "colab_type": "text",
    "id": "xgQ86Vhw5sXP"
   },
   "source": [
    "Let's visualize some numbers using matplotlib"
   ]
  },
  {
   "cell_type": "code",
   "execution_count": 6,
   "metadata": {
    "colab": {
     "base_uri": "https://localhost:8080/",
     "height": 298
    },
    "colab_type": "code",
    "executionInfo": {
     "elapsed": 5094,
     "status": "ok",
     "timestamp": 1578845138123,
     "user": {
      "displayName": "Rashi Khanna",
      "photoUrl": "https://lh3.googleusercontent.com/a-/AAuE7mDE9tqaJApZNwf0diKaprgyfGdCDJP_OzMjAg8KosA=s64",
      "userId": "05836433031738441465"
     },
     "user_tz": -330
    },
    "id": "VZwg00gO5sXQ",
    "outputId": "8871ad06-236f-4817-a77d-54faf8e420f6"
   },
   "outputs": [
    {
     "name": "stdout",
     "output_type": "stream",
     "text": [
      "Label: 0\n"
     ]
    },
    {
     "data": {
      "text/plain": [
       "<matplotlib.image.AxesImage at 0x7f6c6f02b240>"
      ]
     },
     "execution_count": 6,
     "metadata": {
      "tags": []
     },
     "output_type": "execute_result"
    },
    {
     "data": {
      "image/png": "[encoded data removed]",
      "text/plain": [
       "<Figure size 432x288 with 1 Axes>"
      ]
     },
     "metadata": {
      "tags": []
     },
     "output_type": "display_data"
    }
   ],
   "source": [
    "import matplotlib.pyplot as plt\n",
    "%matplotlib inline\n",
    "print(\"Label: {}\".format(y_train[1000]))\n",
    "plt.imshow(X_train[1000], cmap='gray')"
   ]
  },
  {
   "cell_type": "markdown",
   "metadata": {
    "colab_type": "text",
    "id": "p64mhwp95sXS"
   },
   "source": [
    "## Question 1"
   ]
  },
  {
   "cell_type": "markdown",
   "metadata": {
    "colab_type": "text",
    "id": "XxNAiWYd5sXT"
   },
   "source": [
    "### Create two datasets\n",
    "- First having digits from 0 to 4\n",
    "- Second having digits from 5 to 9\n",
    "\n",
    "Hint: use labels to separate data"
   ]
  },
  {
   "cell_type": "code",
   "execution_count": 0,
   "metadata": {
    "colab": {},
    "colab_type": "code",
    "id": "1807m1CL5sXT"
   },
   "outputs": [],
   "source": [
    "# 1st dataset\n",
    "X_train_0to4 = X_train[y_train < 5]\n",
    "y_train_0to4 = y_train[y_train < 5]\n",
    "\n",
    "X_train_5to9 = X_train[y_train > 4]\n",
    "y_train_5to9 = y_train[y_train > 4]\n",
    "\n",
    "# 2nd dataset\n",
    "X_test_0to4 = X_test[y_test < 5]\n",
    "y_test_0to4 = y_test[y_test < 5]\n",
    "\n",
    "X_test_5to9 = X_test[y_test > 4]\n",
    "y_test_5to9 = y_test[y_test > 4]"
   ]
  },
  {
   "cell_type": "markdown",
   "metadata": {
    "colab_type": "text",
    "id": "M9jKcF1z5sXV"
   },
   "source": [
    "## Question 2"
   ]
  },
  {
   "cell_type": "markdown",
   "metadata": {
    "colab_type": "text",
    "id": "NMo7lvwQ5sXW"
   },
   "source": [
    "### Print shape of the data\n",
    "- print shape of all variables of both the datasets you created"
   ]
  },
  {
   "cell_type": "code",
   "execution_count": 8,
   "metadata": {
    "colab": {
     "base_uri": "https://localhost:8080/",
     "height": 168
    },
    "colab_type": "code",
    "executionInfo": {
     "elapsed": 5062,
     "status": "ok",
     "timestamp": 1578845138124,
     "user": {
      "displayName": "Rashi Khanna",
      "photoUrl": "https://lh3.googleusercontent.com/a-/AAuE7mDE9tqaJApZNwf0diKaprgyfGdCDJP_OzMjAg8KosA=s64",
      "userId": "05836433031738441465"
     },
     "user_tz": -330
    },
    "id": "kH7ZjEoH5sXW",
    "outputId": "eb908d44-73bc-400f-c643-5e854e0ec7b2"
   },
   "outputs": [
    {
     "name": "stdout",
     "output_type": "stream",
     "text": [
      "Shape of X_train_0to4: (30596, 28, 28) \n",
      "Shape of y_train_0to4: (30596,) \n",
      "Shape of X_train_5to9: (29404, 28, 28) \n",
      "Shape of y_train_5to9: (29404,) \n",
      "\n",
      "Shape of X_test_0to4: (5139, 28, 28) \n",
      "Shape of y_test_0to4: (5139,) \n",
      "Shape of X_test_5to9: (4861, 28, 28) \n",
      "Shape of y_test_5to9: (4861,)\n"
     ]
    }
   ],
   "source": [
    "print(\"Shape of X_train_0to4:\", X_train_0to4.shape, \"\\nShape of y_train_0to4:\", y_train_0to4.shape,\n",
    "      \"\\nShape of X_train_5to9:\", X_train_5to9.shape, \"\\nShape of y_train_5to9:\", y_train_5to9.shape,\n",
    "      \"\\n\\nShape of X_test_0to4:\", X_test_0to4.shape, \"\\nShape of y_test_0to4:\", y_test_0to4.shape,\n",
    "      \"\\nShape of X_test_5to9:\", X_test_5to9.shape, \"\\nShape of y_test_5to9:\", y_test_5to9.shape)"
   ]
  },
  {
   "cell_type": "markdown",
   "metadata": {
    "colab_type": "text",
    "id": "IUU4PkKU5sXY"
   },
   "source": [
    "## Question 3"
   ]
  },
  {
   "cell_type": "markdown",
   "metadata": {
    "colab_type": "text",
    "id": "4I8ajqdt5sXY"
   },
   "source": [
    "### Reshape data\n",
    "- reshape first dataset\n",
    "- To be able to use the dataset in Keras, we need 4-dims numpy arrays. \n",
    "- reshape features to pass it to a Conv2D layer\n",
    "- channel = 1\n",
    "- reshape features of first dataset only\n",
    "- do not reshape labels"
   ]
  },
  {
   "cell_type": "code",
   "execution_count": 0,
   "metadata": {
    "colab": {},
    "colab_type": "code",
    "id": "38wgBEcz5sXa"
   },
   "outputs": [],
   "source": [
    "# Reshaping the first dataset\n",
    "\n",
    "X_train_0to4 = X_train_0to4.reshape(len(X_train_0to4), 28, 28, 1)\n",
    "X_test_0to4 = X_test_0to4.reshape(len(X_test_0to4), 28, 28, 1)"
   ]
  },
  {
   "cell_type": "markdown",
   "metadata": {
    "colab_type": "text",
    "id": "_5H-BtNm5sXg"
   },
   "source": [
    "## Question 4"
   ]
  },
  {
   "cell_type": "markdown",
   "metadata": {
    "colab_type": "text",
    "id": "2ahCMtCl5sXh"
   },
   "source": [
    "### Normalize data\n",
    "- normalize first dataset\n",
    "- we must normalize our data as it is always required in neural network models\n",
    "- we can achieve this by dividing the RGB codes to 255 (which is the maximum RGB code minus the minimum RGB code)\n",
    "- normalize X_train and X_test\n",
    "- make sure that the values are float so that we can get decimal points after division"
   ]
  },
  {
   "cell_type": "code",
   "execution_count": 0,
   "metadata": {
    "colab": {},
    "colab_type": "code",
    "id": "z4mti7pg5sXj"
   },
   "outputs": [],
   "source": [
    "# Normalizing the first dataset\n",
    "\n",
    "X_train_0to4 = X_train_0to4 / 255\n",
    "X_test_0to4 = X_test_0to4 / 255"
   ]
  },
  {
   "cell_type": "markdown",
   "metadata": {
    "colab_type": "text",
    "id": "TfQ6545D5sXp"
   },
   "source": [
    "### Print shape of data and number of images\n",
    "- for first dataset\n",
    "- print shape of X_train\n",
    "- print number of images in X_train\n",
    "- print number of images in X_test"
   ]
  },
  {
   "cell_type": "code",
   "execution_count": 11,
   "metadata": {
    "colab": {
     "base_uri": "https://localhost:8080/",
     "height": 84
    },
    "colab_type": "code",
    "executionInfo": {
     "elapsed": 5018,
     "status": "ok",
     "timestamp": 1578845138127,
     "user": {
      "displayName": "Rashi Khanna",
      "photoUrl": "https://lh3.googleusercontent.com/a-/AAuE7mDE9tqaJApZNwf0diKaprgyfGdCDJP_OzMjAg8KosA=s64",
      "userId": "05836433031738441465"
     },
     "user_tz": -330
    },
    "id": "uQfQXZMo5sXp",
    "outputId": "95c00018-274f-45d8-dbcd-c64ded9efde2"
   },
   "outputs": [
    {
     "name": "stdout",
     "output_type": "stream",
     "text": [
      "Shape of X_train_0to4: (30596, 28, 28, 1) \n",
      "Shape of y_train_0to4: (30596,) \n",
      "Shape of X_test_0to4: (5139, 28, 28, 1) \n",
      "Shape of y_test_0to4: (5139,)\n"
     ]
    }
   ],
   "source": [
    "print(\"Shape of X_train_0to4:\", X_train_0to4.shape, \"\\nShape of y_train_0to4:\", y_train_0to4.shape,\n",
    "      \"\\nShape of X_test_0to4:\", X_test_0to4.shape, \"\\nShape of y_test_0to4:\", y_test_0to4.shape)"
   ]
  },
  {
   "cell_type": "code",
   "execution_count": 12,
   "metadata": {
    "colab": {
     "base_uri": "https://localhost:8080/",
     "height": 50
    },
    "colab_type": "code",
    "executionInfo": {
     "elapsed": 4975,
     "status": "ok",
     "timestamp": 1578845138128,
     "user": {
      "displayName": "Rashi Khanna",
      "photoUrl": "https://lh3.googleusercontent.com/a-/AAuE7mDE9tqaJApZNwf0diKaprgyfGdCDJP_OzMjAg8KosA=s64",
      "userId": "05836433031738441465"
     },
     "user_tz": -330
    },
    "id": "uEJBInhLfe5T",
    "outputId": "6cc9f8f8-a475-483c-e0d0-43bb4b830a7b"
   },
   "outputs": [
    {
     "name": "stdout",
     "output_type": "stream",
     "text": [
      "Number of images in X_train_0to4 are  30596 \n",
      "Number of images in X_test_0to4 are  5139\n"
     ]
    }
   ],
   "source": [
    "print(\"Number of images in X_train_0to4 are \", X_train_0to4.shape[0],\n",
    "      \"\\nNumber of images in X_test_0to4 are \", X_test_0to4.shape[0])"
   ]
  },
  {
   "cell_type": "markdown",
   "metadata": {
    "colab_type": "text",
    "id": "9oFjomSh5sXu"
   },
   "source": [
    "## Question 5"
   ]
  },
  {
   "cell_type": "markdown",
   "metadata": {
    "colab_type": "text",
    "id": "2lEFQQNk5sXu"
   },
   "source": [
    "### One-hot encode the class vector\n",
    "- encode labels of first dataset\n",
    "- convert class vectors (integers) to binary class matrix\n",
    "- convert y_train and y_test\n",
    "- number of classes: 5\n",
    "- we are doing this to use categorical_crossentropy as loss\n",
    "\n",
    "Hint: you can use keras.utils.to_categorical"
   ]
  },
  {
   "cell_type": "code",
   "execution_count": 0,
   "metadata": {
    "colab": {},
    "colab_type": "code",
    "id": "aejx3Zb35sXv"
   },
   "outputs": [],
   "source": [
    "# Converting the target column to 5 categorical classes\n",
    "\n",
    "y_train_0to4 =  tensorflow.keras.utils.to_categorical(y_train_0to4, num_classes = 5)\n",
    "y_test_0to4 =  tensorflow.keras.utils.to_categorical(y_test_0to4, num_classes = 5)"
   ]
  },
  {
   "cell_type": "markdown",
   "metadata": {
    "colab_type": "text",
    "id": "PlkiipRA5sXw"
   },
   "source": [
    "## Question 6\n",
    "We will build our model by using high level Keras."
   ]
  },
  {
   "cell_type": "markdown",
   "metadata": {
    "colab_type": "text",
    "id": "KzYMC_xm5sXx"
   },
   "source": [
    "### Initialize a sequential model\n",
    "- define a sequential model\n",
    "- add 2 convolutional layers\n",
    "    - no of filters: 32\n",
    "    - kernel size: 3x3\n",
    "    - activation: \"relu\"\n",
    "    - input shape: (28, 28, 1) for first layer\n",
    "- add a max pooling layer of size 2x2\n",
    "- add a dropout layer\n",
    "    - dropout layers fight with the overfitting by disregarding some of the neurons while training\n",
    "    - use dropout rate 0.2"
   ]
  },
  {
   "cell_type": "code",
   "execution_count": 0,
   "metadata": {
    "colab": {},
    "colab_type": "code",
    "id": "mDr-HKl-5sXx"
   },
   "outputs": [],
   "source": [
    "# Clear out tensorflow memory\n",
    "tensorflow.keras.backend.clear_session()\n",
    "\n",
    "# Define Model\n",
    "model = tensorflow.keras.models.Sequential()\n",
    "\n",
    "# 1st Conv Layer\n",
    "model.add(tensorflow.keras.layers.Conv2D(32, (3,3), activation='relu', input_shape=(28, 28, 1)))\n",
    "\n",
    "# Max Pooling layer\n",
    "model.add(tensorflow.keras.layers.MaxPooling2D(pool_size = (2,2)))\n",
    "\n",
    "# 2nd Conv Layer\n",
    "model.add(tensorflow.keras.layers.Conv2D(64, (3,3), activation='relu'))\n",
    "\n",
    "# Max Pooling layer\n",
    "model.add(tensorflow.keras.layers.MaxPooling2D(pool_size=(2, 2)))\n",
    "\n",
    "# Dropout\n",
    "model.add(tensorflow.keras.layers.Dropout(rate = 0.2))"
   ]
  },
  {
   "cell_type": "markdown",
   "metadata": {
    "colab_type": "text",
    "id": "k2RaPWiP5sXz"
   },
   "source": [
    "## Question 7"
   ]
  },
  {
   "cell_type": "markdown",
   "metadata": {
    "colab_type": "text",
    "id": "4ajGIM6t5sXz"
   },
   "source": [
    "### Add classification layers\n",
    "- do this after doing question 6\n",
    "- flatten the data\n",
    "    - add Flatten later\n",
    "    - flatten layers flatten 2D arrays to 1D array before building the fully connected layers\n",
    "- add 2 dense layers\n",
    "    - number of neurons in first layer: 128\n",
    "    - number of neurons in last layer: number of classes\n",
    "    - activation function in first layer: relu\n",
    "    - activation function in last layer: softmax\n",
    "    - we may experiment with any number of neurons for the first Dense layer; however, the final Dense layer must have neurons equal to the number of output classes\n",
    "- you can add a dropout layer in between, if necessary"
   ]
  },
  {
   "cell_type": "code",
   "execution_count": 0,
   "metadata": {
    "colab": {},
    "colab_type": "code",
    "id": "jBxWAN265sX0"
   },
   "outputs": [],
   "source": [
    "# Flattening the data\n",
    "model.add(tensorflow.keras.layers.Flatten())\n",
    "\n",
    "# 1st dense layer\n",
    "model.add(tensorflow.keras.layers.Dense(128, activation='relu'))\n",
    "\n",
    "# Dropout\n",
    "model.add(tensorflow.keras.layers.Dropout(rate = 0.3))\n",
    "\n",
    "# Output layer\n",
    "model.add(tensorflow.keras.layers.Dense(5, activation = 'softmax'))"
   ]
  },
  {
   "cell_type": "markdown",
   "metadata": {
    "colab_type": "text",
    "id": "Lhtm4d5K5sX1"
   },
   "source": [
    "## Question 8"
   ]
  },
  {
   "cell_type": "markdown",
   "metadata": {
    "colab_type": "text",
    "id": "SmXg8EaF5sX2"
   },
   "source": [
    "### Compile and fit the model\n",
    "- compile your model\n",
    "    - loss: \"categorical_crossentropy\"\n",
    "    - metrics: \"accuracy\"\n",
    "    - optimizer: \"sgd\"\n",
    "- fit your model\n",
    "    - give train data - features and labels\n",
    "    - batch size: 128\n",
    "    - epochs: 10\n",
    "    - give validation data - features and labels"
   ]
  },
  {
   "cell_type": "code",
   "execution_count": 16,
   "metadata": {
    "colab": {
     "base_uri": "https://localhost:8080/",
     "height": 370
    },
    "colab_type": "code",
    "executionInfo": {
     "elapsed": 20864,
     "status": "ok",
     "timestamp": 1578845154089,
     "user": {
      "displayName": "Rashi Khanna",
      "photoUrl": "https://lh3.googleusercontent.com/a-/AAuE7mDE9tqaJApZNwf0diKaprgyfGdCDJP_OzMjAg8KosA=s64",
      "userId": "05836433031738441465"
     },
     "user_tz": -330
    },
    "id": "cgclxC8s5sX4",
    "outputId": "a6d3ae38-9254-47cc-e1bd-763cfcaf8861"
   },
   "outputs": [
    {
     "name": "stdout",
     "output_type": "stream",
     "text": [
      "Train on 30596 samples, validate on 5139 samples\n",
      "Epoch 1/10\n",
      "30596/30596 [==============================] - 4s 129us/sample - loss: 0.9255 - accuracy: 0.7119 - val_loss: 0.1995 - val_accuracy: 0.9558\n",
      "Epoch 2/10\n",
      "30596/30596 [==============================] - 1s 43us/sample - loss: 0.2483 - accuracy: 0.9228 - val_loss: 0.2656 - val_accuracy: 0.8969\n",
      "Epoch 3/10\n",
      "30596/30596 [==============================] - 1s 42us/sample - loss: 0.1858 - accuracy: 0.9417 - val_loss: 0.0962 - val_accuracy: 0.9710\n",
      "Epoch 4/10\n",
      "30596/30596 [==============================] - 1s 43us/sample - loss: 0.1557 - accuracy: 0.9513 - val_loss: 0.0752 - val_accuracy: 0.9782\n",
      "Epoch 5/10\n",
      "30596/30596 [==============================] - 1s 43us/sample - loss: 0.1367 - accuracy: 0.9573 - val_loss: 0.0667 - val_accuracy: 0.9792\n",
      "Epoch 6/10\n",
      "30596/30596 [==============================] - 1s 43us/sample - loss: 0.1230 - accuracy: 0.9609 - val_loss: 0.0601 - val_accuracy: 0.9817\n",
      "Epoch 7/10\n",
      "30596/30596 [==============================] - 1s 43us/sample - loss: 0.1134 - accuracy: 0.9653 - val_loss: 0.0527 - val_accuracy: 0.9837\n",
      "Epoch 8/10\n",
      "30596/30596 [==============================] - 1s 42us/sample - loss: 0.1059 - accuracy: 0.9668 - val_loss: 0.0627 - val_accuracy: 0.9827\n",
      "Epoch 9/10\n",
      "30596/30596 [==============================] - 1s 42us/sample - loss: 0.0964 - accuracy: 0.9689 - val_loss: 0.0443 - val_accuracy: 0.9858\n",
      "Epoch 10/10\n",
      "30596/30596 [==============================] - 1s 43us/sample - loss: 0.0903 - accuracy: 0.9714 - val_loss: 0.0427 - val_accuracy: 0.9868\n"
     ]
    }
   ],
   "source": [
    "# Loss and Optimizer\n",
    "model.compile(loss='categorical_crossentropy', optimizer='sgd', metrics=['accuracy'])\n",
    "\n",
    "# Training the model\n",
    "model_0to4 = model.fit(X_train_0to4, y_train_0to4, batch_size=128, epochs=10, validation_data=(X_test_0to4, y_test_0to4))"
   ]
  },
  {
   "cell_type": "markdown",
   "metadata": {
    "colab_type": "text",
    "id": "oSVZUu3p5sX5"
   },
   "source": [
    "## Question 9"
   ]
  },
  {
   "cell_type": "markdown",
   "metadata": {
    "colab_type": "text",
    "id": "Y5TQ3yLV5sX6"
   },
   "source": [
    "### Evaluate model\n",
    "- evaluate your model and get accuracy\n",
    "- use test features and labels"
   ]
  },
  {
   "cell_type": "code",
   "execution_count": 17,
   "metadata": {
    "colab": {
     "base_uri": "https://localhost:8080/",
     "height": 50
    },
    "colab_type": "code",
    "executionInfo": {
     "elapsed": 22919,
     "status": "ok",
     "timestamp": 1578845156178,
     "user": {
      "displayName": "Rashi Khanna",
      "photoUrl": "https://lh3.googleusercontent.com/a-/AAuE7mDE9tqaJApZNwf0diKaprgyfGdCDJP_OzMjAg8KosA=s64",
      "userId": "05836433031738441465"
     },
     "user_tz": -330
    },
    "id": "bBvuD3ba5sX7",
    "outputId": "7926d56e-de8a-403e-f2cd-d9c887eb013e"
   },
   "outputs": [
    {
     "name": "stdout",
     "output_type": "stream",
     "text": [
      "The accuracy of train data is 98.09\n",
      "The accuracy of test data is 98.68\n"
     ]
    }
   ],
   "source": [
    "from sklearn.metrics import accuracy_score\n",
    "\n",
    "y_pred1 = model.predict(X_test_0to4)\n",
    "y_pred2 = model.predict(X_train_0to4)\n",
    "\n",
    "# Finding the accuracy:\n",
    "\n",
    "accuracy2 = accuracy_score(y_train_0to4.argmax(axis=1), y_pred2.argmax(axis=1))\n",
    "print(\"The accuracy of train data is\", round(accuracy2*100, 2))\n",
    "\n",
    "accuracy1 = accuracy_score(y_test_0to4.argmax(axis=1), y_pred1.argmax(axis=1))\n",
    "print(\"The accuracy of test data is\", round(accuracy1*100, 2))"
   ]
  },
  {
   "cell_type": "markdown",
   "metadata": {
    "colab_type": "text",
    "id": "8aUzOh9m5sX-"
   },
   "source": [
    "## Question 10"
   ]
  },
  {
   "cell_type": "markdown",
   "metadata": {
    "colab_type": "text",
    "id": "srd-YYNH5sX-"
   },
   "source": [
    "## Transfer learning\n",
    "Now we will apply this model on second dataset (5-9 digits)\n",
    "\n",
    "- fix the first convolution layers so that the weights in the convolution layers dont get updated in the process of training\n",
    "- get the second dataset\n",
    "- train the last 2 dense layers\n",
    "- predict the accuracy and loss"
   ]
  },
  {
   "cell_type": "markdown",
   "metadata": {
    "colab_type": "text",
    "id": "KvhdH7D55sYA"
   },
   "source": [
    "### Make only dense layers trainable\n",
    "- set trainalble = False for all layers other than Dense layers"
   ]
  },
  {
   "cell_type": "code",
   "execution_count": 0,
   "metadata": {
    "colab": {},
    "colab_type": "code",
    "id": "brN7VZHFaEJ4"
   },
   "outputs": [],
   "source": [
    "# Freezing layers in the model which don't have 'dense' in their name\n",
    "\n",
    "for layer in model.layers:\n",
    "  if('dense' not in layer.name): # Prefix detection to freeze layers which does not have dense\n",
    "    #Freezing a layer\n",
    "    layer.trainable = False"
   ]
  },
  {
   "cell_type": "markdown",
   "metadata": {
    "colab_type": "text",
    "id": "FYR9VGzO5sYE"
   },
   "source": [
    "### Modify data\n",
    "- in your second data, class labels will start from 5 to 9 but for keras.utils.to_categorical the labels should start from 0\n",
    "- so you need to subtract 5 from train and test labels"
   ]
  },
  {
   "cell_type": "code",
   "execution_count": 0,
   "metadata": {
    "colab": {},
    "colab_type": "code",
    "id": "lC5W75L35sYF"
   },
   "outputs": [],
   "source": [
    "# Modifying the second dataset\n",
    "\n",
    "y_train_5to9 = y_train_5to9 - 5\n",
    "y_test_5to9 = y_test_5to9 - 5"
   ]
  },
  {
   "cell_type": "markdown",
   "metadata": {
    "colab_type": "text",
    "id": "YGY3OTBt5sYG"
   },
   "source": [
    "### Reshape data\n",
    "- reshape second dataset\n",
    "- To be able to use the dataset in Keras, we need 4-dims numpy arrays. \n",
    "- reshape features to pass it to a Conv2D layer\n",
    "- channel = 1\n",
    "- reshape features of first dataset only\n",
    "- do not reshape labels"
   ]
  },
  {
   "cell_type": "code",
   "execution_count": 0,
   "metadata": {
    "colab": {},
    "colab_type": "code",
    "id": "0V7RUlRD5sYH"
   },
   "outputs": [],
   "source": [
    "# Reshaping the second dataset\n",
    "\n",
    "X_train_5to9 = X_train_5to9.reshape(len(X_train_5to9), 28, 28, 1)\n",
    "X_test_5to9 = X_test_5to9.reshape(len(X_test_5to9), 28, 28, 1)"
   ]
  },
  {
   "cell_type": "markdown",
   "metadata": {
    "colab_type": "text",
    "id": "c7omqMQH5sYJ"
   },
   "source": [
    "### Normalize data\n",
    "- normalize second data\n",
    "- we must normalize our data as it is always required in neural network models\n",
    "- we can achieve this by dividing the RGB codes to 255 (which is the maximum RGB code minus the minimum RGB code)\n",
    "- normalize X_train and X_test\n",
    "- make sure that the values are float so that we can get decimal points after division"
   ]
  },
  {
   "cell_type": "code",
   "execution_count": 0,
   "metadata": {
    "colab": {},
    "colab_type": "code",
    "id": "PEFYNHRp5sYJ"
   },
   "outputs": [],
   "source": [
    "# Normalizing the second dataset\n",
    "\n",
    "X_train_5to9 = X_train_5to9 / 255\n",
    "X_test_5to9 = X_test_5to9 / 255"
   ]
  },
  {
   "cell_type": "markdown",
   "metadata": {
    "colab_type": "text",
    "id": "0OfdlF655sYM"
   },
   "source": [
    "### Print shape of data and number of images\n",
    "- print shape of X_train\n",
    "- print number of images in X_train\n",
    "- print number of images in X_test"
   ]
  },
  {
   "cell_type": "code",
   "execution_count": 22,
   "metadata": {
    "colab": {
     "base_uri": "https://localhost:8080/",
     "height": 84
    },
    "colab_type": "code",
    "executionInfo": {
     "elapsed": 22839,
     "status": "ok",
     "timestamp": 1578845156184,
     "user": {
      "displayName": "Rashi Khanna",
      "photoUrl": "https://lh3.googleusercontent.com/a-/AAuE7mDE9tqaJApZNwf0diKaprgyfGdCDJP_OzMjAg8KosA=s64",
      "userId": "05836433031738441465"
     },
     "user_tz": -330
    },
    "id": "bZEkCQ-P5sYO",
    "outputId": "c7743be0-6648-449e-f948-9b1ee22be00e"
   },
   "outputs": [
    {
     "name": "stdout",
     "output_type": "stream",
     "text": [
      "Shape of X_train_5to9: (29404, 28, 28, 1) \n",
      "Shape of y_train_5to9: (29404,) \n",
      "Shape of X_test_5to9: (4861, 28, 28, 1) \n",
      "Shape of y_test_5to9: (4861,)\n"
     ]
    }
   ],
   "source": [
    "print(\"Shape of X_train_5to9:\", X_train_5to9.shape, \"\\nShape of y_train_5to9:\", y_train_5to9.shape,\n",
    "      \"\\nShape of X_test_5to9:\", X_test_5to9.shape, \"\\nShape of y_test_5to9:\", y_test_5to9.shape)"
   ]
  },
  {
   "cell_type": "code",
   "execution_count": 23,
   "metadata": {
    "colab": {
     "base_uri": "https://localhost:8080/",
     "height": 50
    },
    "colab_type": "code",
    "executionInfo": {
     "elapsed": 22795,
     "status": "ok",
     "timestamp": 1578845156185,
     "user": {
      "displayName": "Rashi Khanna",
      "photoUrl": "https://lh3.googleusercontent.com/a-/AAuE7mDE9tqaJApZNwf0diKaprgyfGdCDJP_OzMjAg8KosA=s64",
      "userId": "05836433031738441465"
     },
     "user_tz": -330
    },
    "id": "xw9GrxnzKaFE",
    "outputId": "97092498-91c9-4841-a3b4-d9827ab970f4"
   },
   "outputs": [
    {
     "name": "stdout",
     "output_type": "stream",
     "text": [
      "Number of images in X_train_5to9 are  29404 \n",
      "Number of images in X_test_5to9 are  4861\n"
     ]
    }
   ],
   "source": [
    "print(\"Number of images in X_train_5to9 are \", X_train_5to9.shape[0],\n",
    "      \"\\nNumber of images in X_test_5to9 are \", X_test_5to9.shape[0])"
   ]
  },
  {
   "cell_type": "markdown",
   "metadata": {
    "colab_type": "text",
    "id": "c_3-0Qwo5sYQ"
   },
   "source": [
    "### One-hot encode the class vector\n",
    "- convert class vectors (integers) to binary class matrix\n",
    "- convert y_train and y_test\n",
    "- number of classes: 5\n",
    "- we are doing this to use categorical_crossentropy as loss\n",
    "\n",
    "Hint: you can use keras.utils.to_categorical"
   ]
  },
  {
   "cell_type": "code",
   "execution_count": 0,
   "metadata": {
    "colab": {},
    "colab_type": "code",
    "id": "k46Me5Re5sYR"
   },
   "outputs": [],
   "source": [
    "# Converting the target column to 5 categorical classes\n",
    "\n",
    "y_train_5to9 =  tensorflow.keras.utils.to_categorical(y_train_5to9, num_classes = 5)\n",
    "y_test_5to9 =  tensorflow.keras.utils.to_categorical(y_test_5to9, num_classes = 5)"
   ]
  },
  {
   "cell_type": "markdown",
   "metadata": {
    "colab_type": "text",
    "id": "D9xEoW515sYS"
   },
   "source": [
    "### Fit the model\n",
    "- give train data - features and labels\n",
    "- batch size: 128\n",
    "- epochs: 10\n",
    "- give validation data - features and labels"
   ]
  },
  {
   "cell_type": "code",
   "execution_count": 25,
   "metadata": {
    "colab": {
     "base_uri": "https://localhost:8080/",
     "height": 370
    },
    "colab_type": "code",
    "executionInfo": {
     "elapsed": 35617,
     "status": "ok",
     "timestamp": 1578845169050,
     "user": {
      "displayName": "Rashi Khanna",
      "photoUrl": "https://lh3.googleusercontent.com/a-/AAuE7mDE9tqaJApZNwf0diKaprgyfGdCDJP_OzMjAg8KosA=s64",
      "userId": "05836433031738441465"
     },
     "user_tz": -330
    },
    "id": "B6f-XAc-5sYT",
    "outputId": "df004c19-b366-4425-8831-da539bc473da"
   },
   "outputs": [
    {
     "name": "stdout",
     "output_type": "stream",
     "text": [
      "Train on 29404 samples, validate on 4861 samples\n",
      "Epoch 1/10\n",
      "29404/29404 [==============================] - 1s 48us/sample - loss: 0.6341 - accuracy: 0.7874 - val_loss: 0.2427 - val_accuracy: 0.9280\n",
      "Epoch 2/10\n",
      "29404/29404 [==============================] - 1s 43us/sample - loss: 0.2847 - accuracy: 0.9089 - val_loss: 0.1589 - val_accuracy: 0.9475\n",
      "Epoch 3/10\n",
      "29404/29404 [==============================] - 1s 42us/sample - loss: 0.2066 - accuracy: 0.9344 - val_loss: 0.1272 - val_accuracy: 0.9574\n",
      "Epoch 4/10\n",
      "29404/29404 [==============================] - 1s 43us/sample - loss: 0.1784 - accuracy: 0.9419 - val_loss: 0.1066 - val_accuracy: 0.9638\n",
      "Epoch 5/10\n",
      "29404/29404 [==============================] - 1s 42us/sample - loss: 0.1548 - accuracy: 0.9520 - val_loss: 0.0901 - val_accuracy: 0.9696\n",
      "Epoch 6/10\n",
      "29404/29404 [==============================] - 1s 43us/sample - loss: 0.1394 - accuracy: 0.9548 - val_loss: 0.0814 - val_accuracy: 0.9724\n",
      "Epoch 7/10\n",
      "29404/29404 [==============================] - 1s 44us/sample - loss: 0.1251 - accuracy: 0.9604 - val_loss: 0.0736 - val_accuracy: 0.9749\n",
      "Epoch 8/10\n",
      "29404/29404 [==============================] - 1s 42us/sample - loss: 0.1197 - accuracy: 0.9621 - val_loss: 0.0679 - val_accuracy: 0.9776\n",
      "Epoch 9/10\n",
      "29404/29404 [==============================] - 1s 43us/sample - loss: 0.1110 - accuracy: 0.9636 - val_loss: 0.0634 - val_accuracy: 0.9796\n",
      "Epoch 10/10\n",
      "29404/29404 [==============================] - 1s 43us/sample - loss: 0.1049 - accuracy: 0.9666 - val_loss: 0.0617 - val_accuracy: 0.9807\n"
     ]
    }
   ],
   "source": [
    "# Training the model\n",
    "\n",
    "model_5to9 = model.fit(X_train_5to9, y_train_5to9, batch_size=128, epochs=10, validation_data=(X_test_5to9, y_test_5to9))"
   ]
  },
  {
   "cell_type": "markdown",
   "metadata": {
    "colab_type": "text",
    "id": "85ginrII5sYV"
   },
   "source": [
    "### Evaluate model\n",
    "- evaluate your model and get accuracy\n",
    "- use test features and labels"
   ]
  },
  {
   "cell_type": "code",
   "execution_count": 26,
   "metadata": {
    "colab": {
     "base_uri": "https://localhost:8080/",
     "height": 50
    },
    "colab_type": "code",
    "executionInfo": {
     "elapsed": 37226,
     "status": "ok",
     "timestamp": 1578845170692,
     "user": {
      "displayName": "Rashi Khanna",
      "photoUrl": "https://lh3.googleusercontent.com/a-/AAuE7mDE9tqaJApZNwf0diKaprgyfGdCDJP_OzMjAg8KosA=s64",
      "userId": "05836433031738441465"
     },
     "user_tz": -330
    },
    "id": "2vd6ANnQ2l3J",
    "outputId": "796f1e69-fddf-4f8d-80cc-3dc02f24347f"
   },
   "outputs": [
    {
     "name": "stdout",
     "output_type": "stream",
     "text": [
      "The accuracy of train data is 97.91\n",
      "The accuracy of test data is 98.07\n"
     ]
    }
   ],
   "source": [
    "y_pred3 = model.predict(X_test_5to9)\n",
    "y_pred4 = model.predict(X_train_5to9)\n",
    "\n",
    "# Finding the accuracy:\n",
    "\n",
    "accuracy2 = accuracy_score(y_train_5to9.argmax(axis=1), y_pred4.argmax(axis=1))\n",
    "print(\"The accuracy of train data is\", round(accuracy2*100, 2))\n",
    "\n",
    "accuracy1 = accuracy_score(y_test_5to9.argmax(axis=1), y_pred3.argmax(axis=1))\n",
    "print(\"The accuracy of test data is\", round(accuracy1*100, 2))"
   ]
  },
  {
   "cell_type": "markdown",
   "metadata": {
    "colab_type": "text",
    "id": "dTNhSDqn5sYY"
   },
   "source": [
    "-----------------------------------------------------------------------------"
   ]
  },
  {
   "cell_type": "markdown",
   "metadata": {
    "colab_type": "text",
    "id": "FU-HwvIdH0M-"
   },
   "source": [
    "# Sentiment analysis \n",
    "\n",
    "The objective of the second problem is to perform Sentiment analysis from the tweets collected from the users targeted at various mobile devices.\n",
    "Based on the tweet posted by a user (text), we will classify if the sentiment of the user targeted at a particular mobile device is positive or not."
   ]
  },
  {
   "cell_type": "markdown",
   "metadata": {
    "colab_type": "text",
    "id": "aIWWfNks5sYa"
   },
   "source": [
    "## Question 1"
   ]
  },
  {
   "cell_type": "markdown",
   "metadata": {
    "colab_type": "text",
    "id": "nAQDiZHRH0M_"
   },
   "source": [
    "### Read the data\n",
    "- read tweets.csv\n",
    "- use latin encoding if it gives encoding error while loading"
   ]
  },
  {
   "cell_type": "code",
   "execution_count": 27,
   "metadata": {
    "colab": {
     "base_uri": "https://localhost:8080/",
     "height": 34
    },
    "colab_type": "code",
    "executionInfo": {
     "elapsed": 37202,
     "status": "ok",
     "timestamp": 1578845170693,
     "user": {
      "displayName": "Rashi Khanna",
      "photoUrl": "https://lh3.googleusercontent.com/a-/AAuE7mDE9tqaJApZNwf0diKaprgyfGdCDJP_OzMjAg8KosA=s64",
      "userId": "05836433031738441465"
     },
     "user_tz": -330
    },
    "id": "lKK6LSdywjPX",
    "outputId": "cab6df10-e7cd-4a70-db15-cc5b97d5722b"
   },
   "outputs": [
    {
     "name": "stdout",
     "output_type": "stream",
     "text": [
      "Drive already mounted at /content/gdrive; to attempt to forcibly remount, call drive.mount(\"/content/gdrive\", force_remount=True).\n"
     ]
    }
   ],
   "source": [
    "# Mounting the google drive\n",
    "\n",
    "from google.colab import drive\n",
    "drive.mount('/content/gdrive')"
   ]
  },
  {
   "cell_type": "code",
   "execution_count": 28,
   "metadata": {
    "colab": {
     "base_uri": "https://localhost:8080/",
     "height": 34
    },
    "colab_type": "code",
    "executionInfo": {
     "elapsed": 37171,
     "status": "ok",
     "timestamp": 1578845170694,
     "user": {
      "displayName": "Rashi Khanna",
      "photoUrl": "https://lh3.googleusercontent.com/a-/AAuE7mDE9tqaJApZNwf0diKaprgyfGdCDJP_OzMjAg8KosA=s64",
      "userId": "05836433031738441465"
     },
     "user_tz": -330
    },
    "id": "3eXGIe-SH0NA",
    "outputId": "4dc0951a-9677-4d86-cc7d-077727a69152"
   },
   "outputs": [
    {
     "data": {
      "text/plain": [
       "(9093, 3)"
      ]
     },
     "execution_count": 28,
     "metadata": {
      "tags": []
     },
     "output_type": "execute_result"
    }
   ],
   "source": [
    "tweets_df = pd.read_csv('/content/gdrive/My Drive/Colab Notebooks/tweets.csv', encoding = 'latin')\n",
    "tweets_df.shape"
   ]
  },
  {
   "cell_type": "markdown",
   "metadata": {
    "colab_type": "text",
    "id": "39pqw0aE5sYe"
   },
   "source": [
    "### Drop null values\n",
    "- drop all the rows with null values"
   ]
  },
  {
   "cell_type": "code",
   "execution_count": 29,
   "metadata": {
    "colab": {
     "base_uri": "https://localhost:8080/",
     "height": 84
    },
    "colab_type": "code",
    "executionInfo": {
     "elapsed": 37140,
     "status": "ok",
     "timestamp": 1578845170695,
     "user": {
      "displayName": "Rashi Khanna",
      "photoUrl": "https://lh3.googleusercontent.com/a-/AAuE7mDE9tqaJApZNwf0diKaprgyfGdCDJP_OzMjAg8KosA=s64",
      "userId": "05836433031738441465"
     },
     "user_tz": -330
    },
    "id": "BF_69oyI5sYf",
    "outputId": "144e7da1-1c6e-4c81-942b-c10f82f3c16d"
   },
   "outputs": [
    {
     "data": {
      "text/plain": [
       "tweet_text                                             True\n",
       "emotion_in_tweet_is_directed_at                        True\n",
       "is_there_an_emotion_directed_at_a_brand_or_product    False\n",
       "dtype: bool"
      ]
     },
     "execution_count": 29,
     "metadata": {
      "tags": []
     },
     "output_type": "execute_result"
    }
   ],
   "source": [
    "# Checking if there are any null values\n",
    "tweets_df.isnull().any()"
   ]
  },
  {
   "cell_type": "code",
   "execution_count": 30,
   "metadata": {
    "colab": {
     "base_uri": "https://localhost:8080/",
     "height": 34
    },
    "colab_type": "code",
    "executionInfo": {
     "elapsed": 37108,
     "status": "ok",
     "timestamp": 1578845170696,
     "user": {
      "displayName": "Rashi Khanna",
      "photoUrl": "https://lh3.googleusercontent.com/a-/AAuE7mDE9tqaJApZNwf0diKaprgyfGdCDJP_OzMjAg8KosA=s64",
      "userId": "05836433031738441465"
     },
     "user_tz": -330
    },
    "id": "mAsvxWaqzbDo",
    "outputId": "ccfa718f-5d3e-4cc8-ef33-80d85b4a9055"
   },
   "outputs": [
    {
     "data": {
      "text/plain": [
       "(3291, 3)"
      ]
     },
     "execution_count": 30,
     "metadata": {
      "tags": []
     },
     "output_type": "execute_result"
    }
   ],
   "source": [
    "# Dropping null values\n",
    "tweets_df = tweets_df.dropna()\n",
    "\n",
    "# Shape after dropping null values\n",
    "tweets_df.shape"
   ]
  },
  {
   "cell_type": "markdown",
   "metadata": {
    "colab_type": "text",
    "id": "0bm4bDiy5sYg"
   },
   "source": [
    "### Print the dataframe\n",
    "- print initial 5 rows of the data\n",
    "- use df.head()"
   ]
  },
  {
   "cell_type": "code",
   "execution_count": 31,
   "metadata": {
    "colab": {
     "base_uri": "https://localhost:8080/",
     "height": 195
    },
    "colab_type": "code",
    "executionInfo": {
     "elapsed": 37085,
     "status": "ok",
     "timestamp": 1578845170697,
     "user": {
      "displayName": "Rashi Khanna",
      "photoUrl": "https://lh3.googleusercontent.com/a-/AAuE7mDE9tqaJApZNwf0diKaprgyfGdCDJP_OzMjAg8KosA=s64",
      "userId": "05836433031738441465"
     },
     "user_tz": -330
    },
    "id": "ceSlvAVa5sYh",
    "outputId": "57cf4e0e-a1fa-47d8-9a18-fa0e6105dbd8",
    "scrolled": true
   },
   "outputs": [
    {
     "data": {
      "text/html": [
       "<div>\n",
       "<style scoped>\n",
       "    .dataframe tbody tr th:only-of-type {\n",
       "        vertical-align: middle;\n",
       "    }\n",
       "\n",
       "    .dataframe tbody tr th {\n",
       "        vertical-align: top;\n",
       "    }\n",
       "\n",
       "    .dataframe thead th {\n",
       "        text-align: right;\n",
       "    }\n",
       "</style>\n",
       "<table border=\"1\" class=\"dataframe\">\n",
       "  <thead>\n",
       "    <tr style=\"text-align: right;\">\n",
       "      <th></th>\n",
       "      <th>tweet_text</th>\n",
       "      <th>emotion_in_tweet_is_directed_at</th>\n",
       "      <th>is_there_an_emotion_directed_at_a_brand_or_product</th>\n",
       "    </tr>\n",
       "  </thead>\n",
       "  <tbody>\n",
       "    <tr>\n",
       "      <th>0</th>\n",
       "      <td>.@wesley83 I have a 3G iPhone. After 3 hrs twe...</td>\n",
       "      <td>iPhone</td>\n",
       "      <td>Negative emotion</td>\n",
       "    </tr>\n",
       "    <tr>\n",
       "      <th>1</th>\n",
       "      <td>@jessedee Know about @fludapp ? Awesome iPad/i...</td>\n",
       "      <td>iPad or iPhone App</td>\n",
       "      <td>Positive emotion</td>\n",
       "    </tr>\n",
       "    <tr>\n",
       "      <th>2</th>\n",
       "      <td>@swonderlin Can not wait for #iPad 2 also. The...</td>\n",
       "      <td>iPad</td>\n",
       "      <td>Positive emotion</td>\n",
       "    </tr>\n",
       "    <tr>\n",
       "      <th>3</th>\n",
       "      <td>@sxsw I hope this year's festival isn't as cra...</td>\n",
       "      <td>iPad or iPhone App</td>\n",
       "      <td>Negative emotion</td>\n",
       "    </tr>\n",
       "    <tr>\n",
       "      <th>4</th>\n",
       "      <td>@sxtxstate great stuff on Fri #SXSW: Marissa M...</td>\n",
       "      <td>Google</td>\n",
       "      <td>Positive emotion</td>\n",
       "    </tr>\n",
       "  </tbody>\n",
       "</table>\n",
       "</div>"
      ],
      "text/plain": [
       "                                          tweet_text  ... is_there_an_emotion_directed_at_a_brand_or_product\n",
       "0  .@wesley83 I have a 3G iPhone. After 3 hrs twe...  ...                                   Negative emotion\n",
       "1  @jessedee Know about @fludapp ? Awesome iPad/i...  ...                                   Positive emotion\n",
       "2  @swonderlin Can not wait for #iPad 2 also. The...  ...                                   Positive emotion\n",
       "3  @sxsw I hope this year's festival isn't as cra...  ...                                   Negative emotion\n",
       "4  @sxtxstate great stuff on Fri #SXSW: Marissa M...  ...                                   Positive emotion\n",
       "\n",
       "[5 rows x 3 columns]"
      ]
     },
     "execution_count": 31,
     "metadata": {
      "tags": []
     },
     "output_type": "execute_result"
    }
   ],
   "source": [
    "# First 5 rows of 'tweets' dataset \n",
    "tweets_df.head()"
   ]
  },
  {
   "cell_type": "markdown",
   "metadata": {
    "colab_type": "text",
    "id": "jcWfPVqG5sYi"
   },
   "source": [
    "## Question 2"
   ]
  },
  {
   "cell_type": "markdown",
   "metadata": {
    "colab_type": "text",
    "id": "JBbAeip_5sYj"
   },
   "source": [
    "### Preprocess data\n",
    "- convert all text to lowercase - use .lower()\n",
    "- select only numbers, alphabets, and #+_ from text - use re.sub()\n",
    "- strip all the text - use .strip()\n",
    "    - this is for removing extra spaces"
   ]
  },
  {
   "cell_type": "code",
   "execution_count": 0,
   "metadata": {
    "colab": {},
    "colab_type": "code",
    "id": "PE4Bn_YT5sYj"
   },
   "outputs": [],
   "source": [
    "# Importing regular expression package\n",
    "import re as re\n",
    "\n",
    "# Preprocessing the data\n",
    "tweets_df = tweets_df.applymap(lambda s: s.lower())\n",
    "tweets_df = tweets_df.applymap(lambda s: re.sub('[^0-9a-z #+_]', \" \", s))\n",
    "tweets_df = tweets_df.applymap(lambda s: s.strip())"
   ]
  },
  {
   "cell_type": "markdown",
   "metadata": {
    "colab_type": "text",
    "id": "QlMvbtrK5sYl"
   },
   "source": [
    "print dataframe"
   ]
  },
  {
   "cell_type": "code",
   "execution_count": 33,
   "metadata": {
    "colab": {
     "base_uri": "https://localhost:8080/",
     "height": 402
    },
    "colab_type": "code",
    "executionInfo": {
     "elapsed": 37053,
     "status": "ok",
     "timestamp": 1578845170701,
     "user": {
      "displayName": "Rashi Khanna",
      "photoUrl": "https://lh3.googleusercontent.com/a-/AAuE7mDE9tqaJApZNwf0diKaprgyfGdCDJP_OzMjAg8KosA=s64",
      "userId": "05836433031738441465"
     },
     "user_tz": -330
    },
    "id": "afocjaUn5sYm",
    "outputId": "ede4911d-9c35-4496-ceee-86cdcf496a5f"
   },
   "outputs": [
    {
     "data": {
      "text/html": [
       "<div>\n",
       "<style scoped>\n",
       "    .dataframe tbody tr th:only-of-type {\n",
       "        vertical-align: middle;\n",
       "    }\n",
       "\n",
       "    .dataframe tbody tr th {\n",
       "        vertical-align: top;\n",
       "    }\n",
       "\n",
       "    .dataframe thead th {\n",
       "        text-align: right;\n",
       "    }\n",
       "</style>\n",
       "<table border=\"1\" class=\"dataframe\">\n",
       "  <thead>\n",
       "    <tr style=\"text-align: right;\">\n",
       "      <th></th>\n",
       "      <th>tweet_text</th>\n",
       "      <th>emotion_in_tweet_is_directed_at</th>\n",
       "      <th>is_there_an_emotion_directed_at_a_brand_or_product</th>\n",
       "    </tr>\n",
       "  </thead>\n",
       "  <tbody>\n",
       "    <tr>\n",
       "      <th>0</th>\n",
       "      <td>wesley83 i have a 3g iphone  after 3 hrs tweet...</td>\n",
       "      <td>iphone</td>\n",
       "      <td>negative emotion</td>\n",
       "    </tr>\n",
       "    <tr>\n",
       "      <th>1</th>\n",
       "      <td>jessedee know about  fludapp   awesome ipad ip...</td>\n",
       "      <td>ipad or iphone app</td>\n",
       "      <td>positive emotion</td>\n",
       "    </tr>\n",
       "    <tr>\n",
       "      <th>2</th>\n",
       "      <td>swonderlin can not wait for #ipad 2 also  they...</td>\n",
       "      <td>ipad</td>\n",
       "      <td>positive emotion</td>\n",
       "    </tr>\n",
       "    <tr>\n",
       "      <th>3</th>\n",
       "      <td>sxsw i hope this year s festival isn t as cras...</td>\n",
       "      <td>ipad or iphone app</td>\n",
       "      <td>negative emotion</td>\n",
       "    </tr>\n",
       "    <tr>\n",
       "      <th>4</th>\n",
       "      <td>sxtxstate great stuff on fri #sxsw  marissa ma...</td>\n",
       "      <td>google</td>\n",
       "      <td>positive emotion</td>\n",
       "    </tr>\n",
       "    <tr>\n",
       "      <th>...</th>\n",
       "      <td>...</td>\n",
       "      <td>...</td>\n",
       "      <td>...</td>\n",
       "    </tr>\n",
       "    <tr>\n",
       "      <th>9077</th>\n",
       "      <td>mention your pr guy just convinced me to switc...</td>\n",
       "      <td>iphone</td>\n",
       "      <td>positive emotion</td>\n",
       "    </tr>\n",
       "    <tr>\n",
       "      <th>9079</th>\n",
       "      <td>quot papyrus   sort of like the ipad quot    n...</td>\n",
       "      <td>ipad</td>\n",
       "      <td>positive emotion</td>\n",
       "    </tr>\n",
       "    <tr>\n",
       "      <th>9080</th>\n",
       "      <td>diller says google tv  quot might be run over ...</td>\n",
       "      <td>other google product or service</td>\n",
       "      <td>negative emotion</td>\n",
       "    </tr>\n",
       "    <tr>\n",
       "      <th>9085</th>\n",
       "      <td>i ve always used camera+ for my iphone b c it ...</td>\n",
       "      <td>ipad or iphone app</td>\n",
       "      <td>positive emotion</td>\n",
       "    </tr>\n",
       "    <tr>\n",
       "      <th>9088</th>\n",
       "      <td>ipad everywhere  #sxsw  link</td>\n",
       "      <td>ipad</td>\n",
       "      <td>positive emotion</td>\n",
       "    </tr>\n",
       "  </tbody>\n",
       "</table>\n",
       "<p>3291 rows × 3 columns</p>\n",
       "</div>"
      ],
      "text/plain": [
       "                                             tweet_text  ... is_there_an_emotion_directed_at_a_brand_or_product\n",
       "0     wesley83 i have a 3g iphone  after 3 hrs tweet...  ...                                   negative emotion\n",
       "1     jessedee know about  fludapp   awesome ipad ip...  ...                                   positive emotion\n",
       "2     swonderlin can not wait for #ipad 2 also  they...  ...                                   positive emotion\n",
       "3     sxsw i hope this year s festival isn t as cras...  ...                                   negative emotion\n",
       "4     sxtxstate great stuff on fri #sxsw  marissa ma...  ...                                   positive emotion\n",
       "...                                                 ...  ...                                                ...\n",
       "9077  mention your pr guy just convinced me to switc...  ...                                   positive emotion\n",
       "9079  quot papyrus   sort of like the ipad quot    n...  ...                                   positive emotion\n",
       "9080  diller says google tv  quot might be run over ...  ...                                   negative emotion\n",
       "9085  i ve always used camera+ for my iphone b c it ...  ...                                   positive emotion\n",
       "9088                       ipad everywhere  #sxsw  link  ...                                   positive emotion\n",
       "\n",
       "[3291 rows x 3 columns]"
      ]
     },
     "execution_count": 33,
     "metadata": {
      "tags": []
     },
     "output_type": "execute_result"
    }
   ],
   "source": [
    "tweets_df"
   ]
  },
  {
   "cell_type": "markdown",
   "metadata": {
    "colab_type": "text",
    "id": "bcTUnvtg5sYn"
   },
   "source": [
    "## Question 3"
   ]
  },
  {
   "cell_type": "markdown",
   "metadata": {
    "colab_type": "text",
    "id": "4gnaeSXZ5sYo"
   },
   "source": [
    "### Preprocess data\n",
    "- in column \"is_there_an_emotion_directed_at_a_brand_or_product\"\n",
    "    - select only those rows where value equal to \"positive emotion\" or \"negative emotion\"\n",
    "- find the value counts of \"positive emotion\" and \"negative emotion\""
   ]
  },
  {
   "cell_type": "code",
   "execution_count": 34,
   "metadata": {
    "colab": {
     "base_uri": "https://localhost:8080/",
     "height": 67
    },
    "colab_type": "code",
    "executionInfo": {
     "elapsed": 37027,
     "status": "ok",
     "timestamp": 1578845170702,
     "user": {
      "displayName": "Rashi Khanna",
      "photoUrl": "https://lh3.googleusercontent.com/a-/AAuE7mDE9tqaJApZNwf0diKaprgyfGdCDJP_OzMjAg8KosA=s64",
      "userId": "05836433031738441465"
     },
     "user_tz": -330
    },
    "id": "nLewJh_35sYp",
    "outputId": "af41f581-6e86-44eb-9d00-774a887143ca"
   },
   "outputs": [
    {
     "data": {
      "text/plain": [
       "Index(['tweet_text', 'emotion_in_tweet_is_directed_at',\n",
       "       'is_there_an_emotion_directed_at_a_brand_or_product'],\n",
       "      dtype='object')"
      ]
     },
     "execution_count": 34,
     "metadata": {
      "tags": []
     },
     "output_type": "execute_result"
    }
   ],
   "source": [
    "tweets_df.columns"
   ]
  },
  {
   "cell_type": "code",
   "execution_count": 35,
   "metadata": {
    "colab": {
     "base_uri": "https://localhost:8080/",
     "height": 195
    },
    "colab_type": "code",
    "executionInfo": {
     "elapsed": 37006,
     "status": "ok",
     "timestamp": 1578845170703,
     "user": {
      "displayName": "Rashi Khanna",
      "photoUrl": "https://lh3.googleusercontent.com/a-/AAuE7mDE9tqaJApZNwf0diKaprgyfGdCDJP_OzMjAg8KosA=s64",
      "userId": "05836433031738441465"
     },
     "user_tz": -330
    },
    "id": "3VFYB4eh5sYr",
    "outputId": "1fb4c63b-208f-4113-bb21-9bf1b9fd90d1"
   },
   "outputs": [
    {
     "data": {
      "text/html": [
       "<div>\n",
       "<style scoped>\n",
       "    .dataframe tbody tr th:only-of-type {\n",
       "        vertical-align: middle;\n",
       "    }\n",
       "\n",
       "    .dataframe tbody tr th {\n",
       "        vertical-align: top;\n",
       "    }\n",
       "\n",
       "    .dataframe thead th {\n",
       "        text-align: right;\n",
       "    }\n",
       "</style>\n",
       "<table border=\"1\" class=\"dataframe\">\n",
       "  <thead>\n",
       "    <tr style=\"text-align: right;\">\n",
       "      <th></th>\n",
       "      <th>tweet_text</th>\n",
       "      <th>emotion_in_tweet_is_directed_at</th>\n",
       "    </tr>\n",
       "    <tr>\n",
       "      <th>is_there_an_emotion_directed_at_a_brand_or_product</th>\n",
       "      <th></th>\n",
       "      <th></th>\n",
       "    </tr>\n",
       "  </thead>\n",
       "  <tbody>\n",
       "    <tr>\n",
       "      <th>i can t tell</th>\n",
       "      <td>9</td>\n",
       "      <td>9</td>\n",
       "    </tr>\n",
       "    <tr>\n",
       "      <th>negative emotion</th>\n",
       "      <td>519</td>\n",
       "      <td>519</td>\n",
       "    </tr>\n",
       "    <tr>\n",
       "      <th>no emotion toward brand or product</th>\n",
       "      <td>91</td>\n",
       "      <td>91</td>\n",
       "    </tr>\n",
       "    <tr>\n",
       "      <th>positive emotion</th>\n",
       "      <td>2672</td>\n",
       "      <td>2672</td>\n",
       "    </tr>\n",
       "  </tbody>\n",
       "</table>\n",
       "</div>"
      ],
      "text/plain": [
       "                                                    tweet_text  emotion_in_tweet_is_directed_at\n",
       "is_there_an_emotion_directed_at_a_brand_or_product                                             \n",
       "i can t tell                                                 9                                9\n",
       "negative emotion                                           519                              519\n",
       "no emotion toward brand or product                          91                               91\n",
       "positive emotion                                          2672                             2672"
      ]
     },
     "execution_count": 35,
     "metadata": {
      "tags": []
     },
     "output_type": "execute_result"
    }
   ],
   "source": [
    "tweets_df.groupby(\"is_there_an_emotion_directed_at_a_brand_or_product\").count()"
   ]
  },
  {
   "cell_type": "code",
   "execution_count": 36,
   "metadata": {
    "colab": {
     "base_uri": "https://localhost:8080/",
     "height": 34
    },
    "colab_type": "code",
    "executionInfo": {
     "elapsed": 36984,
     "status": "ok",
     "timestamp": 1578845170704,
     "user": {
      "displayName": "Rashi Khanna",
      "photoUrl": "https://lh3.googleusercontent.com/a-/AAuE7mDE9tqaJApZNwf0diKaprgyfGdCDJP_OzMjAg8KosA=s64",
      "userId": "05836433031738441465"
     },
     "user_tz": -330
    },
    "id": "UcwEgirLW1F7",
    "outputId": "1c10708e-af45-4f18-8117-761454a4d353"
   },
   "outputs": [
    {
     "data": {
      "text/plain": [
       "(3191, 3)"
      ]
     },
     "execution_count": 36,
     "metadata": {
      "tags": []
     },
     "output_type": "execute_result"
    }
   ],
   "source": [
    "# As the data is having mostly 'positive emotion' and 'negative emotion', we neglect the other two categories\n",
    "\n",
    "tweets_df = tweets_df[(tweets_df['is_there_an_emotion_directed_at_a_brand_or_product']=='positive emotion') |\n",
    "                      (tweets_df['is_there_an_emotion_directed_at_a_brand_or_product']=='negative emotion')]\n",
    "tweets_df.shape"
   ]
  },
  {
   "cell_type": "code",
   "execution_count": 37,
   "metadata": {
    "colab": {
     "base_uri": "https://localhost:8080/",
     "height": 136
    },
    "colab_type": "code",
    "executionInfo": {
     "elapsed": 36963,
     "status": "ok",
     "timestamp": 1578845170705,
     "user": {
      "displayName": "Rashi Khanna",
      "photoUrl": "https://lh3.googleusercontent.com/a-/AAuE7mDE9tqaJApZNwf0diKaprgyfGdCDJP_OzMjAg8KosA=s64",
      "userId": "05836433031738441465"
     },
     "user_tz": -330
    },
    "id": "K5n7w56L0pXj",
    "outputId": "cffd5b03-1d42-4e9b-bfb7-4e7cd90540a4"
   },
   "outputs": [
    {
     "data": {
      "text/html": [
       "<div>\n",
       "<style scoped>\n",
       "    .dataframe tbody tr th:only-of-type {\n",
       "        vertical-align: middle;\n",
       "    }\n",
       "\n",
       "    .dataframe tbody tr th {\n",
       "        vertical-align: top;\n",
       "    }\n",
       "\n",
       "    .dataframe thead th {\n",
       "        text-align: right;\n",
       "    }\n",
       "</style>\n",
       "<table border=\"1\" class=\"dataframe\">\n",
       "  <thead>\n",
       "    <tr style=\"text-align: right;\">\n",
       "      <th></th>\n",
       "      <th>tweet_text</th>\n",
       "      <th>emotion_in_tweet_is_directed_at</th>\n",
       "    </tr>\n",
       "    <tr>\n",
       "      <th>is_there_an_emotion_directed_at_a_brand_or_product</th>\n",
       "      <th></th>\n",
       "      <th></th>\n",
       "    </tr>\n",
       "  </thead>\n",
       "  <tbody>\n",
       "    <tr>\n",
       "      <th>negative emotion</th>\n",
       "      <td>519</td>\n",
       "      <td>519</td>\n",
       "    </tr>\n",
       "    <tr>\n",
       "      <th>positive emotion</th>\n",
       "      <td>2672</td>\n",
       "      <td>2672</td>\n",
       "    </tr>\n",
       "  </tbody>\n",
       "</table>\n",
       "</div>"
      ],
      "text/plain": [
       "                                                    tweet_text  emotion_in_tweet_is_directed_at\n",
       "is_there_an_emotion_directed_at_a_brand_or_product                                             \n",
       "negative emotion                                           519                              519\n",
       "positive emotion                                          2672                             2672"
      ]
     },
     "execution_count": 37,
     "metadata": {
      "tags": []
     },
     "output_type": "execute_result"
    }
   ],
   "source": [
    "# Finding the value counts of \"positive emotion\" and \"negative emotion\"\n",
    "\n",
    "tweets_df.groupby(\"is_there_an_emotion_directed_at_a_brand_or_product\").count()"
   ]
  },
  {
   "cell_type": "markdown",
   "metadata": {
    "colab_type": "text",
    "id": "6icGcVTE5sYz"
   },
   "source": [
    "## Question 4"
   ]
  },
  {
   "cell_type": "markdown",
   "metadata": {
    "colab_type": "text",
    "id": "Rg0rSepj5sYz"
   },
   "source": [
    "### Encode labels\n",
    "- in column \"is_there_an_emotion_directed_at_a_brand_or_product\"\n",
    "    - change \"positive emotion\" to 1\n",
    "    - change \"negative emotion\" to 0\n",
    "- use map function to replace values"
   ]
  },
  {
   "cell_type": "code",
   "execution_count": 38,
   "metadata": {
    "colab": {
     "base_uri": "https://localhost:8080/",
     "height": 34
    },
    "colab_type": "code",
    "executionInfo": {
     "elapsed": 36938,
     "status": "ok",
     "timestamp": 1578845170705,
     "user": {
      "displayName": "Rashi Khanna",
      "photoUrl": "https://lh3.googleusercontent.com/a-/AAuE7mDE9tqaJApZNwf0diKaprgyfGdCDJP_OzMjAg8KosA=s64",
      "userId": "05836433031738441465"
     },
     "user_tz": -330
    },
    "id": "YftKwFv7H0N9",
    "outputId": "d07c341f-058e-4764-c508-48df7269d851"
   },
   "outputs": [
    {
     "data": {
      "text/plain": [
       "array([0, 1])"
      ]
     },
     "execution_count": 38,
     "metadata": {
      "tags": []
     },
     "output_type": "execute_result"
    }
   ],
   "source": [
    "# Encoding labels\n",
    "\n",
    "tweets_df['is_there_an_emotion_directed_at_a_brand_or_product'] = tweets_df['is_there_an_emotion_directed_at_a_brand_or_product'].map({'negative emotion' : 0, \n",
    "                                                                                                                                       'positive emotion' : 1})\n",
    "tweets_df['is_there_an_emotion_directed_at_a_brand_or_product'].unique()"
   ]
  },
  {
   "cell_type": "code",
   "execution_count": 39,
   "metadata": {
    "colab": {
     "base_uri": "https://localhost:8080/",
     "height": 195
    },
    "colab_type": "code",
    "executionInfo": {
     "elapsed": 36919,
     "status": "ok",
     "timestamp": 1578845170706,
     "user": {
      "displayName": "Rashi Khanna",
      "photoUrl": "https://lh3.googleusercontent.com/a-/AAuE7mDE9tqaJApZNwf0diKaprgyfGdCDJP_OzMjAg8KosA=s64",
      "userId": "05836433031738441465"
     },
     "user_tz": -330
    },
    "id": "rWa47XaSMH8W",
    "outputId": "550315b1-b17d-4c01-965e-a9111eefec50"
   },
   "outputs": [
    {
     "data": {
      "text/html": [
       "<div>\n",
       "<style scoped>\n",
       "    .dataframe tbody tr th:only-of-type {\n",
       "        vertical-align: middle;\n",
       "    }\n",
       "\n",
       "    .dataframe tbody tr th {\n",
       "        vertical-align: top;\n",
       "    }\n",
       "\n",
       "    .dataframe thead th {\n",
       "        text-align: right;\n",
       "    }\n",
       "</style>\n",
       "<table border=\"1\" class=\"dataframe\">\n",
       "  <thead>\n",
       "    <tr style=\"text-align: right;\">\n",
       "      <th></th>\n",
       "      <th>tweet_text</th>\n",
       "      <th>emotion_in_tweet_is_directed_at</th>\n",
       "      <th>is_there_an_emotion_directed_at_a_brand_or_product</th>\n",
       "    </tr>\n",
       "  </thead>\n",
       "  <tbody>\n",
       "    <tr>\n",
       "      <th>0</th>\n",
       "      <td>wesley83 i have a 3g iphone  after 3 hrs tweet...</td>\n",
       "      <td>iphone</td>\n",
       "      <td>0</td>\n",
       "    </tr>\n",
       "    <tr>\n",
       "      <th>1</th>\n",
       "      <td>jessedee know about  fludapp   awesome ipad ip...</td>\n",
       "      <td>ipad or iphone app</td>\n",
       "      <td>1</td>\n",
       "    </tr>\n",
       "    <tr>\n",
       "      <th>2</th>\n",
       "      <td>swonderlin can not wait for #ipad 2 also  they...</td>\n",
       "      <td>ipad</td>\n",
       "      <td>1</td>\n",
       "    </tr>\n",
       "    <tr>\n",
       "      <th>3</th>\n",
       "      <td>sxsw i hope this year s festival isn t as cras...</td>\n",
       "      <td>ipad or iphone app</td>\n",
       "      <td>0</td>\n",
       "    </tr>\n",
       "    <tr>\n",
       "      <th>4</th>\n",
       "      <td>sxtxstate great stuff on fri #sxsw  marissa ma...</td>\n",
       "      <td>google</td>\n",
       "      <td>1</td>\n",
       "    </tr>\n",
       "  </tbody>\n",
       "</table>\n",
       "</div>"
      ],
      "text/plain": [
       "                                          tweet_text  ... is_there_an_emotion_directed_at_a_brand_or_product\n",
       "0  wesley83 i have a 3g iphone  after 3 hrs tweet...  ...                                                  0\n",
       "1  jessedee know about  fludapp   awesome ipad ip...  ...                                                  1\n",
       "2  swonderlin can not wait for #ipad 2 also  they...  ...                                                  1\n",
       "3  sxsw i hope this year s festival isn t as cras...  ...                                                  0\n",
       "4  sxtxstate great stuff on fri #sxsw  marissa ma...  ...                                                  1\n",
       "\n",
       "[5 rows x 3 columns]"
      ]
     },
     "execution_count": 39,
     "metadata": {
      "tags": []
     },
     "output_type": "execute_result"
    }
   ],
   "source": [
    "tweets_df.head()"
   ]
  },
  {
   "cell_type": "markdown",
   "metadata": {
    "colab_type": "text",
    "id": "sC1qSe3h5sY2"
   },
   "source": [
    "## Question 5"
   ]
  },
  {
   "cell_type": "markdown",
   "metadata": {
    "colab_type": "text",
    "id": "aWlAN_Ts5sY2"
   },
   "source": [
    "### Get feature and label\n",
    "- get column \"tweet_text\" as feature\n",
    "- get column \"is_there_an_emotion_directed_at_a_brand_or_product\" as label"
   ]
  },
  {
   "cell_type": "code",
   "execution_count": 0,
   "metadata": {
    "colab": {},
    "colab_type": "code",
    "id": "9A3sOZzR5sY4"
   },
   "outputs": [],
   "source": [
    "X = tweets_df['tweet_text'] # Feature\n",
    "Y = tweets_df['is_there_an_emotion_directed_at_a_brand_or_product'] # Label / Target"
   ]
  },
  {
   "cell_type": "markdown",
   "metadata": {
    "colab_type": "text",
    "id": "3YErwYLCH0N_"
   },
   "source": [
    "### Create train and test data\n",
    "- use train_test_split to get train and test set\n",
    "- set a random_state\n",
    "- test_size: 0.25"
   ]
  },
  {
   "cell_type": "code",
   "execution_count": 0,
   "metadata": {
    "colab": {},
    "colab_type": "code",
    "id": "lNkwrGgEH0OA"
   },
   "outputs": [],
   "source": [
    "# Splitting into train and test datasets\n",
    "\n",
    "from sklearn.model_selection import train_test_split\n",
    "X_train_T, X_test_T, Y_train_T, Y_test_T = train_test_split(X, Y, test_size = 0.25, random_state = 47)"
   ]
  },
  {
   "cell_type": "markdown",
   "metadata": {
    "colab_type": "text",
    "id": "gMok2IX35sY8"
   },
   "source": [
    "## Question 6"
   ]
  },
  {
   "cell_type": "markdown",
   "metadata": {
    "colab_type": "text",
    "id": "dSqYjPuT5sY8"
   },
   "source": [
    "### Vectorize data\n",
    "- create document-term matrix\n",
    "- use CountVectorizer()\n",
    "    - ngram_range: (1, 2)\n",
    "    - stop_words: 'english'\n",
    "    - min_df: 2   \n",
    "- do fit_transform on X_train\n",
    "- do transform on X_test"
   ]
  },
  {
   "cell_type": "code",
   "execution_count": 0,
   "metadata": {
    "colab": {},
    "colab_type": "code",
    "id": "bb9PnnqT5sY8"
   },
   "outputs": [],
   "source": [
    "# Vectorizing the data\n",
    "\n",
    "from sklearn.feature_extraction.text import CountVectorizer\n",
    "vectorizer = CountVectorizer(stop_words='english', ngram_range=(1,2), min_df=2)\n",
    "X_train_Vect = vectorizer.fit_transform(X_train_T)\n",
    "X_test_Vect = vectorizer.transform(X_test_T)"
   ]
  },
  {
   "cell_type": "markdown",
   "metadata": {
    "colab_type": "text",
    "id": "qanDXve15sY_"
   },
   "source": [
    "## Question 7"
   ]
  },
  {
   "cell_type": "markdown",
   "metadata": {
    "colab_type": "text",
    "id": "uMaRNFkV5sY_"
   },
   "source": [
    "### Select classifier logistic regression\n",
    "- use logistic regression for predicting sentiment of the given tweet\n",
    "- initialize classifier"
   ]
  },
  {
   "cell_type": "code",
   "execution_count": 0,
   "metadata": {
    "colab": {},
    "colab_type": "code",
    "id": "GT3dNgB55sZA"
   },
   "outputs": [],
   "source": [
    "from sklearn.linear_model import LogisticRegression\n",
    "LR = LogisticRegression()"
   ]
  },
  {
   "cell_type": "markdown",
   "metadata": {
    "colab_type": "text",
    "id": "pqQ6_HX35sZD"
   },
   "source": [
    "### Fit the classifer\n",
    "- fit logistic regression classifier"
   ]
  },
  {
   "cell_type": "code",
   "execution_count": 0,
   "metadata": {
    "colab": {},
    "colab_type": "code",
    "id": "EIzvnNkq5sZD"
   },
   "outputs": [],
   "source": [
    "model_LR = LR.fit(X_train_Vect, Y_train_T)"
   ]
  },
  {
   "cell_type": "markdown",
   "metadata": {
    "colab_type": "text",
    "id": "SZpMsYQF5sZF"
   },
   "source": [
    "## Question 8"
   ]
  },
  {
   "cell_type": "markdown",
   "metadata": {
    "colab_type": "text",
    "id": "KGnQnUww5sZF"
   },
   "source": [
    "### Select classifier naive bayes\n",
    "- use naive bayes for predicting sentiment of the given tweet\n",
    "- initialize classifier\n",
    "- use MultinomialNB"
   ]
  },
  {
   "cell_type": "code",
   "execution_count": 0,
   "metadata": {
    "colab": {},
    "colab_type": "code",
    "id": "2AbVYssaH0OE"
   },
   "outputs": [],
   "source": [
    "from sklearn.naive_bayes import MultinomialNB\n",
    "MultNB = MultinomialNB()"
   ]
  },
  {
   "cell_type": "markdown",
   "metadata": {
    "colab_type": "text",
    "id": "QEaG942m5sZI"
   },
   "source": [
    "### Fit the classifer\n",
    "- fit naive bayes classifier"
   ]
  },
  {
   "cell_type": "code",
   "execution_count": 0,
   "metadata": {
    "colab": {},
    "colab_type": "code",
    "id": "rLwRBj1R5sZI"
   },
   "outputs": [],
   "source": [
    "model_MultNB = MultNB.fit(X_train_Vect, Y_train_T)"
   ]
  },
  {
   "cell_type": "markdown",
   "metadata": {
    "colab_type": "text",
    "id": "A7mgwYDJ5sZM"
   },
   "source": [
    "## Question 9"
   ]
  },
  {
   "cell_type": "markdown",
   "metadata": {
    "colab_type": "text",
    "id": "sZkA3tce5sZN"
   },
   "source": [
    "### Make predictions on logistic regression\n",
    "- use your trained logistic regression model to make predictions on X_test"
   ]
  },
  {
   "cell_type": "code",
   "execution_count": 0,
   "metadata": {
    "colab": {},
    "colab_type": "code",
    "id": "l3f0M1ch5sZO"
   },
   "outputs": [],
   "source": [
    "Y_pred_LR = model_LR.predict(X_test_Vect)"
   ]
  },
  {
   "cell_type": "markdown",
   "metadata": {
    "colab_type": "text",
    "id": "lrIxjMUB5sZQ"
   },
   "source": [
    "### Make predictions on naive bayes\n",
    "- use your trained naive bayes model to make predictions on X_test\n",
    "- use a different variable name to store predictions so that they are kept separately"
   ]
  },
  {
   "cell_type": "code",
   "execution_count": 0,
   "metadata": {
    "colab": {},
    "colab_type": "code",
    "id": "ZSQnwyLU5sZQ"
   },
   "outputs": [],
   "source": [
    "Y_pred_MultNB = model_MultNB.predict(X_test_Vect)"
   ]
  },
  {
   "cell_type": "markdown",
   "metadata": {
    "colab_type": "text",
    "id": "rwXQUE7b5sZS"
   },
   "source": [
    "## Question 10"
   ]
  },
  {
   "cell_type": "markdown",
   "metadata": {
    "colab_type": "text",
    "id": "E6SITIE75sZT"
   },
   "source": [
    "### Calculate accuracy of logistic regression\n",
    "- check accuracy of logistic regression classifer\n",
    "- use sklearn.metrics.accuracy_score"
   ]
  },
  {
   "cell_type": "code",
   "execution_count": 49,
   "metadata": {
    "colab": {
     "base_uri": "https://localhost:8080/",
     "height": 34
    },
    "colab_type": "code",
    "executionInfo": {
     "elapsed": 37295,
     "status": "ok",
     "timestamp": 1578845171182,
     "user": {
      "displayName": "Rashi Khanna",
      "photoUrl": "https://lh3.googleusercontent.com/a-/AAuE7mDE9tqaJApZNwf0diKaprgyfGdCDJP_OzMjAg8KosA=s64",
      "userId": "05836433031738441465"
     },
     "user_tz": -330
    },
    "id": "clv2X0kKH0Ok",
    "outputId": "a3c3e981-f38b-46c1-800d-c452c2887f51"
   },
   "outputs": [
    {
     "name": "stdout",
     "output_type": "stream",
     "text": [
      "The accuracy of Logistic Regression data is 87.59\n"
     ]
    }
   ],
   "source": [
    "accuracy_LR = accuracy_score(Y_test_T, Y_pred_LR)\n",
    "print(\"The accuracy of Logistic Regression data is\", round(accuracy_LR*100, 2))"
   ]
  },
  {
   "cell_type": "markdown",
   "metadata": {
    "colab_type": "text",
    "id": "1Fd_Gnd05sZV"
   },
   "source": [
    "### Calculate accuracy of naive bayes\n",
    "- check accuracy of naive bayes classifer\n",
    "- use sklearn.metrics.accuracy_score"
   ]
  },
  {
   "cell_type": "code",
   "execution_count": 50,
   "metadata": {
    "colab": {
     "base_uri": "https://localhost:8080/",
     "height": 34
    },
    "colab_type": "code",
    "executionInfo": {
     "elapsed": 37283,
     "status": "ok",
     "timestamp": 1578845171183,
     "user": {
      "displayName": "Rashi Khanna",
      "photoUrl": "https://lh3.googleusercontent.com/a-/AAuE7mDE9tqaJApZNwf0diKaprgyfGdCDJP_OzMjAg8KosA=s64",
      "userId": "05836433031738441465"
     },
     "user_tz": -330
    },
    "id": "d32uBpHi5sZW",
    "outputId": "18f3abf0-a2fc-488f-ac5d-1569fd986cb0"
   },
   "outputs": [
    {
     "name": "stdout",
     "output_type": "stream",
     "text": [
      "The accuracy of Logistic Regression data is 87.84\n"
     ]
    }
   ],
   "source": [
    "accuracy_MultNB = accuracy_score(Y_test_T, Y_pred_MultNB)\n",
    "print(\"The accuracy of Logistic Regression data is\", round(accuracy_MultNB*100, 2))"
   ]
  },
  {
   "cell_type": "code",
   "execution_count": 0,
   "metadata": {
    "colab": {},
    "colab_type": "code",
    "id": "PG4iNFsWgyvE"
   },
   "outputs": [],
   "source": []
  }
 ],
 "metadata": {
  "accelerator": "GPU",
  "colab": {
   "collapsed_sections": [],
   "name": "R8_Lab_Questions_Delhi.ipynb",
   "provenance": []
  },
  "kernelspec": {
   "display_name": "Python 3",
   "language": "python",
   "name": "python3"
  },
  "language_info": {
   "codemirror_mode": {
    "name": "ipython",
    "version": 3
   },
   "file_extension": ".py",
   "mimetype": "text/x-python",
   "name": "python",
   "nbconvert_exporter": "python",
   "pygments_lexer": "ipython3",
   "version": "3.7.3"
  }
 },
 "nbformat": 4,
 "nbformat_minor": 1
}
